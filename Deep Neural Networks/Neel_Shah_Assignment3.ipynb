{
 "cells": [
  {
   "cell_type": "markdown",
   "metadata": {},
   "source": [
    "#### Neel Shah NUID- 001029882 Assignment 3 "
   ]
  },
  {
   "cell_type": "markdown",
   "metadata": {},
   "source": [
    "### Part 1. Expand the basic code for building a DNN on the Pima Indian Diabetic Dataset to include:\n",
    "(a) pre-process the data by scaling/standardizing the 8 columns\n",
    "\n",
    "(b) Split the entire dataset into three parts instead of two as we currently do. One is train, two is validation, and then a test set. Build DNN model with train data, tune hyper-parameters with validation data, and finally evaluate performance on the test data.\n",
    "\n",
    "(c) Make Epoch versus train set accuracy, and validation set accuracy\n",
    "\n",
    "(d) Report results using nice ROC curves, report AUC values. Feel free to use code form our course, or from elsewhere\n",
    "\n",
    "(e) How would you increase dataset size? Try out at least two approaches and re-evaluate the model performance on this new and augmented dataset."
   ]
  },
  {
   "cell_type": "code",
   "execution_count": 1,
   "metadata": {},
   "outputs": [
    {
     "name": "stderr",
     "output_type": "stream",
     "text": [
      "Using TensorFlow backend.\n"
     ]
    }
   ],
   "source": [
    "'''Import necessary packages'''\n",
    "\n",
    "from keras.models import Sequential\n",
    "from keras.layers import Dense\n",
    "from sklearn.model_selection import train_test_split\n",
    "import seaborn as sns\n",
    "import numpy as np\n",
    "import pandas as pd\n",
    "from matplotlib import pyplot as plt\n",
    "from sklearn import preprocessing\n",
    "from sklearn.preprocessing import StandardScaler\n",
    "from keras.wrappers.scikit_learn import KerasClassifier\n",
    "from sklearn.model_selection import GridSearchCV\n",
    "from matplotlib import pyplot\n",
    "from sklearn.metrics import roc_curve, auc\n",
    "\n",
    "%matplotlib inline"
   ]
  },
  {
   "cell_type": "code",
   "execution_count": 2,
   "metadata": {},
   "outputs": [
    {
     "data": {
      "text/plain": [
       "'C:\\\\Users\\\\neell\\\\Documents\\\\DataScience\\\\Module9'"
      ]
     },
     "execution_count": 2,
     "metadata": {},
     "output_type": "execute_result"
    }
   ],
   "source": [
    "%pwd"
   ]
  },
  {
   "cell_type": "code",
   "execution_count": 3,
   "metadata": {},
   "outputs": [],
   "source": [
    "path = 'C:\\\\Users\\\\neell\\\\Documents\\\\DataScience\\\\Module9\\\\'"
   ]
  },
  {
   "cell_type": "code",
   "execution_count": 4,
   "metadata": {},
   "outputs": [
    {
     "name": "stdout",
     "output_type": "stream",
     "text": [
      "(768, 9)\n"
     ]
    },
    {
     "data": {
      "text/html": [
       "<div>\n",
       "<style scoped>\n",
       "    .dataframe tbody tr th:only-of-type {\n",
       "        vertical-align: middle;\n",
       "    }\n",
       "\n",
       "    .dataframe tbody tr th {\n",
       "        vertical-align: top;\n",
       "    }\n",
       "\n",
       "    .dataframe thead th {\n",
       "        text-align: right;\n",
       "    }\n",
       "</style>\n",
       "<table border=\"1\" class=\"dataframe\">\n",
       "  <thead>\n",
       "    <tr style=\"text-align: right;\">\n",
       "      <th></th>\n",
       "      <th>0</th>\n",
       "      <th>1</th>\n",
       "      <th>2</th>\n",
       "      <th>3</th>\n",
       "      <th>4</th>\n",
       "      <th>5</th>\n",
       "      <th>6</th>\n",
       "      <th>7</th>\n",
       "      <th>8</th>\n",
       "    </tr>\n",
       "  </thead>\n",
       "  <tbody>\n",
       "    <tr>\n",
       "      <th>0</th>\n",
       "      <td>6</td>\n",
       "      <td>148</td>\n",
       "      <td>72</td>\n",
       "      <td>35</td>\n",
       "      <td>0</td>\n",
       "      <td>33.6</td>\n",
       "      <td>0.627</td>\n",
       "      <td>50</td>\n",
       "      <td>1</td>\n",
       "    </tr>\n",
       "    <tr>\n",
       "      <th>1</th>\n",
       "      <td>1</td>\n",
       "      <td>85</td>\n",
       "      <td>66</td>\n",
       "      <td>29</td>\n",
       "      <td>0</td>\n",
       "      <td>26.6</td>\n",
       "      <td>0.351</td>\n",
       "      <td>31</td>\n",
       "      <td>0</td>\n",
       "    </tr>\n",
       "  </tbody>\n",
       "</table>\n",
       "</div>"
      ],
      "text/plain": [
       "   0    1   2   3  4     5      6   7  8\n",
       "0  6  148  72  35  0  33.6  0.627  50  1\n",
       "1  1   85  66  29  0  26.6  0.351  31  0"
      ]
     },
     "execution_count": 4,
     "metadata": {},
     "output_type": "execute_result"
    }
   ],
   "source": [
    "df = pd.read_csv(f'{path}/pima-indians-diabetes(2).data',header = None)\n",
    "print(df.shape)\n",
    "df.head(2)"
   ]
  },
  {
   "cell_type": "markdown",
   "metadata": {},
   "source": [
    "#### (a) pre-process the data by scaling/standardizing the 8 columns"
   ]
  },
  {
   "cell_type": "code",
   "execution_count": 5,
   "metadata": {},
   "outputs": [],
   "source": [
    "#Separate out X and Y\n",
    "\n",
    "X = df.iloc[:, :8]\n",
    "Y = df.iloc[:, 8:9]"
   ]
  },
  {
   "cell_type": "code",
   "execution_count": 6,
   "metadata": {},
   "outputs": [
    {
     "name": "stdout",
     "output_type": "stream",
     "text": [
      "(768, 9)\n"
     ]
    },
    {
     "data": {
      "text/html": [
       "<div>\n",
       "<style scoped>\n",
       "    .dataframe tbody tr th:only-of-type {\n",
       "        vertical-align: middle;\n",
       "    }\n",
       "\n",
       "    .dataframe tbody tr th {\n",
       "        vertical-align: top;\n",
       "    }\n",
       "\n",
       "    .dataframe thead th {\n",
       "        text-align: right;\n",
       "    }\n",
       "</style>\n",
       "<table border=\"1\" class=\"dataframe\">\n",
       "  <thead>\n",
       "    <tr style=\"text-align: right;\">\n",
       "      <th></th>\n",
       "      <th>0</th>\n",
       "      <th>1</th>\n",
       "      <th>2</th>\n",
       "      <th>3</th>\n",
       "      <th>4</th>\n",
       "      <th>5</th>\n",
       "      <th>6</th>\n",
       "      <th>7</th>\n",
       "      <th>8</th>\n",
       "    </tr>\n",
       "  </thead>\n",
       "  <tbody>\n",
       "    <tr>\n",
       "      <th>0</th>\n",
       "      <td>0.639947</td>\n",
       "      <td>0.848324</td>\n",
       "      <td>0.149641</td>\n",
       "      <td>0.907270</td>\n",
       "      <td>-0.692891</td>\n",
       "      <td>0.204013</td>\n",
       "      <td>0.468492</td>\n",
       "      <td>1.425995</td>\n",
       "      <td>1.365896</td>\n",
       "    </tr>\n",
       "    <tr>\n",
       "      <th>1</th>\n",
       "      <td>-0.844885</td>\n",
       "      <td>-1.123396</td>\n",
       "      <td>-0.160546</td>\n",
       "      <td>0.530902</td>\n",
       "      <td>-0.692891</td>\n",
       "      <td>-0.684422</td>\n",
       "      <td>-0.365061</td>\n",
       "      <td>-0.190672</td>\n",
       "      <td>-0.732120</td>\n",
       "    </tr>\n",
       "  </tbody>\n",
       "</table>\n",
       "</div>"
      ],
      "text/plain": [
       "          0         1         2         3         4         5         6  \\\n",
       "0  0.639947  0.848324  0.149641  0.907270 -0.692891  0.204013  0.468492   \n",
       "1 -0.844885 -1.123396 -0.160546  0.530902 -0.692891 -0.684422 -0.365061   \n",
       "\n",
       "          7         8  \n",
       "0  1.425995  1.365896  \n",
       "1 -0.190672 -0.732120  "
      ]
     },
     "execution_count": 6,
     "metadata": {},
     "output_type": "execute_result"
    }
   ],
   "source": [
    "#Scaling\n",
    "\n",
    "#subtract mean of that column from every value, then divide the results by the variable's standard deviation.\n",
    "scaler = preprocessing.StandardScaler().fit(df)\n",
    "df_sc = pd.DataFrame(scaler.transform(df))\n",
    "df_sc.columns = [0,1,2,3,4,5,6,7,8]\n",
    "print(df_sc.shape)\n",
    "df_sc.head(2)\n",
    "\n"
   ]
  },
  {
   "cell_type": "markdown",
   "metadata": {},
   "source": [
    "#### b.Split the entire dataset into three parts instead of two as we currently do. One is train, two is validation, and then a test set. Build DNN model with train data, tune hyper-parameters with validation data, and finally evaluate performance on the test data."
   ]
  },
  {
   "cell_type": "code",
   "execution_count": 7,
   "metadata": {},
   "outputs": [
    {
     "name": "stdout",
     "output_type": "stream",
     "text": [
      "(652, 8) (116, 8) (116, 8) (652, 1) (116, 1) (116, 1)\n"
     ]
    }
   ],
   "source": [
    "# Train- Test - Validation - Split\n",
    "(X_train, X_test, Y_train, Y_test) = train_test_split(X, Y, test_size=0.15, random_state=1)\n",
    "(X_train, X_val, Y_train, Y_val) = train_test_split(X, Y, test_size=0.15, random_state=1)\n",
    "\n",
    "print(X_train.shape,X_test.shape, X_val.shape,Y_train.shape,Y_test.shape,Y_val.shape)"
   ]
  },
  {
   "cell_type": "markdown",
   "metadata": {},
   "source": [
    "### Hyperparameter tuning"
   ]
  },
  {
   "cell_type": "code",
   "execution_count": 8,
   "metadata": {},
   "outputs": [],
   "source": [
    "#tuning batch size and epochs"
   ]
  },
  {
   "cell_type": "code",
   "execution_count": 9,
   "metadata": {},
   "outputs": [],
   "source": [
    "def create_model():\n",
    "    model = Sequential()\n",
    "    model.add(Dense(10, input_dim=8, kernel_initializer='uniform', activation='relu'))\n",
    "    model.add(Dense(6, kernel_initializer='uniform', activation='relu'))\n",
    "    model.add(Dense(1, kernel_initializer='uniform', activation='sigmoid'))\n",
    "    model.compile(loss='binary_crossentropy', optimizer='adam', metrics=['accuracy'])\n",
    "    return model"
   ]
  },
  {
   "cell_type": "code",
   "execution_count": 10,
   "metadata": {},
   "outputs": [],
   "source": [
    "# fix random seed for reproducibility\n",
    "seed = 7\n",
    "np.random.seed(seed)"
   ]
  },
  {
   "cell_type": "code",
   "execution_count": 11,
   "metadata": {},
   "outputs": [],
   "source": [
    "model = KerasClassifier(build_fn=create_model, verbose=0)"
   ]
  },
  {
   "cell_type": "code",
   "execution_count": 12,
   "metadata": {},
   "outputs": [],
   "source": [
    "# define the grid search parameters\n",
    "batch_size = [5,10, 20, 40, 60]\n",
    "epochs = [50, 100, 150]\n",
    "\n",
    "param_grid = dict(batch_size=batch_size, epochs=epochs)\n",
    "grid = GridSearchCV(estimator=model, param_grid=param_grid, n_jobs=-1, cv=3)\n",
    "grid_result = grid.fit(X_val, Y_val)"
   ]
  },
  {
   "cell_type": "code",
   "execution_count": 13,
   "metadata": {},
   "outputs": [
    {
     "name": "stdout",
     "output_type": "stream",
     "text": [
      "Best: 0.655421 using {'batch_size': 60, 'epochs': 150}\n"
     ]
    }
   ],
   "source": [
    "# summarize results\n",
    "print(\"Best: %f using %s\" % (grid_result.best_score_, grid_result.best_params_))\n"
   ]
  },
  {
   "cell_type": "code",
   "execution_count": 14,
   "metadata": {},
   "outputs": [],
   "source": [
    "means = grid_result.cv_results_['mean_test_score']\n",
    "stds = grid_result.cv_results_['std_test_score']\n",
    "params = grid_result.cv_results_['params']\n"
   ]
  },
  {
   "cell_type": "code",
   "execution_count": 15,
   "metadata": {},
   "outputs": [
    {
     "name": "stdout",
     "output_type": "stream",
     "text": [
      "0.594467 (0.036241) with: {'batch_size': 5, 'epochs': 50}\n",
      "0.629105 (0.045138) with: {'batch_size': 5, 'epochs': 100}\n",
      "0.612236 (0.017224) with: {'batch_size': 5, 'epochs': 150}\n",
      "0.603464 (0.010545) with: {'batch_size': 10, 'epochs': 50}\n",
      "0.620783 (0.007634) with: {'batch_size': 10, 'epochs': 100}\n",
      "0.612686 (0.072783) with: {'batch_size': 10, 'epochs': 150}\n",
      "0.603689 (0.019721) with: {'batch_size': 20, 'epochs': 50}\n",
      "0.586370 (0.016972) with: {'batch_size': 20, 'epochs': 100}\n",
      "0.603914 (0.049428) with: {'batch_size': 20, 'epochs': 150}\n",
      "0.620783 (0.022284) with: {'batch_size': 40, 'epochs': 50}\n",
      "0.620558 (0.033214) with: {'batch_size': 40, 'epochs': 100}\n",
      "0.577823 (0.028545) with: {'batch_size': 40, 'epochs': 150}\n",
      "0.620558 (0.033214) with: {'batch_size': 60, 'epochs': 50}\n",
      "0.646649 (0.022395) with: {'batch_size': 60, 'epochs': 100}\n",
      "0.655421 (0.029202) with: {'batch_size': 60, 'epochs': 150}\n"
     ]
    }
   ],
   "source": [
    "for mean, stdev, param in zip(means, stds, params):\n",
    "    print(\"%f (%f) with: %r\" % (mean, stdev, param))"
   ]
  },
  {
   "cell_type": "code",
   "execution_count": 16,
   "metadata": {},
   "outputs": [],
   "source": [
    "#Tuning optimizer\n",
    "def create_model(optimizer='adam',kernel_initializer='uniform'):\n",
    "    model = Sequential()\n",
    "    model.add(Dense(10, input_dim=8, kernel_initializer='uniform', activation='relu'))\n",
    "    model.add(Dense(6, kernel_initializer='uniform', activation='relu'))\n",
    "    model.add(Dense(1, kernel_initializer='uniform', activation='sigmoid'))\n",
    "    model.compile(loss='binary_crossentropy', optimizer=optimizer, metrics=['accuracy'])\n",
    "    return model"
   ]
  },
  {
   "cell_type": "code",
   "execution_count": 17,
   "metadata": {},
   "outputs": [],
   "source": [
    "# fix random seed for reproducibility\n",
    "seed = 7\n",
    "np.random.seed(seed)\n",
    "\n",
    "# create model\n",
    "model = KerasClassifier(build_fn=create_model, epochs=100, batch_size=5, verbose=0)\n",
    "# define the grid search parameters\n",
    "optimizer = ['SGD', 'RMSprop', 'Adagrad', 'Adadelta', 'Adam', 'Adamax', 'Nadam']\n",
    "kernel_initializer=['zeros','uniform','ones','random_uniform', 'truncated_normal','orthogonal']\n",
    "param_grid = dict(optimizer=optimizer, kernel_initializer=kernel_initializer)\n",
    "grid = GridSearchCV(estimator=model, param_grid=param_grid, n_jobs=-1, cv=3)\n",
    "grid_result = grid.fit(X_val, Y_val)"
   ]
  },
  {
   "cell_type": "code",
   "execution_count": 18,
   "metadata": {},
   "outputs": [
    {
     "name": "stdout",
     "output_type": "stream",
     "text": [
      "Best: 0.680612 using {'kernel_initializer': 'uniform', 'optimizer': 'Adamax'}\n"
     ]
    }
   ],
   "source": [
    "#Summarize results\n",
    "print(\"Best: %f using %s\" % (grid_result.best_score_, grid_result.best_params_))"
   ]
  },
  {
   "cell_type": "code",
   "execution_count": 19,
   "metadata": {},
   "outputs": [
    {
     "name": "stdout",
     "output_type": "stream",
     "text": [
      "0.645974 (0.056855) with: {'kernel_initializer': 'zeros', 'optimizer': 'SGD'}\n",
      "0.637652 (0.038868) with: {'kernel_initializer': 'zeros', 'optimizer': 'RMSprop'}\n",
      "0.646649 (0.042620) with: {'kernel_initializer': 'zeros', 'optimizer': 'Adagrad'}\n",
      "0.586595 (0.038080) with: {'kernel_initializer': 'zeros', 'optimizer': 'Adadelta'}\n",
      "0.621233 (0.049208) with: {'kernel_initializer': 'zeros', 'optimizer': 'Adam'}\n",
      "0.586145 (0.005089) with: {'kernel_initializer': 'zeros', 'optimizer': 'Adamax'}\n",
      "0.647548 (0.084387) with: {'kernel_initializer': 'zeros', 'optimizer': 'Nadam'}\n",
      "0.586370 (0.016972) with: {'kernel_initializer': 'uniform', 'optimizer': 'SGD'}\n",
      "0.603689 (0.028762) with: {'kernel_initializer': 'uniform', 'optimizer': 'RMSprop'}\n",
      "0.638327 (0.038613) with: {'kernel_initializer': 'uniform', 'optimizer': 'Adagrad'}\n",
      "0.620783 (0.022284) with: {'kernel_initializer': 'uniform', 'optimizer': 'Adadelta'}\n",
      "0.629780 (0.039887) with: {'kernel_initializer': 'uniform', 'optimizer': 'Adam'}\n",
      "0.680612 (0.081064) with: {'kernel_initializer': 'uniform', 'optimizer': 'Adamax'}\n",
      "0.646874 (0.041027) with: {'kernel_initializer': 'uniform', 'optimizer': 'Nadam'}\n",
      "0.646874 (0.041027) with: {'kernel_initializer': 'ones', 'optimizer': 'SGD'}\n",
      "0.638552 (0.051959) with: {'kernel_initializer': 'ones', 'optimizer': 'RMSprop'}\n",
      "0.621233 (0.044532) with: {'kernel_initializer': 'ones', 'optimizer': 'Adagrad'}\n",
      "0.595592 (0.070092) with: {'kernel_initializer': 'ones', 'optimizer': 'Adadelta'}\n",
      "0.629780 (0.039887) with: {'kernel_initializer': 'ones', 'optimizer': 'Adam'}\n",
      "0.646424 (0.053382) with: {'kernel_initializer': 'ones', 'optimizer': 'Adamax'}\n",
      "0.603914 (0.039580) with: {'kernel_initializer': 'ones', 'optimizer': 'Nadam'}\n",
      "0.595142 (0.027810) with: {'kernel_initializer': 'random_uniform', 'optimizer': 'SGD'}\n",
      "0.646649 (0.022395) with: {'kernel_initializer': 'random_uniform', 'optimizer': 'RMSprop'}\n",
      "0.629555 (0.028981) with: {'kernel_initializer': 'random_uniform', 'optimizer': 'Adagrad'}\n",
      "0.586820 (0.059262) with: {'kernel_initializer': 'random_uniform', 'optimizer': 'Adadelta'}\n",
      "0.621008 (0.028105) with: {'kernel_initializer': 'random_uniform', 'optimizer': 'Adam'}\n",
      "0.638102 (0.034381) with: {'kernel_initializer': 'random_uniform', 'optimizer': 'Adamax'}\n",
      "0.612686 (0.059532) with: {'kernel_initializer': 'random_uniform', 'optimizer': 'Nadam'}\n",
      "0.629780 (0.039887) with: {'kernel_initializer': 'truncated_normal', 'optimizer': 'SGD'}\n",
      "0.637652 (0.025181) with: {'kernel_initializer': 'truncated_normal', 'optimizer': 'RMSprop'}\n",
      "0.595367 (0.048920) with: {'kernel_initializer': 'truncated_normal', 'optimizer': 'Adagrad'}\n",
      "0.621008 (0.077779) with: {'kernel_initializer': 'truncated_normal', 'optimizer': 'Adadelta'}\n",
      "0.638102 (0.034381) with: {'kernel_initializer': 'truncated_normal', 'optimizer': 'Adam'}\n",
      "0.603914 (0.039580) with: {'kernel_initializer': 'truncated_normal', 'optimizer': 'Adamax'}\n",
      "0.612910 (0.093323) with: {'kernel_initializer': 'truncated_normal', 'optimizer': 'Nadam'}\n",
      "0.586370 (0.016972) with: {'kernel_initializer': 'orthogonal', 'optimizer': 'SGD'}\n",
      "0.646649 (0.022395) with: {'kernel_initializer': 'orthogonal', 'optimizer': 'RMSprop'}\n",
      "0.594917 (0.007316) with: {'kernel_initializer': 'orthogonal', 'optimizer': 'Adagrad'}\n",
      "0.595816 (0.091282) with: {'kernel_initializer': 'orthogonal', 'optimizer': 'Adadelta'}\n",
      "0.595592 (0.070092) with: {'kernel_initializer': 'orthogonal', 'optimizer': 'Adam'}\n",
      "0.620783 (0.007634) with: {'kernel_initializer': 'orthogonal', 'optimizer': 'Adamax'}\n",
      "0.560279 (0.021623) with: {'kernel_initializer': 'orthogonal', 'optimizer': 'Nadam'}\n"
     ]
    }
   ],
   "source": [
    "means = grid_result.cv_results_['mean_test_score']\n",
    "stds = grid_result.cv_results_['std_test_score']\n",
    "params = grid_result.cv_results_['params']\n",
    "for mean, stdev, param in zip(means, stds, params):\n",
    "    print(\"%f (%f) with: %r\" % (mean, stdev, param))"
   ]
  },
  {
   "cell_type": "markdown",
   "metadata": {},
   "source": [
    "### Build and compile a deep learning model"
   ]
  },
  {
   "cell_type": "code",
   "execution_count": 20,
   "metadata": {},
   "outputs": [],
   "source": [
    "# Build the deep neural network using the tuned parameters\n",
    "model1 = Sequential()\n",
    "model1.add(Dense(10, input_dim=8, kernel_initializer='uniform', activation='relu'))\n",
    "model1.add(Dense(6, kernel_initializer='uniform', activation='relu'))\n",
    "model1.add(Dense(1, kernel_initializer='uniform', activation='sigmoid'))"
   ]
  },
  {
   "cell_type": "code",
   "execution_count": 21,
   "metadata": {},
   "outputs": [],
   "source": [
    "# Compile the DNN\n",
    "model1.compile(loss='binary_crossentropy', optimizer='adamax', metrics=['accuracy'])"
   ]
  },
  {
   "cell_type": "markdown",
   "metadata": {},
   "source": [
    "#### c.Make Epoch versus train set accuracy, and validation set accuracy"
   ]
  },
  {
   "cell_type": "code",
   "execution_count": 22,
   "metadata": {},
   "outputs": [
    {
     "name": "stdout",
     "output_type": "stream",
     "text": [
      "Train on 652 samples, validate on 116 samples\n",
      "Epoch 1/100\n",
      "652/652 [==============================] - 0s 722us/step - loss: 0.6751 - accuracy: 0.6518 - val_loss: 0.6693 - val_accuracy: 0.6466\n",
      "Epoch 2/100\n",
      "652/652 [==============================] - 0s 375us/step - loss: 0.6596 - accuracy: 0.6518 - val_loss: 0.6707 - val_accuracy: 0.6466\n",
      "Epoch 3/100\n",
      "652/652 [==============================] - 0s 404us/step - loss: 0.6501 - accuracy: 0.6518 - val_loss: 0.6643 - val_accuracy: 0.6466\n",
      "Epoch 4/100\n",
      "652/652 [==============================] - 0s 443us/step - loss: 0.6358 - accuracy: 0.6733 - val_loss: 0.6658 - val_accuracy: 0.6638\n",
      "Epoch 5/100\n",
      "652/652 [==============================] - 0s 383us/step - loss: 0.6314 - accuracy: 0.6672 - val_loss: 0.6580 - val_accuracy: 0.6552\n",
      "Epoch 6/100\n",
      "652/652 [==============================] - 0s 328us/step - loss: 0.6114 - accuracy: 0.6794 - val_loss: 0.6626 - val_accuracy: 0.6121\n",
      "Epoch 7/100\n",
      "652/652 [==============================] - 0s 332us/step - loss: 0.6082 - accuracy: 0.6810 - val_loss: 0.6513 - val_accuracy: 0.6207\n",
      "Epoch 8/100\n",
      "652/652 [==============================] - 0s 292us/step - loss: 0.6000 - accuracy: 0.6887 - val_loss: 0.6642 - val_accuracy: 0.6466\n",
      "Epoch 9/100\n",
      "652/652 [==============================] - 0s 331us/step - loss: 0.6003 - accuracy: 0.6994 - val_loss: 0.6384 - val_accuracy: 0.6638\n",
      "Epoch 10/100\n",
      "652/652 [==============================] - 0s 371us/step - loss: 0.5939 - accuracy: 0.6933 - val_loss: 0.6358 - val_accuracy: 0.6724\n",
      "Epoch 11/100\n",
      "652/652 [==============================] - 0s 333us/step - loss: 0.5911 - accuracy: 0.6887 - val_loss: 0.6313 - val_accuracy: 0.6638\n",
      "Epoch 12/100\n",
      "652/652 [==============================] - 0s 311us/step - loss: 0.5883 - accuracy: 0.6933 - val_loss: 0.6506 - val_accuracy: 0.6466\n",
      "Epoch 13/100\n",
      "652/652 [==============================] - 0s 323us/step - loss: 0.5843 - accuracy: 0.7055 - val_loss: 0.6303 - val_accuracy: 0.6983\n",
      "Epoch 14/100\n",
      "652/652 [==============================] - 0s 333us/step - loss: 0.5836 - accuracy: 0.7025 - val_loss: 0.6244 - val_accuracy: 0.7155\n",
      "Epoch 15/100\n",
      "652/652 [==============================] - 0s 318us/step - loss: 0.5781 - accuracy: 0.7040 - val_loss: 0.6427 - val_accuracy: 0.6638\n",
      "Epoch 16/100\n",
      "652/652 [==============================] - 0s 320us/step - loss: 0.5778 - accuracy: 0.7086 - val_loss: 0.6416 - val_accuracy: 0.6724\n",
      "Epoch 17/100\n",
      "652/652 [==============================] - 0s 335us/step - loss: 0.5769 - accuracy: 0.7025 - val_loss: 0.6246 - val_accuracy: 0.7155\n",
      "Epoch 18/100\n",
      "652/652 [==============================] - 0s 366us/step - loss: 0.5741 - accuracy: 0.7055 - val_loss: 0.6248 - val_accuracy: 0.6810\n",
      "Epoch 19/100\n",
      "652/652 [==============================] - 0s 369us/step - loss: 0.5741 - accuracy: 0.7025 - val_loss: 0.6327 - val_accuracy: 0.6552\n",
      "Epoch 20/100\n",
      "652/652 [==============================] - 0s 280us/step - loss: 0.5754 - accuracy: 0.7025 - val_loss: 0.6163 - val_accuracy: 0.6897\n",
      "Epoch 21/100\n",
      "652/652 [==============================] - 0s 312us/step - loss: 0.5747 - accuracy: 0.7224 - val_loss: 0.6138 - val_accuracy: 0.7069\n",
      "Epoch 22/100\n",
      "652/652 [==============================] - 0s 295us/step - loss: 0.5697 - accuracy: 0.7009 - val_loss: 0.6232 - val_accuracy: 0.6983\n",
      "Epoch 23/100\n",
      "652/652 [==============================] - 0s 255us/step - loss: 0.5671 - accuracy: 0.7224 - val_loss: 0.6281 - val_accuracy: 0.7069\n",
      "Epoch 24/100\n",
      "652/652 [==============================] - 0s 248us/step - loss: 0.5728 - accuracy: 0.6871 - val_loss: 0.6231 - val_accuracy: 0.6810\n",
      "Epoch 25/100\n",
      "652/652 [==============================] - 0s 255us/step - loss: 0.5649 - accuracy: 0.7086 - val_loss: 0.6173 - val_accuracy: 0.6810\n",
      "Epoch 26/100\n",
      "652/652 [==============================] - 0s 252us/step - loss: 0.5613 - accuracy: 0.7178 - val_loss: 0.6246 - val_accuracy: 0.7328\n",
      "Epoch 27/100\n",
      "652/652 [==============================] - 0s 276us/step - loss: 0.5650 - accuracy: 0.6994 - val_loss: 0.6292 - val_accuracy: 0.7328\n",
      "Epoch 28/100\n",
      "652/652 [==============================] - 0s 285us/step - loss: 0.5597 - accuracy: 0.7071 - val_loss: 0.6171 - val_accuracy: 0.6810\n",
      "Epoch 29/100\n",
      "652/652 [==============================] - 0s 247us/step - loss: 0.5612 - accuracy: 0.7132 - val_loss: 0.6101 - val_accuracy: 0.6810\n",
      "Epoch 30/100\n",
      "652/652 [==============================] - 0s 255us/step - loss: 0.5596 - accuracy: 0.7055 - val_loss: 0.6117 - val_accuracy: 0.6810\n",
      "Epoch 31/100\n",
      "652/652 [==============================] - 0s 255us/step - loss: 0.5547 - accuracy: 0.7163 - val_loss: 0.6141 - val_accuracy: 0.7069\n",
      "Epoch 32/100\n",
      "652/652 [==============================] - 0s 271us/step - loss: 0.5576 - accuracy: 0.7163 - val_loss: 0.6141 - val_accuracy: 0.7414\n",
      "Epoch 33/100\n",
      "652/652 [==============================] - 0s 279us/step - loss: 0.5580 - accuracy: 0.7178 - val_loss: 0.6291 - val_accuracy: 0.6983\n",
      "Epoch 34/100\n",
      "652/652 [==============================] - 0s 318us/step - loss: 0.5593 - accuracy: 0.7163 - val_loss: 0.6049 - val_accuracy: 0.7155\n",
      "Epoch 35/100\n",
      "652/652 [==============================] - 0s 278us/step - loss: 0.5541 - accuracy: 0.7239 - val_loss: 0.6068 - val_accuracy: 0.7155\n",
      "Epoch 36/100\n",
      "652/652 [==============================] - 0s 311us/step - loss: 0.5537 - accuracy: 0.7147 - val_loss: 0.6043 - val_accuracy: 0.7069\n",
      "Epoch 37/100\n",
      "652/652 [==============================] - 0s 253us/step - loss: 0.5539 - accuracy: 0.7193 - val_loss: 0.6106 - val_accuracy: 0.7155\n",
      "Epoch 38/100\n",
      "652/652 [==============================] - 0s 246us/step - loss: 0.5508 - accuracy: 0.7239 - val_loss: 0.6129 - val_accuracy: 0.7328\n",
      "Epoch 39/100\n",
      "652/652 [==============================] - 0s 251us/step - loss: 0.5474 - accuracy: 0.7209 - val_loss: 0.6059 - val_accuracy: 0.7155\n",
      "Epoch 40/100\n",
      "652/652 [==============================] - 0s 277us/step - loss: 0.5516 - accuracy: 0.7301 - val_loss: 0.6084 - val_accuracy: 0.7241\n",
      "Epoch 41/100\n",
      "652/652 [==============================] - 0s 276us/step - loss: 0.5528 - accuracy: 0.7301 - val_loss: 0.6026 - val_accuracy: 0.7155\n",
      "Epoch 42/100\n",
      "652/652 [==============================] - 0s 254us/step - loss: 0.5448 - accuracy: 0.7239 - val_loss: 0.6125 - val_accuracy: 0.6810\n",
      "Epoch 43/100\n",
      "652/652 [==============================] - 0s 258us/step - loss: 0.5491 - accuracy: 0.7209 - val_loss: 0.5953 - val_accuracy: 0.6983\n",
      "Epoch 44/100\n",
      "652/652 [==============================] - 0s 248us/step - loss: 0.5490 - accuracy: 0.7285 - val_loss: 0.6008 - val_accuracy: 0.7241\n",
      "Epoch 45/100\n",
      "652/652 [==============================] - 0s 253us/step - loss: 0.5461 - accuracy: 0.7193 - val_loss: 0.6092 - val_accuracy: 0.6983\n",
      "Epoch 46/100\n",
      "652/652 [==============================] - 0s 251us/step - loss: 0.5440 - accuracy: 0.7285 - val_loss: 0.5959 - val_accuracy: 0.7241\n",
      "Epoch 47/100\n",
      "652/652 [==============================] - 0s 298us/step - loss: 0.5437 - accuracy: 0.7408 - val_loss: 0.5904 - val_accuracy: 0.7155\n",
      "Epoch 48/100\n",
      "652/652 [==============================] - 0s 289us/step - loss: 0.5425 - accuracy: 0.7224 - val_loss: 0.5941 - val_accuracy: 0.7155\n",
      "Epoch 49/100\n",
      "652/652 [==============================] - 0s 307us/step - loss: 0.5364 - accuracy: 0.7377 - val_loss: 0.5984 - val_accuracy: 0.7241\n",
      "Epoch 50/100\n",
      "652/652 [==============================] - 0s 277us/step - loss: 0.5354 - accuracy: 0.7439 - val_loss: 0.5893 - val_accuracy: 0.7328\n",
      "Epoch 51/100\n",
      "652/652 [==============================] - 0s 335us/step - loss: 0.5382 - accuracy: 0.7469 - val_loss: 0.5867 - val_accuracy: 0.7155\n",
      "Epoch 52/100\n",
      "652/652 [==============================] - 0s 338us/step - loss: 0.5351 - accuracy: 0.7347 - val_loss: 0.5890 - val_accuracy: 0.7328\n",
      "Epoch 53/100\n",
      "652/652 [==============================] - ETA: 0s - loss: 0.5335 - accuracy: 0.74 - 0s 304us/step - loss: 0.5345 - accuracy: 0.7393 - val_loss: 0.5898 - val_accuracy: 0.7241\n",
      "Epoch 54/100\n",
      "652/652 [==============================] - 0s 263us/step - loss: 0.5260 - accuracy: 0.7469 - val_loss: 0.5961 - val_accuracy: 0.7500\n",
      "Epoch 55/100\n",
      "652/652 [==============================] - 0s 265us/step - loss: 0.5321 - accuracy: 0.7423 - val_loss: 0.5929 - val_accuracy: 0.7328\n",
      "Epoch 56/100\n"
     ]
    },
    {
     "name": "stdout",
     "output_type": "stream",
     "text": [
      "652/652 [==============================] - 0s 249us/step - loss: 0.5300 - accuracy: 0.7347 - val_loss: 0.5847 - val_accuracy: 0.7069\n",
      "Epoch 57/100\n",
      "652/652 [==============================] - 0s 267us/step - loss: 0.5314 - accuracy: 0.7301 - val_loss: 0.5876 - val_accuracy: 0.7069\n",
      "Epoch 58/100\n",
      "652/652 [==============================] - 0s 248us/step - loss: 0.5295 - accuracy: 0.7362 - val_loss: 0.5826 - val_accuracy: 0.7414\n",
      "Epoch 59/100\n",
      "652/652 [==============================] - 0s 259us/step - loss: 0.5278 - accuracy: 0.7393 - val_loss: 0.5865 - val_accuracy: 0.7155\n",
      "Epoch 60/100\n",
      "652/652 [==============================] - 0s 275us/step - loss: 0.5272 - accuracy: 0.7423 - val_loss: 0.5770 - val_accuracy: 0.7241\n",
      "Epoch 61/100\n",
      "652/652 [==============================] - 0s 250us/step - loss: 0.5215 - accuracy: 0.7469 - val_loss: 0.5906 - val_accuracy: 0.7500\n",
      "Epoch 62/100\n",
      "652/652 [==============================] - 0s 241us/step - loss: 0.5271 - accuracy: 0.7393 - val_loss: 0.5836 - val_accuracy: 0.7155\n",
      "Epoch 63/100\n",
      "652/652 [==============================] - 0s 235us/step - loss: 0.5218 - accuracy: 0.7439 - val_loss: 0.5768 - val_accuracy: 0.7069\n",
      "Epoch 64/100\n",
      "652/652 [==============================] - 0s 248us/step - loss: 0.5276 - accuracy: 0.7469 - val_loss: 0.5765 - val_accuracy: 0.7414\n",
      "Epoch 65/100\n",
      "652/652 [==============================] - 0s 288us/step - loss: 0.5230 - accuracy: 0.7423 - val_loss: 0.5788 - val_accuracy: 0.7414\n",
      "Epoch 66/100\n",
      "652/652 [==============================] - 0s 392us/step - loss: 0.5203 - accuracy: 0.7577 - val_loss: 0.5970 - val_accuracy: 0.7241\n",
      "Epoch 67/100\n",
      "652/652 [==============================] - 0s 322us/step - loss: 0.5250 - accuracy: 0.7531 - val_loss: 0.5727 - val_accuracy: 0.7241\n",
      "Epoch 68/100\n",
      "652/652 [==============================] - 0s 326us/step - loss: 0.5215 - accuracy: 0.7439 - val_loss: 0.5709 - val_accuracy: 0.7155\n",
      "Epoch 69/100\n",
      "652/652 [==============================] - 0s 329us/step - loss: 0.5201 - accuracy: 0.7561 - val_loss: 0.5757 - val_accuracy: 0.7586\n",
      "Epoch 70/100\n",
      "652/652 [==============================] - 0s 335us/step - loss: 0.5127 - accuracy: 0.7515 - val_loss: 0.5833 - val_accuracy: 0.7586\n",
      "Epoch 71/100\n",
      "652/652 [==============================] - 0s 294us/step - loss: 0.5184 - accuracy: 0.7485 - val_loss: 0.5728 - val_accuracy: 0.7500\n",
      "Epoch 72/100\n",
      "652/652 [==============================] - 0s 288us/step - loss: 0.5147 - accuracy: 0.7485 - val_loss: 0.5801 - val_accuracy: 0.7586\n",
      "Epoch 73/100\n",
      "652/652 [==============================] - 0s 289us/step - loss: 0.5143 - accuracy: 0.7500 - val_loss: 0.5727 - val_accuracy: 0.7586\n",
      "Epoch 74/100\n",
      "652/652 [==============================] - 0s 257us/step - loss: 0.5106 - accuracy: 0.7500 - val_loss: 0.6299 - val_accuracy: 0.7328\n",
      "Epoch 75/100\n",
      "652/652 [==============================] - 0s 247us/step - loss: 0.5199 - accuracy: 0.7316 - val_loss: 0.5562 - val_accuracy: 0.7500\n",
      "Epoch 76/100\n",
      "652/652 [==============================] - 0s 245us/step - loss: 0.5084 - accuracy: 0.7393 - val_loss: 0.5815 - val_accuracy: 0.7586\n",
      "Epoch 77/100\n",
      "652/652 [==============================] - 0s 240us/step - loss: 0.5093 - accuracy: 0.7485 - val_loss: 0.5656 - val_accuracy: 0.7500\n",
      "Epoch 78/100\n",
      "652/652 [==============================] - 0s 260us/step - loss: 0.5143 - accuracy: 0.7485 - val_loss: 0.5859 - val_accuracy: 0.6983\n",
      "Epoch 79/100\n",
      "652/652 [==============================] - 0s 252us/step - loss: 0.5112 - accuracy: 0.7592 - val_loss: 0.5623 - val_accuracy: 0.7328\n",
      "Epoch 80/100\n",
      "652/652 [==============================] - 0s 263us/step - loss: 0.5054 - accuracy: 0.7561 - val_loss: 0.5709 - val_accuracy: 0.7672\n",
      "Epoch 81/100\n",
      "652/652 [==============================] - 0s 271us/step - loss: 0.5061 - accuracy: 0.7638 - val_loss: 0.5687 - val_accuracy: 0.7500\n",
      "Epoch 82/100\n",
      "652/652 [==============================] - ETA: 0s - loss: 0.5001 - accuracy: 0.76 - 0s 272us/step - loss: 0.5023 - accuracy: 0.7592 - val_loss: 0.5532 - val_accuracy: 0.7328\n",
      "Epoch 83/100\n",
      "652/652 [==============================] - 0s 276us/step - loss: 0.5002 - accuracy: 0.7699 - val_loss: 0.5575 - val_accuracy: 0.7241\n",
      "Epoch 84/100\n",
      "652/652 [==============================] - 0s 272us/step - loss: 0.5049 - accuracy: 0.7730 - val_loss: 0.5663 - val_accuracy: 0.7241\n",
      "Epoch 85/100\n",
      "652/652 [==============================] - 0s 273us/step - loss: 0.5072 - accuracy: 0.7561 - val_loss: 0.5550 - val_accuracy: 0.7586\n",
      "Epoch 86/100\n",
      "652/652 [==============================] - 0s 280us/step - loss: 0.5012 - accuracy: 0.7776 - val_loss: 0.5555 - val_accuracy: 0.7759\n",
      "Epoch 87/100\n",
      "652/652 [==============================] - 0s 256us/step - loss: 0.5011 - accuracy: 0.7577 - val_loss: 0.5503 - val_accuracy: 0.7500\n",
      "Epoch 88/100\n",
      "652/652 [==============================] - 0s 246us/step - loss: 0.4984 - accuracy: 0.7715 - val_loss: 0.5687 - val_accuracy: 0.7672\n",
      "Epoch 89/100\n",
      "652/652 [==============================] - 0s 262us/step - loss: 0.5022 - accuracy: 0.7592 - val_loss: 0.5420 - val_accuracy: 0.7759\n",
      "Epoch 90/100\n",
      "652/652 [==============================] - 0s 271us/step - loss: 0.4964 - accuracy: 0.7577 - val_loss: 0.5650 - val_accuracy: 0.7500\n",
      "Epoch 91/100\n",
      "652/652 [==============================] - 0s 252us/step - loss: 0.4900 - accuracy: 0.7745 - val_loss: 0.5525 - val_accuracy: 0.7500\n",
      "Epoch 92/100\n",
      "652/652 [==============================] - 0s 240us/step - loss: 0.4931 - accuracy: 0.7592 - val_loss: 0.5453 - val_accuracy: 0.7586\n",
      "Epoch 93/100\n",
      "652/652 [==============================] - 0s 247us/step - loss: 0.4923 - accuracy: 0.7715 - val_loss: 0.5524 - val_accuracy: 0.7672\n",
      "Epoch 94/100\n",
      "652/652 [==============================] - 0s 277us/step - loss: 0.4909 - accuracy: 0.7638 - val_loss: 0.5561 - val_accuracy: 0.7500\n",
      "Epoch 95/100\n",
      "652/652 [==============================] - 0s 251us/step - loss: 0.4904 - accuracy: 0.7730 - val_loss: 0.5640 - val_accuracy: 0.7586\n",
      "Epoch 96/100\n",
      "652/652 [==============================] - 0s 240us/step - loss: 0.4978 - accuracy: 0.7592 - val_loss: 0.5577 - val_accuracy: 0.7672\n",
      "Epoch 97/100\n",
      "652/652 [==============================] - 0s 245us/step - loss: 0.4872 - accuracy: 0.7638 - val_loss: 0.5577 - val_accuracy: 0.7672\n",
      "Epoch 98/100\n",
      "652/652 [==============================] - 0s 242us/step - loss: 0.4998 - accuracy: 0.7592 - val_loss: 0.5447 - val_accuracy: 0.7500\n",
      "Epoch 99/100\n",
      "652/652 [==============================] - 0s 255us/step - loss: 0.4984 - accuracy: 0.7531 - val_loss: 0.5474 - val_accuracy: 0.7845\n",
      "Epoch 100/100\n",
      "652/652 [==============================] - 0s 263us/step - loss: 0.4943 - accuracy: 0.7715 - val_loss: 0.5462 - val_accuracy: 0.7586\n"
     ]
    }
   ],
   "source": [
    "# Fit the DNN with your train data\n",
    "\n",
    "history=model1.fit(X_train, Y_train, validation_data=(X_val, Y_val), epochs=100, batch_size=5)"
   ]
  },
  {
   "cell_type": "code",
   "execution_count": 23,
   "metadata": {},
   "outputs": [
    {
     "name": "stdout",
     "output_type": "stream",
     "text": [
      "116/116 [==============================] - 0s 43us/step\n",
      "Accuracy: 75.86%\n"
     ]
    }
   ],
   "source": [
    "# Evaluate the model\n",
    "scores = model1.evaluate(X_val, Y_val)\n",
    "print (\"Accuracy: %.2f%%\" %(scores[1]*100))"
   ]
  },
  {
   "cell_type": "code",
   "execution_count": 24,
   "metadata": {},
   "outputs": [
    {
     "data": {
      "image/png": "[encoded data removed]",
      "text/plain": [
       "<Figure size 432x288 with 2 Axes>"
      ]
     },
     "metadata": {
      "needs_background": "light"
     },
     "output_type": "display_data"
    }
   ],
   "source": [
    "# plot loss during training\n",
    "pyplot.subplot(211)\n",
    "pyplot.title('Loss')\n",
    "pyplot.plot(history.history['loss'], label='train')\n",
    "pyplot.plot(history.history['val_loss'], label='test')\n",
    "pyplot.legend()\n",
    "# plot accuracy during training\n",
    "pyplot.subplot(212)\n",
    "pyplot.title('Accuracy')\n",
    "pyplot.plot(history.history['accuracy'], label='train')\n",
    "pyplot.plot(history.history['val_accuracy'], label='test')\n",
    "pyplot.legend()\n",
    "pyplot.show()"
   ]
  },
  {
   "cell_type": "markdown",
   "metadata": {},
   "source": [
    "#### d.Report results using nice ROC curves, report AUC values. Feel free to use code form our course, or from elsewhere"
   ]
  },
  {
   "cell_type": "code",
   "execution_count": 25,
   "metadata": {},
   "outputs": [
    {
     "data": {
      "text/plain": [
       "<matplotlib.legend.Legend at 0x16599bb8a20>"
      ]
     },
     "execution_count": 25,
     "metadata": {},
     "output_type": "execute_result"
    },
    {
     "data": {
      "image/png": "[encoded data removed]",
      "text/plain": [
       "<Figure size 864x432 with 1 Axes>"
      ]
     },
     "metadata": {
      "needs_background": "light"
     },
     "output_type": "display_data"
    }
   ],
   "source": [
    "predict_probability = model1.predict_proba(X_test)[:]\n",
    "FPR, TPR, threshold = roc_curve(Y_test, predict_probability)\n",
    "\n",
    "plt.figure(figsize=(12,6))\n",
    "plt.plot(FPR,TPR)\n",
    "plt.xlim([0.0,1.0])\n",
    "plt.ylim([0.0,1.0])\n",
    "plt.plot([0,1], [0,1], color = 'pink', linewidth = 2.2)\n",
    "plt.plot(FPR,TPR, linewidth = 2.2, label = 'AUC = %.2f' % auc(FPR,TPR))\n",
    "plt.xlabel('FPR')\n",
    "plt.ylabel('TPR')\n",
    "plt.title('ROC Curve')\n",
    "plt.grid(True)\n",
    "plt.legend(loc = \"center right\")"
   ]
  },
  {
   "cell_type": "markdown",
   "metadata": {},
   "source": [
    "#### e. How would you increase dataset size? Try out at least two approaches and re-evaluate the model performance on this new and augmented dataset."
   ]
  },
  {
   "cell_type": "markdown",
   "metadata": {},
   "source": [
    "### Using RandomOverSampler to mitigate imbalance in the dataset and increase Data Size"
   ]
  },
  {
   "cell_type": "code",
   "execution_count": 26,
   "metadata": {},
   "outputs": [],
   "source": [
    "from imblearn.over_sampling import RandomOverSampler\n",
    "rdsmple = RandomOverSampler()\n",
    "x_sampled,y_sampled  = rdsmple.fit_sample(X,Y)\n"
   ]
  },
  {
   "cell_type": "code",
   "execution_count": 27,
   "metadata": {},
   "outputs": [
    {
     "name": "stdout",
     "output_type": "stream",
     "text": [
      "(850, 8) (150, 8) (150, 8) (850, 1) (150, 1) (150, 1)\n"
     ]
    }
   ],
   "source": [
    "# Train- Test - Validation - Split\n",
    "(X_train1, X_test1, Y_train1, Y_test1) = train_test_split(x_sampled, y_sampled, test_size=0.15, random_state=1)\n",
    "(X_train1, X_val1, Y_train1, Y_val1) = train_test_split(x_sampled, y_sampled, test_size=0.15, random_state=1)\n",
    "\n",
    "print(X_train1.shape,X_test1.shape, X_val1.shape,Y_train1.shape,Y_test1.shape,Y_val1.shape)"
   ]
  },
  {
   "cell_type": "code",
   "execution_count": 28,
   "metadata": {},
   "outputs": [
    {
     "name": "stdout",
     "output_type": "stream",
     "text": [
      "Train on 850 samples, validate on 150 samples\n",
      "Epoch 1/100\n",
      "850/850 [==============================] - 0s 285us/step - loss: 0.5199 - accuracy: 0.7776 - val_loss: 0.5766 - val_accuracy: 0.7333\n",
      "Epoch 2/100\n",
      "850/850 [==============================] - 0s 281us/step - loss: 0.5114 - accuracy: 0.7612 - val_loss: 0.5454 - val_accuracy: 0.7533\n",
      "Epoch 3/100\n",
      "850/850 [==============================] - 0s 280us/step - loss: 0.5128 - accuracy: 0.7694 - val_loss: 0.5626 - val_accuracy: 0.7533\n",
      "Epoch 4/100\n",
      "850/850 [==============================] - 0s 262us/step - loss: 0.5103 - accuracy: 0.7600 - val_loss: 0.6211 - val_accuracy: 0.6800\n",
      "Epoch 5/100\n",
      "850/850 [==============================] - 0s 289us/step - loss: 0.5173 - accuracy: 0.7471 - val_loss: 0.5916 - val_accuracy: 0.6933\n",
      "Epoch 6/100\n",
      "850/850 [==============================] - 0s 253us/step - loss: 0.5152 - accuracy: 0.7659 - val_loss: 0.5600 - val_accuracy: 0.7467\n",
      "Epoch 7/100\n",
      "850/850 [==============================] - 0s 257us/step - loss: 0.5059 - accuracy: 0.7671 - val_loss: 0.5682 - val_accuracy: 0.7467\n",
      "Epoch 8/100\n",
      "850/850 [==============================] - 0s 251us/step - loss: 0.5112 - accuracy: 0.7624 - val_loss: 0.5697 - val_accuracy: 0.7133\n",
      "Epoch 9/100\n",
      "850/850 [==============================] - 0s 244us/step - loss: 0.5195 - accuracy: 0.7494 - val_loss: 0.5547 - val_accuracy: 0.7533\n",
      "Epoch 10/100\n",
      "850/850 [==============================] - 0s 277us/step - loss: 0.5083 - accuracy: 0.7553 - val_loss: 0.6120 - val_accuracy: 0.6733\n",
      "Epoch 11/100\n",
      "850/850 [==============================] - 0s 263us/step - loss: 0.5083 - accuracy: 0.7612 - val_loss: 0.5434 - val_accuracy: 0.7333\n",
      "Epoch 12/100\n",
      "850/850 [==============================] - 0s 248us/step - loss: 0.5061 - accuracy: 0.7612 - val_loss: 0.5563 - val_accuracy: 0.7400\n",
      "Epoch 13/100\n",
      "850/850 [==============================] - 0s 251us/step - loss: 0.5025 - accuracy: 0.7694 - val_loss: 0.5568 - val_accuracy: 0.7333\n",
      "Epoch 14/100\n",
      "850/850 [==============================] - 0s 248us/step - loss: 0.4955 - accuracy: 0.7565 - val_loss: 0.5990 - val_accuracy: 0.6667\n",
      "Epoch 15/100\n",
      "850/850 [==============================] - 0s 273us/step - loss: 0.5023 - accuracy: 0.7694 - val_loss: 0.5595 - val_accuracy: 0.7400\n",
      "Epoch 16/100\n",
      "850/850 [==============================] - 0s 273us/step - loss: 0.4990 - accuracy: 0.7741 - val_loss: 0.5776 - val_accuracy: 0.7267\n",
      "Epoch 17/100\n",
      "850/850 [==============================] - 0s 271us/step - loss: 0.5030 - accuracy: 0.7553 - val_loss: 0.5382 - val_accuracy: 0.7400\n",
      "Epoch 18/100\n",
      "850/850 [==============================] - 0s 254us/step - loss: 0.5043 - accuracy: 0.7659 - val_loss: 0.5399 - val_accuracy: 0.7467\n",
      "Epoch 19/100\n",
      "850/850 [==============================] - 0s 245us/step - loss: 0.5011 - accuracy: 0.7694 - val_loss: 0.5343 - val_accuracy: 0.7533\n",
      "Epoch 20/100\n",
      "850/850 [==============================] - 0s 263us/step - loss: 0.4968 - accuracy: 0.7718 - val_loss: 0.5423 - val_accuracy: 0.7600\n",
      "Epoch 21/100\n",
      "850/850 [==============================] - 0s 263us/step - loss: 0.5039 - accuracy: 0.7682 - val_loss: 0.5359 - val_accuracy: 0.7400\n",
      "Epoch 22/100\n",
      "850/850 [==============================] - 0s 285us/step - loss: 0.4985 - accuracy: 0.7600 - val_loss: 0.5499 - val_accuracy: 0.7400\n",
      "Epoch 23/100\n",
      "850/850 [==============================] - 0s 276us/step - loss: 0.5021 - accuracy: 0.7612 - val_loss: 0.5295 - val_accuracy: 0.7667\n",
      "Epoch 24/100\n",
      "850/850 [==============================] - 0s 296us/step - loss: 0.4963 - accuracy: 0.7765 - val_loss: 0.5289 - val_accuracy: 0.7667\n",
      "Epoch 25/100\n",
      "850/850 [==============================] - 0s 290us/step - loss: 0.4972 - accuracy: 0.7682 - val_loss: 0.5447 - val_accuracy: 0.7400\n",
      "Epoch 26/100\n",
      "850/850 [==============================] - 0s 293us/step - loss: 0.4962 - accuracy: 0.7718 - val_loss: 0.5887 - val_accuracy: 0.7000\n",
      "Epoch 27/100\n",
      "850/850 [==============================] - 0s 269us/step - loss: 0.4925 - accuracy: 0.7765 - val_loss: 0.5309 - val_accuracy: 0.7733\n",
      "Epoch 28/100\n",
      "850/850 [==============================] - 0s 296us/step - loss: 0.4979 - accuracy: 0.7682 - val_loss: 0.5558 - val_accuracy: 0.7267\n",
      "Epoch 29/100\n",
      "850/850 [==============================] - 0s 285us/step - loss: 0.4935 - accuracy: 0.7729 - val_loss: 0.5521 - val_accuracy: 0.7200\n",
      "Epoch 30/100\n",
      "850/850 [==============================] - 0s 257us/step - loss: 0.4922 - accuracy: 0.7659 - val_loss: 0.5279 - val_accuracy: 0.7867\n",
      "Epoch 31/100\n",
      "850/850 [==============================] - 0s 266us/step - loss: 0.4940 - accuracy: 0.7682 - val_loss: 0.5478 - val_accuracy: 0.7400\n",
      "Epoch 32/100\n",
      "850/850 [==============================] - 0s 271us/step - loss: 0.4929 - accuracy: 0.7800 - val_loss: 0.5261 - val_accuracy: 0.7867\n",
      "Epoch 33/100\n",
      "850/850 [==============================] - 0s 263us/step - loss: 0.5024 - accuracy: 0.7600 - val_loss: 0.5335 - val_accuracy: 0.7667\n",
      "Epoch 34/100\n",
      "850/850 [==============================] - 0s 286us/step - loss: 0.4922 - accuracy: 0.7753 - val_loss: 0.5287 - val_accuracy: 0.7467\n",
      "Epoch 35/100\n",
      "850/850 [==============================] - 0s 260us/step - loss: 0.4939 - accuracy: 0.7694 - val_loss: 0.5252 - val_accuracy: 0.7867\n",
      "Epoch 36/100\n",
      "850/850 [==============================] - 0s 305us/step - loss: 0.4890 - accuracy: 0.7682 - val_loss: 0.5621 - val_accuracy: 0.7200\n",
      "Epoch 37/100\n",
      "850/850 [==============================] - 0s 277us/step - loss: 0.4889 - accuracy: 0.7800 - val_loss: 0.5593 - val_accuracy: 0.7267\n",
      "Epoch 38/100\n",
      "850/850 [==============================] - 0s 344us/step - loss: 0.4862 - accuracy: 0.7635 - val_loss: 0.5705 - val_accuracy: 0.7200\n",
      "Epoch 39/100\n",
      "850/850 [==============================] - 0s 358us/step - loss: 0.4943 - accuracy: 0.7671 - val_loss: 0.5415 - val_accuracy: 0.7533\n",
      "Epoch 40/100\n",
      "850/850 [==============================] - 0s 330us/step - loss: 0.4912 - accuracy: 0.7741 - val_loss: 0.5422 - val_accuracy: 0.7333\n",
      "Epoch 41/100\n",
      "850/850 [==============================] - 0s 363us/step - loss: 0.4888 - accuracy: 0.7753 - val_loss: 0.5466 - val_accuracy: 0.7333\n",
      "Epoch 42/100\n",
      "850/850 [==============================] - 0s 286us/step - loss: 0.4873 - accuracy: 0.7788 - val_loss: 0.5825 - val_accuracy: 0.6867\n",
      "Epoch 43/100\n",
      "850/850 [==============================] - 0s 313us/step - loss: 0.4873 - accuracy: 0.7729 - val_loss: 0.5253 - val_accuracy: 0.7467\n",
      "Epoch 44/100\n",
      "850/850 [==============================] - 0s 314us/step - loss: 0.4851 - accuracy: 0.7647 - val_loss: 0.6015 - val_accuracy: 0.6800\n",
      "Epoch 45/100\n",
      "850/850 [==============================] - 0s 281us/step - loss: 0.4909 - accuracy: 0.7729 - val_loss: 0.5870 - val_accuracy: 0.6733\n",
      "Epoch 46/100\n",
      "850/850 [==============================] - 0s 270us/step - loss: 0.4904 - accuracy: 0.7776 - val_loss: 0.5258 - val_accuracy: 0.7667\n",
      "Epoch 47/100\n",
      "850/850 [==============================] - 0s 293us/step - loss: 0.4844 - accuracy: 0.7788 - val_loss: 0.5428 - val_accuracy: 0.7400\n",
      "Epoch 48/100\n",
      "850/850 [==============================] - 0s 257us/step - loss: 0.4846 - accuracy: 0.7788 - val_loss: 0.5284 - val_accuracy: 0.7333\n",
      "Epoch 49/100\n",
      "850/850 [==============================] - 0s 281us/step - loss: 0.4810 - accuracy: 0.7812 - val_loss: 0.5202 - val_accuracy: 0.7800\n",
      "Epoch 50/100\n",
      "850/850 [==============================] - 0s 257us/step - loss: 0.4824 - accuracy: 0.7682 - val_loss: 0.5161 - val_accuracy: 0.7600\n",
      "Epoch 51/100\n",
      "850/850 [==============================] - 0s 260us/step - loss: 0.4840 - accuracy: 0.7859 - val_loss: 0.5853 - val_accuracy: 0.6867\n",
      "Epoch 52/100\n",
      "850/850 [==============================] - 0s 289us/step - loss: 0.4878 - accuracy: 0.7706 - val_loss: 0.5638 - val_accuracy: 0.7133\n",
      "Epoch 53/100\n",
      "850/850 [==============================] - 0s 309us/step - loss: 0.4847 - accuracy: 0.7718 - val_loss: 0.5297 - val_accuracy: 0.7267\n",
      "Epoch 54/100\n",
      "850/850 [==============================] - 0s 266us/step - loss: 0.4921 - accuracy: 0.7659 - val_loss: 0.5495 - val_accuracy: 0.7133\n",
      "Epoch 55/100\n",
      "850/850 [==============================] - 0s 303us/step - loss: 0.4881 - accuracy: 0.7812 - val_loss: 0.5399 - val_accuracy: 0.7467\n",
      "Epoch 56/100\n",
      "850/850 [==============================] - 0s 255us/step - loss: 0.4844 - accuracy: 0.7800 - val_loss: 0.5263 - val_accuracy: 0.7667\n"
     ]
    },
    {
     "name": "stdout",
     "output_type": "stream",
     "text": [
      "Epoch 57/100\n",
      "850/850 [==============================] - 0s 248us/step - loss: 0.4889 - accuracy: 0.7718 - val_loss: 0.5730 - val_accuracy: 0.7267\n",
      "Epoch 58/100\n",
      "850/850 [==============================] - 0s 317us/step - loss: 0.4889 - accuracy: 0.7729 - val_loss: 0.5218 - val_accuracy: 0.7600\n",
      "Epoch 59/100\n",
      "850/850 [==============================] - 0s 354us/step - loss: 0.4852 - accuracy: 0.7706 - val_loss: 0.5712 - val_accuracy: 0.6733\n",
      "Epoch 60/100\n",
      "850/850 [==============================] - 0s 352us/step - loss: 0.4869 - accuracy: 0.7741 - val_loss: 0.5332 - val_accuracy: 0.7400\n",
      "Epoch 61/100\n",
      "850/850 [==============================] - 0s 286us/step - loss: 0.4881 - accuracy: 0.7812 - val_loss: 0.5205 - val_accuracy: 0.7533\n",
      "Epoch 62/100\n",
      "850/850 [==============================] - 0s 315us/step - loss: 0.4806 - accuracy: 0.7706 - val_loss: 0.5292 - val_accuracy: 0.7400\n",
      "Epoch 63/100\n",
      "850/850 [==============================] - 0s 281us/step - loss: 0.4800 - accuracy: 0.7835 - val_loss: 0.5528 - val_accuracy: 0.7200\n",
      "Epoch 64/100\n",
      "850/850 [==============================] - 0s 285us/step - loss: 0.4836 - accuracy: 0.7741 - val_loss: 0.5594 - val_accuracy: 0.7133\n",
      "Epoch 65/100\n",
      "850/850 [==============================] - 0s 269us/step - loss: 0.4833 - accuracy: 0.7659 - val_loss: 0.5163 - val_accuracy: 0.7667\n",
      "Epoch 66/100\n",
      "850/850 [==============================] - 0s 281us/step - loss: 0.4807 - accuracy: 0.7753 - val_loss: 0.5128 - val_accuracy: 0.7800\n",
      "Epoch 67/100\n",
      "850/850 [==============================] - 0s 306us/step - loss: 0.4866 - accuracy: 0.7682 - val_loss: 0.5304 - val_accuracy: 0.7533\n",
      "Epoch 68/100\n",
      "850/850 [==============================] - 0s 297us/step - loss: 0.4732 - accuracy: 0.7741 - val_loss: 0.5238 - val_accuracy: 0.7600\n",
      "Epoch 69/100\n",
      "850/850 [==============================] - 0s 240us/step - loss: 0.4822 - accuracy: 0.7694 - val_loss: 0.5185 - val_accuracy: 0.7733\n",
      "Epoch 70/100\n",
      "850/850 [==============================] - 0s 243us/step - loss: 0.4812 - accuracy: 0.7741 - val_loss: 0.5111 - val_accuracy: 0.7667\n",
      "Epoch 71/100\n",
      "850/850 [==============================] - 0s 276us/step - loss: 0.4787 - accuracy: 0.7882 - val_loss: 0.5088 - val_accuracy: 0.7733\n",
      "Epoch 72/100\n",
      "850/850 [==============================] - 0s 293us/step - loss: 0.4832 - accuracy: 0.7800 - val_loss: 0.5228 - val_accuracy: 0.7600\n",
      "Epoch 73/100\n",
      "850/850 [==============================] - 0s 244us/step - loss: 0.4811 - accuracy: 0.7776 - val_loss: 0.5089 - val_accuracy: 0.7667\n",
      "Epoch 74/100\n",
      "850/850 [==============================] - 0s 280us/step - loss: 0.4771 - accuracy: 0.7776 - val_loss: 0.5319 - val_accuracy: 0.7467\n",
      "Epoch 75/100\n",
      "850/850 [==============================] - 0s 248us/step - loss: 0.4746 - accuracy: 0.7729 - val_loss: 0.5275 - val_accuracy: 0.7467\n",
      "Epoch 76/100\n",
      "850/850 [==============================] - 0s 259us/step - loss: 0.4883 - accuracy: 0.7694 - val_loss: 0.5117 - val_accuracy: 0.7800\n",
      "Epoch 77/100\n",
      "850/850 [==============================] - 0s 249us/step - loss: 0.4692 - accuracy: 0.7847 - val_loss: 0.5068 - val_accuracy: 0.7733\n",
      "Epoch 78/100\n",
      "850/850 [==============================] - 0s 280us/step - loss: 0.4831 - accuracy: 0.7753 - val_loss: 0.5207 - val_accuracy: 0.7667\n",
      "Epoch 79/100\n",
      "850/850 [==============================] - 0s 301us/step - loss: 0.4871 - accuracy: 0.7635 - val_loss: 0.5121 - val_accuracy: 0.7733\n",
      "Epoch 80/100\n",
      "850/850 [==============================] - 0s 274us/step - loss: 0.4747 - accuracy: 0.7800 - val_loss: 0.5151 - val_accuracy: 0.7533\n",
      "Epoch 81/100\n",
      "850/850 [==============================] - 0s 257us/step - loss: 0.4793 - accuracy: 0.7847 - val_loss: 0.5385 - val_accuracy: 0.7333\n",
      "Epoch 82/100\n",
      "850/850 [==============================] - 0s 277us/step - loss: 0.4785 - accuracy: 0.7788 - val_loss: 0.5084 - val_accuracy: 0.7733\n",
      "Epoch 83/100\n",
      "850/850 [==============================] - 0s 260us/step - loss: 0.4776 - accuracy: 0.7847 - val_loss: 0.5499 - val_accuracy: 0.7333\n",
      "Epoch 84/100\n",
      "850/850 [==============================] - 0s 253us/step - loss: 0.4806 - accuracy: 0.7729 - val_loss: 0.5254 - val_accuracy: 0.7400\n",
      "Epoch 85/100\n",
      "850/850 [==============================] - 0s 250us/step - loss: 0.4717 - accuracy: 0.7871 - val_loss: 0.5523 - val_accuracy: 0.7067\n",
      "Epoch 86/100\n",
      "850/850 [==============================] - 0s 241us/step - loss: 0.4793 - accuracy: 0.7765 - val_loss: 0.5393 - val_accuracy: 0.7533\n",
      "Epoch 87/100\n",
      "850/850 [==============================] - 0s 266us/step - loss: 0.4754 - accuracy: 0.7835 - val_loss: 0.5324 - val_accuracy: 0.7400\n",
      "Epoch 88/100\n",
      "850/850 [==============================] - 0s 257us/step - loss: 0.4672 - accuracy: 0.7871 - val_loss: 0.5577 - val_accuracy: 0.7267\n",
      "Epoch 89/100\n",
      "850/850 [==============================] - 0s 244us/step - loss: 0.4722 - accuracy: 0.7871 - val_loss: 0.5349 - val_accuracy: 0.7333\n",
      "Epoch 90/100\n",
      "850/850 [==============================] - 0s 249us/step - loss: 0.4745 - accuracy: 0.7776 - val_loss: 0.5090 - val_accuracy: 0.7667\n",
      "Epoch 91/100\n",
      "850/850 [==============================] - 0s 242us/step - loss: 0.4706 - accuracy: 0.7835 - val_loss: 0.5096 - val_accuracy: 0.7733\n",
      "Epoch 92/100\n",
      "850/850 [==============================] - 0s 263us/step - loss: 0.4761 - accuracy: 0.7847 - val_loss: 0.5509 - val_accuracy: 0.7133\n",
      "Epoch 93/100\n",
      "850/850 [==============================] - 0s 246us/step - loss: 0.4780 - accuracy: 0.7659 - val_loss: 0.5329 - val_accuracy: 0.7600\n",
      "Epoch 94/100\n",
      "850/850 [==============================] - 0s 238us/step - loss: 0.4798 - accuracy: 0.7671 - val_loss: 0.5170 - val_accuracy: 0.7667\n",
      "Epoch 95/100\n",
      "850/850 [==============================] - 0s 249us/step - loss: 0.4724 - accuracy: 0.7847 - val_loss: 0.5607 - val_accuracy: 0.7000\n",
      "Epoch 96/100\n",
      "850/850 [==============================] - 0s 243us/step - loss: 0.4760 - accuracy: 0.7729 - val_loss: 0.5436 - val_accuracy: 0.7200\n",
      "Epoch 97/100\n",
      "850/850 [==============================] - 0s 242us/step - loss: 0.4685 - accuracy: 0.7835 - val_loss: 0.5265 - val_accuracy: 0.7333\n",
      "Epoch 98/100\n",
      "850/850 [==============================] - 0s 261us/step - loss: 0.4754 - accuracy: 0.7671 - val_loss: 0.5695 - val_accuracy: 0.7133\n",
      "Epoch 99/100\n",
      "850/850 [==============================] - 0s 247us/step - loss: 0.4786 - accuracy: 0.7741 - val_loss: 0.5117 - val_accuracy: 0.7533\n",
      "Epoch 100/100\n",
      "850/850 [==============================] - 0s 251us/step - loss: 0.4776 - accuracy: 0.7859 - val_loss: 0.5157 - val_accuracy: 0.7600\n"
     ]
    }
   ],
   "source": [
    "history1=model1.fit(X_train1, Y_train1, validation_data=(X_val1, Y_val1), epochs=100, batch_size=5)"
   ]
  },
  {
   "cell_type": "code",
   "execution_count": 29,
   "metadata": {},
   "outputs": [
    {
     "name": "stdout",
     "output_type": "stream",
     "text": [
      "150/150 [==============================] - 0s 33us/step\n",
      "Accuracy: 76.00%\n"
     ]
    }
   ],
   "source": [
    "scores = model1.evaluate(X_val1, Y_val1)\n",
    "print (\"Accuracy: %.2f%%\" %(scores[1]*100))"
   ]
  },
  {
   "cell_type": "markdown",
   "metadata": {},
   "source": [
    "### Using Smote to increase dataset size"
   ]
  },
  {
   "cell_type": "code",
   "execution_count": 30,
   "metadata": {},
   "outputs": [],
   "source": [
    "from imblearn.over_sampling import SMOTE"
   ]
  },
  {
   "cell_type": "code",
   "execution_count": 31,
   "metadata": {},
   "outputs": [],
   "source": [
    "smote = SMOTE()\n",
    "# fit predictor and target variable\n",
    "x_smote, y_smote = smote.fit_resample(X, Y)\n",
    "y_smote = y_smote.rename(columns={8: \"label\"})\n"
   ]
  },
  {
   "cell_type": "code",
   "execution_count": 32,
   "metadata": {},
   "outputs": [
    {
     "name": "stdout",
     "output_type": "stream",
     "text": [
      "(768, 8) (768, 1)\n",
      "(1000, 8) (1000, 1)\n"
     ]
    }
   ],
   "source": [
    "print(X.shape,Y.shape)\n",
    "print(x_smote.shape,y_smote.shape)"
   ]
  },
  {
   "cell_type": "code",
   "execution_count": 33,
   "metadata": {},
   "outputs": [
    {
     "name": "stdout",
     "output_type": "stream",
     "text": [
      "       label\n",
      "label       \n",
      "0        500\n",
      "1        500\n"
     ]
    }
   ],
   "source": [
    "a = y_smote.groupby([\"label\"]).agg({\"label\":'count'})\n",
    "print(a)"
   ]
  },
  {
   "cell_type": "code",
   "execution_count": 34,
   "metadata": {},
   "outputs": [
    {
     "data": {
      "text/plain": [
       "<AxesSubplot:xlabel='label'>"
      ]
     },
     "execution_count": 34,
     "metadata": {},
     "output_type": "execute_result"
    },
    {
     "data": {
      "image/png": "[encoded data removed]",
      "text/plain": [
       "<Figure size 432x288 with 1 Axes>"
      ]
     },
     "metadata": {
      "needs_background": "light"
     },
     "output_type": "display_data"
    }
   ],
   "source": [
    "a.plot.bar()"
   ]
  },
  {
   "cell_type": "code",
   "execution_count": 35,
   "metadata": {},
   "outputs": [
    {
     "name": "stdout",
     "output_type": "stream",
     "text": [
      "(850, 8) (150, 8) (150, 8) (850, 1) (150, 1) (150, 1)\n"
     ]
    }
   ],
   "source": [
    "# Train- Test - Validation - Split\n",
    "(X_train2, X_test2, Y_train2, Y_test2) = train_test_split(x_smote, y_smote, test_size=0.15, random_state=1)\n",
    "(X_train2, X_val2, Y_train2, Y_val2) = train_test_split(x_smote, y_smote, test_size=0.15, random_state=1)\n",
    "\n",
    "print(X_train2.shape,X_test2.shape, X_val2.shape,Y_train2.shape,Y_test2.shape,Y_val2.shape)"
   ]
  },
  {
   "cell_type": "code",
   "execution_count": 36,
   "metadata": {},
   "outputs": [
    {
     "name": "stdout",
     "output_type": "stream",
     "text": [
      "Train on 850 samples, validate on 150 samples\n",
      "Epoch 1/100\n",
      "850/850 [==============================] - 0s 295us/step - loss: 0.4699 - accuracy: 0.7847 - val_loss: 0.4895 - val_accuracy: 0.7733\n",
      "Epoch 2/100\n",
      "850/850 [==============================] - 0s 253us/step - loss: 0.4707 - accuracy: 0.7800 - val_loss: 0.5284 - val_accuracy: 0.7200\n",
      "Epoch 3/100\n",
      "850/850 [==============================] - 0s 255us/step - loss: 0.4663 - accuracy: 0.7812 - val_loss: 0.5289 - val_accuracy: 0.7667\n",
      "Epoch 4/100\n",
      "850/850 [==============================] - 0s 337us/step - loss: 0.4743 - accuracy: 0.7800 - val_loss: 0.5069 - val_accuracy: 0.7400\n",
      "Epoch 5/100\n",
      "850/850 [==============================] - 0s 364us/step - loss: 0.4678 - accuracy: 0.7729 - val_loss: 0.5084 - val_accuracy: 0.7400\n",
      "Epoch 6/100\n",
      "850/850 [==============================] - 0s 381us/step - loss: 0.4628 - accuracy: 0.7965 - val_loss: 0.5211 - val_accuracy: 0.7267\n",
      "Epoch 7/100\n",
      "850/850 [==============================] - 0s 445us/step - loss: 0.4678 - accuracy: 0.7906 - val_loss: 0.4996 - val_accuracy: 0.7400\n",
      "Epoch 8/100\n",
      "850/850 [==============================] - 0s 364us/step - loss: 0.4663 - accuracy: 0.7906 - val_loss: 0.5113 - val_accuracy: 0.7267\n",
      "Epoch 9/100\n",
      "850/850 [==============================] - 0s 285us/step - loss: 0.4668 - accuracy: 0.7788 - val_loss: 0.5058 - val_accuracy: 0.7733\n",
      "Epoch 10/100\n",
      "850/850 [==============================] - 0s 380us/step - loss: 0.4678 - accuracy: 0.7882 - val_loss: 0.5292 - val_accuracy: 0.7267\n",
      "Epoch 11/100\n",
      "850/850 [==============================] - 0s 309us/step - loss: 0.4629 - accuracy: 0.7859 - val_loss: 0.5046 - val_accuracy: 0.7600\n",
      "Epoch 12/100\n",
      "850/850 [==============================] - 0s 313us/step - loss: 0.4701 - accuracy: 0.7929 - val_loss: 0.5248 - val_accuracy: 0.7333\n",
      "Epoch 13/100\n",
      "850/850 [==============================] - 0s 292us/step - loss: 0.4630 - accuracy: 0.7859 - val_loss: 0.4936 - val_accuracy: 0.7533\n",
      "Epoch 14/100\n",
      "850/850 [==============================] - 0s 364us/step - loss: 0.4585 - accuracy: 0.7894 - val_loss: 0.5965 - val_accuracy: 0.7000\n",
      "Epoch 15/100\n",
      "850/850 [==============================] - 0s 266us/step - loss: 0.4608 - accuracy: 0.7824 - val_loss: 0.5504 - val_accuracy: 0.7067\n",
      "Epoch 16/100\n",
      "850/850 [==============================] - 0s 338us/step - loss: 0.4691 - accuracy: 0.7800 - val_loss: 0.4992 - val_accuracy: 0.7467\n",
      "Epoch 17/100\n",
      "850/850 [==============================] - 0s 247us/step - loss: 0.4597 - accuracy: 0.8024 - val_loss: 0.5222 - val_accuracy: 0.7267\n",
      "Epoch 18/100\n",
      "850/850 [==============================] - 0s 255us/step - loss: 0.4703 - accuracy: 0.7929 - val_loss: 0.4947 - val_accuracy: 0.7733\n",
      "Epoch 19/100\n",
      "850/850 [==============================] - 0s 301us/step - loss: 0.4612 - accuracy: 0.7847 - val_loss: 0.4937 - val_accuracy: 0.7600\n",
      "Epoch 20/100\n",
      "850/850 [==============================] - 0s 263us/step - loss: 0.4657 - accuracy: 0.7824 - val_loss: 0.5549 - val_accuracy: 0.6933\n",
      "Epoch 21/100\n",
      "850/850 [==============================] - 0s 242us/step - loss: 0.4631 - accuracy: 0.7894 - val_loss: 0.4974 - val_accuracy: 0.7533\n",
      "Epoch 22/100\n",
      "850/850 [==============================] - 0s 245us/step - loss: 0.4679 - accuracy: 0.7941 - val_loss: 0.4853 - val_accuracy: 0.7600\n",
      "Epoch 23/100\n",
      "850/850 [==============================] - 0s 262us/step - loss: 0.4629 - accuracy: 0.7953 - val_loss: 0.4895 - val_accuracy: 0.7600\n",
      "Epoch 24/100\n",
      "850/850 [==============================] - 0s 253us/step - loss: 0.4622 - accuracy: 0.7953 - val_loss: 0.4958 - val_accuracy: 0.7867\n",
      "Epoch 25/100\n",
      "850/850 [==============================] - 0s 243us/step - loss: 0.4626 - accuracy: 0.7906 - val_loss: 0.5217 - val_accuracy: 0.7333\n",
      "Epoch 26/100\n",
      "850/850 [==============================] - 0s 242us/step - loss: 0.4625 - accuracy: 0.7824 - val_loss: 0.4847 - val_accuracy: 0.7600\n",
      "Epoch 27/100\n",
      "850/850 [==============================] - 0s 247us/step - loss: 0.4582 - accuracy: 0.8047 - val_loss: 0.5270 - val_accuracy: 0.7267\n",
      "Epoch 28/100\n",
      "850/850 [==============================] - 0s 284us/step - loss: 0.4620 - accuracy: 0.7953 - val_loss: 0.4980 - val_accuracy: 0.7400\n",
      "Epoch 29/100\n",
      "850/850 [==============================] - 0s 249us/step - loss: 0.4616 - accuracy: 0.8000 - val_loss: 0.4811 - val_accuracy: 0.7667\n",
      "Epoch 30/100\n",
      "850/850 [==============================] - 0s 249us/step - loss: 0.4523 - accuracy: 0.7941 - val_loss: 0.5101 - val_accuracy: 0.7200\n",
      "Epoch 31/100\n",
      "850/850 [==============================] - 0s 249us/step - loss: 0.4616 - accuracy: 0.7976 - val_loss: 0.5014 - val_accuracy: 0.7600\n",
      "Epoch 32/100\n",
      "850/850 [==============================] - 0s 313us/step - loss: 0.4639 - accuracy: 0.7788 - val_loss: 0.4840 - val_accuracy: 0.7533\n",
      "Epoch 33/100\n",
      "850/850 [==============================] - 0s 286us/step - loss: 0.4621 - accuracy: 0.7847 - val_loss: 0.5098 - val_accuracy: 0.7667\n",
      "Epoch 34/100\n",
      "850/850 [==============================] - 0s 262us/step - loss: 0.4606 - accuracy: 0.7965 - val_loss: 0.5126 - val_accuracy: 0.7267\n",
      "Epoch 35/100\n",
      "850/850 [==============================] - 0s 249us/step - loss: 0.4589 - accuracy: 0.7871 - val_loss: 0.5073 - val_accuracy: 0.7533\n",
      "Epoch 36/100\n",
      "850/850 [==============================] - 0s 256us/step - loss: 0.4692 - accuracy: 0.7800 - val_loss: 0.4844 - val_accuracy: 0.7533\n",
      "Epoch 37/100\n",
      "850/850 [==============================] - 0s 241us/step - loss: 0.4645 - accuracy: 0.7965 - val_loss: 0.5306 - val_accuracy: 0.7133\n",
      "Epoch 38/100\n",
      "850/850 [==============================] - 0s 313us/step - loss: 0.4600 - accuracy: 0.8059 - val_loss: 0.5115 - val_accuracy: 0.7333\n",
      "Epoch 39/100\n",
      "850/850 [==============================] - 0s 259us/step - loss: 0.4531 - accuracy: 0.7929 - val_loss: 0.5216 - val_accuracy: 0.7267\n",
      "Epoch 40/100\n",
      "850/850 [==============================] - 0s 249us/step - loss: 0.4637 - accuracy: 0.7882 - val_loss: 0.4927 - val_accuracy: 0.7800\n",
      "Epoch 41/100\n",
      "850/850 [==============================] - 0s 246us/step - loss: 0.4631 - accuracy: 0.7835 - val_loss: 0.5019 - val_accuracy: 0.7533\n",
      "Epoch 42/100\n",
      "850/850 [==============================] - 0s 246us/step - loss: 0.4643 - accuracy: 0.7871 - val_loss: 0.5226 - val_accuracy: 0.7333\n",
      "Epoch 43/100\n",
      "850/850 [==============================] - 0s 274us/step - loss: 0.4663 - accuracy: 0.7824 - val_loss: 0.5124 - val_accuracy: 0.7333\n",
      "Epoch 44/100\n",
      "850/850 [==============================] - 0s 273us/step - loss: 0.4646 - accuracy: 0.7894 - val_loss: 0.5008 - val_accuracy: 0.7467\n",
      "Epoch 45/100\n",
      "850/850 [==============================] - 0s 321us/step - loss: 0.4545 - accuracy: 0.8012 - val_loss: 0.5139 - val_accuracy: 0.7333\n",
      "Epoch 46/100\n",
      "850/850 [==============================] - 0s 248us/step - loss: 0.4532 - accuracy: 0.7965 - val_loss: 0.4992 - val_accuracy: 0.7400\n",
      "Epoch 47/100\n",
      "850/850 [==============================] - 0s 249us/step - loss: 0.4560 - accuracy: 0.7953 - val_loss: 0.4910 - val_accuracy: 0.7733\n",
      "Epoch 48/100\n",
      "850/850 [==============================] - ETA: 0s - loss: 0.4617 - accuracy: 0.79 - 0s 280us/step - loss: 0.4594 - accuracy: 0.7941 - val_loss: 0.4932 - val_accuracy: 0.7467\n",
      "Epoch 49/100\n",
      "850/850 [==============================] - 0s 285us/step - loss: 0.4624 - accuracy: 0.7965 - val_loss: 0.5244 - val_accuracy: 0.7200\n",
      "Epoch 50/100\n",
      "850/850 [==============================] - 0s 270us/step - loss: 0.4587 - accuracy: 0.7988 - val_loss: 0.5356 - val_accuracy: 0.7133\n",
      "Epoch 51/100\n",
      "850/850 [==============================] - 0s 257us/step - loss: 0.4604 - accuracy: 0.7988 - val_loss: 0.5013 - val_accuracy: 0.7467\n",
      "Epoch 52/100\n",
      "850/850 [==============================] - 0s 293us/step - loss: 0.4590 - accuracy: 0.7953 - val_loss: 0.5128 - val_accuracy: 0.7333\n",
      "Epoch 53/100\n",
      "850/850 [==============================] - 0s 304us/step - loss: 0.4593 - accuracy: 0.7906 - val_loss: 0.5720 - val_accuracy: 0.7067\n",
      "Epoch 54/100\n",
      "850/850 [==============================] - 0s 248us/step - loss: 0.4608 - accuracy: 0.7871 - val_loss: 0.4926 - val_accuracy: 0.7600\n",
      "Epoch 55/100\n",
      "850/850 [==============================] - 0s 253us/step - loss: 0.4571 - accuracy: 0.7918 - val_loss: 0.5129 - val_accuracy: 0.7467\n",
      "Epoch 56/100\n"
     ]
    },
    {
     "name": "stdout",
     "output_type": "stream",
     "text": [
      "850/850 [==============================] - 0s 276us/step - loss: 0.4567 - accuracy: 0.7812 - val_loss: 0.5247 - val_accuracy: 0.7400\n",
      "Epoch 57/100\n",
      "850/850 [==============================] - 0s 253us/step - loss: 0.4539 - accuracy: 0.8024 - val_loss: 0.4901 - val_accuracy: 0.7867\n",
      "Epoch 58/100\n",
      "850/850 [==============================] - 0s 274us/step - loss: 0.4649 - accuracy: 0.7847 - val_loss: 0.5227 - val_accuracy: 0.7267\n",
      "Epoch 59/100\n",
      "850/850 [==============================] - 0s 243us/step - loss: 0.4543 - accuracy: 0.7965 - val_loss: 0.5141 - val_accuracy: 0.7200\n",
      "Epoch 60/100\n",
      "850/850 [==============================] - 0s 252us/step - loss: 0.4563 - accuracy: 0.8000 - val_loss: 0.5688 - val_accuracy: 0.6800\n",
      "Epoch 61/100\n",
      "850/850 [==============================] - 0s 247us/step - loss: 0.4637 - accuracy: 0.7812 - val_loss: 0.5135 - val_accuracy: 0.7400\n",
      "Epoch 62/100\n",
      "850/850 [==============================] - 0s 247us/step - loss: 0.4521 - accuracy: 0.7894 - val_loss: 0.4987 - val_accuracy: 0.7733\n",
      "Epoch 63/100\n",
      "850/850 [==============================] - 0s 251us/step - loss: 0.4645 - accuracy: 0.7929 - val_loss: 0.5293 - val_accuracy: 0.7333\n",
      "Epoch 64/100\n",
      "850/850 [==============================] - 0s 256us/step - loss: 0.4525 - accuracy: 0.7965 - val_loss: 0.4982 - val_accuracy: 0.7267\n",
      "Epoch 65/100\n",
      "850/850 [==============================] - 0s 248us/step - loss: 0.4554 - accuracy: 0.7965 - val_loss: 0.5253 - val_accuracy: 0.7467\n",
      "Epoch 66/100\n",
      "850/850 [==============================] - 0s 238us/step - loss: 0.4552 - accuracy: 0.7976 - val_loss: 0.5108 - val_accuracy: 0.7267\n",
      "Epoch 67/100\n",
      "850/850 [==============================] - 0s 249us/step - loss: 0.4550 - accuracy: 0.7894 - val_loss: 0.5605 - val_accuracy: 0.7133\n",
      "Epoch 68/100\n",
      "850/850 [==============================] - 0s 247us/step - loss: 0.4598 - accuracy: 0.7906 - val_loss: 0.5390 - val_accuracy: 0.7067\n",
      "Epoch 69/100\n",
      "850/850 [==============================] - 0s 262us/step - loss: 0.4536 - accuracy: 0.7929 - val_loss: 0.4758 - val_accuracy: 0.7667\n",
      "Epoch 70/100\n",
      "850/850 [==============================] - 0s 256us/step - loss: 0.4483 - accuracy: 0.8071 - val_loss: 0.5172 - val_accuracy: 0.7133\n",
      "Epoch 71/100\n",
      "850/850 [==============================] - 0s 312us/step - loss: 0.4564 - accuracy: 0.7871 - val_loss: 0.5017 - val_accuracy: 0.7533\n",
      "Epoch 72/100\n",
      "850/850 [==============================] - 0s 339us/step - loss: 0.4571 - accuracy: 0.7906 - val_loss: 0.5554 - val_accuracy: 0.7200\n",
      "Epoch 73/100\n",
      "850/850 [==============================] - 0s 321us/step - loss: 0.4518 - accuracy: 0.7847 - val_loss: 0.5330 - val_accuracy: 0.7133\n",
      "Epoch 74/100\n",
      "850/850 [==============================] - 0s 345us/step - loss: 0.4664 - accuracy: 0.7753 - val_loss: 0.5325 - val_accuracy: 0.7200\n",
      "Epoch 75/100\n",
      "850/850 [==============================] - 0s 281us/step - loss: 0.4625 - accuracy: 0.7847 - val_loss: 0.5039 - val_accuracy: 0.7333\n",
      "Epoch 76/100\n",
      "850/850 [==============================] - 0s 252us/step - loss: 0.4541 - accuracy: 0.7918 - val_loss: 0.4786 - val_accuracy: 0.7533\n",
      "Epoch 77/100\n",
      "850/850 [==============================] - 0s 255us/step - loss: 0.4581 - accuracy: 0.7859 - val_loss: 0.5100 - val_accuracy: 0.7400\n",
      "Epoch 78/100\n",
      "850/850 [==============================] - 0s 253us/step - loss: 0.4569 - accuracy: 0.8000 - val_loss: 0.5897 - val_accuracy: 0.7133\n",
      "Epoch 79/100\n",
      "850/850 [==============================] - 0s 241us/step - loss: 0.4669 - accuracy: 0.7965 - val_loss: 0.5706 - val_accuracy: 0.6867\n",
      "Epoch 80/100\n",
      "850/850 [==============================] - 0s 271us/step - loss: 0.4544 - accuracy: 0.8012 - val_loss: 0.4832 - val_accuracy: 0.7533\n",
      "Epoch 81/100\n",
      "850/850 [==============================] - 0s 250us/step - loss: 0.4574 - accuracy: 0.7953 - val_loss: 0.4861 - val_accuracy: 0.7667\n",
      "Epoch 82/100\n",
      "850/850 [==============================] - 0s 251us/step - loss: 0.4561 - accuracy: 0.7988 - val_loss: 0.5030 - val_accuracy: 0.7333\n",
      "Epoch 83/100\n",
      "850/850 [==============================] - 0s 253us/step - loss: 0.4610 - accuracy: 0.7871 - val_loss: 0.5662 - val_accuracy: 0.7067\n",
      "Epoch 84/100\n",
      "850/850 [==============================] - 0s 258us/step - loss: 0.4632 - accuracy: 0.7765 - val_loss: 0.4869 - val_accuracy: 0.7533\n",
      "Epoch 85/100\n",
      "850/850 [==============================] - 0s 232us/step - loss: 0.4609 - accuracy: 0.7941 - val_loss: 0.4850 - val_accuracy: 0.7800\n",
      "Epoch 86/100\n",
      "850/850 [==============================] - 0s 243us/step - loss: 0.4584 - accuracy: 0.7894 - val_loss: 0.5216 - val_accuracy: 0.7200\n",
      "Epoch 87/100\n",
      "850/850 [==============================] - 0s 249us/step - loss: 0.4578 - accuracy: 0.7776 - val_loss: 0.5120 - val_accuracy: 0.7267\n",
      "Epoch 88/100\n",
      "850/850 [==============================] - 0s 264us/step - loss: 0.4601 - accuracy: 0.7894 - val_loss: 0.5065 - val_accuracy: 0.7400\n",
      "Epoch 89/100\n",
      "850/850 [==============================] - 0s 254us/step - loss: 0.4568 - accuracy: 0.7953 - val_loss: 0.5075 - val_accuracy: 0.7533\n",
      "Epoch 90/100\n",
      "850/850 [==============================] - 0s 250us/step - loss: 0.4593 - accuracy: 0.8071 - val_loss: 0.5172 - val_accuracy: 0.7400\n",
      "Epoch 91/100\n",
      "850/850 [==============================] - 0s 238us/step - loss: 0.4515 - accuracy: 0.7988 - val_loss: 0.4828 - val_accuracy: 0.7600\n",
      "Epoch 92/100\n",
      "850/850 [==============================] - 0s 243us/step - loss: 0.4545 - accuracy: 0.7941 - val_loss: 0.5055 - val_accuracy: 0.7400\n",
      "Epoch 93/100\n",
      "850/850 [==============================] - 0s 277us/step - loss: 0.4500 - accuracy: 0.7965 - val_loss: 0.4716 - val_accuracy: 0.7800\n",
      "Epoch 94/100\n",
      "850/850 [==============================] - 0s 348us/step - loss: 0.4545 - accuracy: 0.7776 - val_loss: 0.5003 - val_accuracy: 0.7333\n",
      "Epoch 95/100\n",
      "850/850 [==============================] - 0s 313us/step - loss: 0.4599 - accuracy: 0.7835 - val_loss: 0.4759 - val_accuracy: 0.7667\n",
      "Epoch 96/100\n",
      "850/850 [==============================] - 0s 253us/step - loss: 0.4557 - accuracy: 0.7953 - val_loss: 0.4809 - val_accuracy: 0.7800\n",
      "Epoch 97/100\n",
      "850/850 [==============================] - 0s 255us/step - loss: 0.4527 - accuracy: 0.8012 - val_loss: 0.5122 - val_accuracy: 0.7467\n",
      "Epoch 98/100\n",
      "850/850 [==============================] - 0s 301us/step - loss: 0.4633 - accuracy: 0.7988 - val_loss: 0.4806 - val_accuracy: 0.7600\n",
      "Epoch 99/100\n",
      "850/850 [==============================] - 0s 277us/step - loss: 0.4560 - accuracy: 0.7918 - val_loss: 0.5186 - val_accuracy: 0.7333\n",
      "Epoch 100/100\n",
      "850/850 [==============================] - 0s 251us/step - loss: 0.4531 - accuracy: 0.7847 - val_loss: 0.4931 - val_accuracy: 0.7533\n"
     ]
    }
   ],
   "source": [
    "history2=model1.fit(X_train2, Y_train2, validation_data=(X_val2, Y_val2), epochs=100, batch_size=5)"
   ]
  },
  {
   "cell_type": "code",
   "execution_count": 37,
   "metadata": {},
   "outputs": [
    {
     "name": "stdout",
     "output_type": "stream",
     "text": [
      "150/150 [==============================] - 0s 33us/step\n",
      "Accuracy: 75.33%\n"
     ]
    }
   ],
   "source": [
    "scores = model1.evaluate(X_val2, Y_val2)\n",
    "print (\"Accuracy: %.2f%%\" %(scores[1]*100))"
   ]
  },
  {
   "cell_type": "markdown",
   "metadata": {},
   "source": [
    "# Part 2"
   ]
  },
  {
   "cell_type": "markdown",
   "metadata": {
    "id": "-KdkuFLY9rSb"
   },
   "source": [
    "**2. Please describe at least to ways of ensembling together DNNs and RFs. Take any dataset from Kaggle and (1) train an RF model, (2) train a DNN, and (3) a hybrid DNN and RF model. Provide detailed model and result comparisons.**"
   ]
  },
  {
   "cell_type": "code",
   "execution_count": 38,
   "metadata": {
    "id": "mnTK6oE09uAw"
   },
   "outputs": [],
   "source": [
    "#importing libraries\n",
    "import numpy as np\n",
    "import pandas as pd\n",
    "import matplotlib.pyplot as plt\n",
    "import seaborn as sns\n",
    "%matplotlib inline"
   ]
  },
  {
   "cell_type": "code",
   "execution_count": 39,
   "metadata": {
    "id": "vFMbPq4q9uEC"
   },
   "outputs": [],
   "source": [
    "#importing diabetes toy dataset from scikitlearn\n",
    "from sklearn import datasets\n",
    "dataset = datasets.load_diabetes()\n",
    "data, target = dataset.data, dataset.target"
   ]
  },
  {
   "cell_type": "code",
   "execution_count": 40,
   "metadata": {
    "colab": {
     "base_uri": "https://localhost:8080/"
    },
    "id": "rNkxBaek9uIV",
    "outputId": "87a5df7d-058f-47e0-fd05-dfaa5e01d7fb"
   },
   "outputs": [
    {
     "data": {
      "text/plain": [
       "array([[ 0.03807591,  0.05068012,  0.06169621, ..., -0.00259226,\n",
       "         0.01990842, -0.01764613],\n",
       "       [-0.00188202, -0.04464164, -0.05147406, ..., -0.03949338,\n",
       "        -0.06832974, -0.09220405],\n",
       "       [ 0.08529891,  0.05068012,  0.04445121, ..., -0.00259226,\n",
       "         0.00286377, -0.02593034],\n",
       "       ...,\n",
       "       [ 0.04170844,  0.05068012, -0.01590626, ..., -0.01107952,\n",
       "        -0.04687948,  0.01549073],\n",
       "       [-0.04547248, -0.04464164,  0.03906215, ...,  0.02655962,\n",
       "         0.04452837, -0.02593034],\n",
       "       [-0.04547248, -0.04464164, -0.0730303 , ..., -0.03949338,\n",
       "        -0.00421986,  0.00306441]])"
      ]
     },
     "execution_count": 40,
     "metadata": {},
     "output_type": "execute_result"
    }
   ],
   "source": [
    "data"
   ]
  },
  {
   "cell_type": "code",
   "execution_count": 41,
   "metadata": {
    "id": "KCeInovX9uLz"
   },
   "outputs": [],
   "source": [
    "features = pd.DataFrame(dataset.data, columns=dataset.feature_names)\n",
    "targets = dataset.target"
   ]
  },
  {
   "cell_type": "code",
   "execution_count": 42,
   "metadata": {
    "colab": {
     "base_uri": "https://localhost:8080/",
     "height": 202
    },
    "id": "D_As89iP9uP6",
    "outputId": "12339ce0-6ed4-4b08-cb39-e7504b1a70ce"
   },
   "outputs": [
    {
     "data": {
      "text/html": [
       "<div>\n",
       "<style scoped>\n",
       "    .dataframe tbody tr th:only-of-type {\n",
       "        vertical-align: middle;\n",
       "    }\n",
       "\n",
       "    .dataframe tbody tr th {\n",
       "        vertical-align: top;\n",
       "    }\n",
       "\n",
       "    .dataframe thead th {\n",
       "        text-align: right;\n",
       "    }\n",
       "</style>\n",
       "<table border=\"1\" class=\"dataframe\">\n",
       "  <thead>\n",
       "    <tr style=\"text-align: right;\">\n",
       "      <th></th>\n",
       "      <th>age</th>\n",
       "      <th>sex</th>\n",
       "      <th>bmi</th>\n",
       "      <th>bp</th>\n",
       "      <th>s1</th>\n",
       "      <th>s2</th>\n",
       "      <th>s3</th>\n",
       "      <th>s4</th>\n",
       "      <th>s5</th>\n",
       "      <th>s6</th>\n",
       "    </tr>\n",
       "  </thead>\n",
       "  <tbody>\n",
       "    <tr>\n",
       "      <th>0</th>\n",
       "      <td>0.038076</td>\n",
       "      <td>0.050680</td>\n",
       "      <td>0.061696</td>\n",
       "      <td>0.021872</td>\n",
       "      <td>-0.044223</td>\n",
       "      <td>-0.034821</td>\n",
       "      <td>-0.043401</td>\n",
       "      <td>-0.002592</td>\n",
       "      <td>0.019908</td>\n",
       "      <td>-0.017646</td>\n",
       "    </tr>\n",
       "    <tr>\n",
       "      <th>1</th>\n",
       "      <td>-0.001882</td>\n",
       "      <td>-0.044642</td>\n",
       "      <td>-0.051474</td>\n",
       "      <td>-0.026328</td>\n",
       "      <td>-0.008449</td>\n",
       "      <td>-0.019163</td>\n",
       "      <td>0.074412</td>\n",
       "      <td>-0.039493</td>\n",
       "      <td>-0.068330</td>\n",
       "      <td>-0.092204</td>\n",
       "    </tr>\n",
       "    <tr>\n",
       "      <th>2</th>\n",
       "      <td>0.085299</td>\n",
       "      <td>0.050680</td>\n",
       "      <td>0.044451</td>\n",
       "      <td>-0.005671</td>\n",
       "      <td>-0.045599</td>\n",
       "      <td>-0.034194</td>\n",
       "      <td>-0.032356</td>\n",
       "      <td>-0.002592</td>\n",
       "      <td>0.002864</td>\n",
       "      <td>-0.025930</td>\n",
       "    </tr>\n",
       "    <tr>\n",
       "      <th>3</th>\n",
       "      <td>-0.089063</td>\n",
       "      <td>-0.044642</td>\n",
       "      <td>-0.011595</td>\n",
       "      <td>-0.036656</td>\n",
       "      <td>0.012191</td>\n",
       "      <td>0.024991</td>\n",
       "      <td>-0.036038</td>\n",
       "      <td>0.034309</td>\n",
       "      <td>0.022692</td>\n",
       "      <td>-0.009362</td>\n",
       "    </tr>\n",
       "    <tr>\n",
       "      <th>4</th>\n",
       "      <td>0.005383</td>\n",
       "      <td>-0.044642</td>\n",
       "      <td>-0.036385</td>\n",
       "      <td>0.021872</td>\n",
       "      <td>0.003935</td>\n",
       "      <td>0.015596</td>\n",
       "      <td>0.008142</td>\n",
       "      <td>-0.002592</td>\n",
       "      <td>-0.031991</td>\n",
       "      <td>-0.046641</td>\n",
       "    </tr>\n",
       "  </tbody>\n",
       "</table>\n",
       "</div>"
      ],
      "text/plain": [
       "        age       sex       bmi        bp        s1        s2        s3  \\\n",
       "0  0.038076  0.050680  0.061696  0.021872 -0.044223 -0.034821 -0.043401   \n",
       "1 -0.001882 -0.044642 -0.051474 -0.026328 -0.008449 -0.019163  0.074412   \n",
       "2  0.085299  0.050680  0.044451 -0.005671 -0.045599 -0.034194 -0.032356   \n",
       "3 -0.089063 -0.044642 -0.011595 -0.036656  0.012191  0.024991 -0.036038   \n",
       "4  0.005383 -0.044642 -0.036385  0.021872  0.003935  0.015596  0.008142   \n",
       "\n",
       "         s4        s5        s6  \n",
       "0 -0.002592  0.019908 -0.017646  \n",
       "1 -0.039493 -0.068330 -0.092204  \n",
       "2 -0.002592  0.002864 -0.025930  \n",
       "3  0.034309  0.022692 -0.009362  \n",
       "4 -0.002592 -0.031991 -0.046641  "
      ]
     },
     "execution_count": 42,
     "metadata": {},
     "output_type": "execute_result"
    }
   ],
   "source": [
    "features.head()"
   ]
  },
  {
   "cell_type": "code",
   "execution_count": 43,
   "metadata": {
    "id": "w-j9FZz6-ihS"
   },
   "outputs": [],
   "source": [
    "from sklearn.preprocessing import StandardScaler\n",
    "from sklearn.model_selection import train_test_split\n",
    "X_train, X_test, y_train, y_test = train_test_split(features, targets, train_size=0.8, random_state=42)\n",
    "scaler = StandardScaler().fit(X_train)\n",
    "X_train_scaled = pd.DataFrame(scaler.transform(X_train), index=X_train.index.values, columns=X_train.columns.values)\n",
    "X_test_scaled = pd.DataFrame(scaler.transform(X_test), index=X_test.index.values, columns=X_test.columns.values)"
   ]
  },
  {
   "cell_type": "code",
   "execution_count": 44,
   "metadata": {
    "id": "avBZBG2kCKUY"
   },
   "outputs": [],
   "source": [
    "from sklearn.ensemble import RandomForestRegressor"
   ]
  },
  {
   "cell_type": "code",
   "execution_count": 45,
   "metadata": {
    "colab": {
     "base_uri": "https://localhost:8080/"
    },
    "id": "zf9H8AgKCKXh",
    "outputId": "71a2ca0b-7e36-44aa-d5f4-6284d0f1614e"
   },
   "outputs": [
    {
     "data": {
      "text/plain": [
       "RandomForestRegressor(n_estimators=500, oob_score=True, random_state=0)"
      ]
     },
     "execution_count": 45,
     "metadata": {},
     "output_type": "execute_result"
    }
   ],
   "source": [
    "rf = RandomForestRegressor(n_estimators=500, oob_score=True, random_state=0)\n",
    "rf.fit(X_train, y_train)"
   ]
  },
  {
   "cell_type": "code",
   "execution_count": 46,
   "metadata": {
    "colab": {
     "base_uri": "https://localhost:8080/"
    },
    "id": "jmxRqV7QCKah",
    "outputId": "316022ee-157c-4388-bebe-9c4f8cc7a606"
   },
   "outputs": [
    {
     "name": "stdout",
     "output_type": "stream",
     "text": [
      "Out-of-bag R-2 score estimate: 0.442\n",
      "Test data R-2 score: 0.431\n",
      "Test data Spearman correlation: 0.622\n",
      "Test data Pearson correlation: 0.658\n"
     ]
    }
   ],
   "source": [
    "from sklearn.metrics import r2_score\n",
    "from scipy.stats import spearmanr, pearsonr\n",
    "predicted_train = rf.predict(X_train)\n",
    "predicted_test = rf.predict(X_test)\n",
    "test_score = r2_score(y_test, predicted_test)\n",
    "spearman = spearmanr(y_test, predicted_test)\n",
    "pearson = pearsonr(y_test, predicted_test)\n",
    "print(f'Out-of-bag R-2 score estimate: {rf.oob_score_:>5.3}')\n",
    "print(f'Test data R-2 score: {test_score:>5.3}')\n",
    "print(f'Test data Spearman correlation: {spearman[0]:.3}')\n",
    "print(f'Test data Pearson correlation: {pearson[0]:.3}')"
   ]
  },
  {
   "cell_type": "markdown",
   "metadata": {
    "id": "jwqmDepuSKDh"
   },
   "source": [
    "#### Training Dataset based on DNN"
   ]
  },
  {
   "cell_type": "code",
   "execution_count": 47,
   "metadata": {
    "id": "oVnycAWQCp_0"
   },
   "outputs": [],
   "source": [
    "'''Import necessary packages'''\n",
    "from keras.models import Sequential\n",
    "from keras.layers import Dense\n",
    "from sklearn.model_selection import train_test_split\n",
    "import seaborn as sns\n",
    "import numpy as np\n",
    "import pandas as pd\n"
   ]
  },
  {
   "cell_type": "code",
   "execution_count": 48,
   "metadata": {
    "colab": {
     "base_uri": "https://localhost:8080/",
     "height": 202
    },
    "id": "NJ_f0iDIHEE8",
    "outputId": "6eda1190-a4c9-449c-cb1d-a24ace9f4450"
   },
   "outputs": [
    {
     "data": {
      "text/html": [
       "<div>\n",
       "<style scoped>\n",
       "    .dataframe tbody tr th:only-of-type {\n",
       "        vertical-align: middle;\n",
       "    }\n",
       "\n",
       "    .dataframe tbody tr th {\n",
       "        vertical-align: top;\n",
       "    }\n",
       "\n",
       "    .dataframe thead th {\n",
       "        text-align: right;\n",
       "    }\n",
       "</style>\n",
       "<table border=\"1\" class=\"dataframe\">\n",
       "  <thead>\n",
       "    <tr style=\"text-align: right;\">\n",
       "      <th></th>\n",
       "      <th>age</th>\n",
       "      <th>sex</th>\n",
       "      <th>bmi</th>\n",
       "      <th>bp</th>\n",
       "      <th>s1</th>\n",
       "      <th>s2</th>\n",
       "      <th>s3</th>\n",
       "      <th>s4</th>\n",
       "      <th>s5</th>\n",
       "      <th>s6</th>\n",
       "    </tr>\n",
       "  </thead>\n",
       "  <tbody>\n",
       "    <tr>\n",
       "      <th>0</th>\n",
       "      <td>0.038076</td>\n",
       "      <td>0.050680</td>\n",
       "      <td>0.061696</td>\n",
       "      <td>0.021872</td>\n",
       "      <td>-0.044223</td>\n",
       "      <td>-0.034821</td>\n",
       "      <td>-0.043401</td>\n",
       "      <td>-0.002592</td>\n",
       "      <td>0.019908</td>\n",
       "      <td>-0.017646</td>\n",
       "    </tr>\n",
       "    <tr>\n",
       "      <th>1</th>\n",
       "      <td>-0.001882</td>\n",
       "      <td>-0.044642</td>\n",
       "      <td>-0.051474</td>\n",
       "      <td>-0.026328</td>\n",
       "      <td>-0.008449</td>\n",
       "      <td>-0.019163</td>\n",
       "      <td>0.074412</td>\n",
       "      <td>-0.039493</td>\n",
       "      <td>-0.068330</td>\n",
       "      <td>-0.092204</td>\n",
       "    </tr>\n",
       "    <tr>\n",
       "      <th>2</th>\n",
       "      <td>0.085299</td>\n",
       "      <td>0.050680</td>\n",
       "      <td>0.044451</td>\n",
       "      <td>-0.005671</td>\n",
       "      <td>-0.045599</td>\n",
       "      <td>-0.034194</td>\n",
       "      <td>-0.032356</td>\n",
       "      <td>-0.002592</td>\n",
       "      <td>0.002864</td>\n",
       "      <td>-0.025930</td>\n",
       "    </tr>\n",
       "    <tr>\n",
       "      <th>3</th>\n",
       "      <td>-0.089063</td>\n",
       "      <td>-0.044642</td>\n",
       "      <td>-0.011595</td>\n",
       "      <td>-0.036656</td>\n",
       "      <td>0.012191</td>\n",
       "      <td>0.024991</td>\n",
       "      <td>-0.036038</td>\n",
       "      <td>0.034309</td>\n",
       "      <td>0.022692</td>\n",
       "      <td>-0.009362</td>\n",
       "    </tr>\n",
       "    <tr>\n",
       "      <th>4</th>\n",
       "      <td>0.005383</td>\n",
       "      <td>-0.044642</td>\n",
       "      <td>-0.036385</td>\n",
       "      <td>0.021872</td>\n",
       "      <td>0.003935</td>\n",
       "      <td>0.015596</td>\n",
       "      <td>0.008142</td>\n",
       "      <td>-0.002592</td>\n",
       "      <td>-0.031991</td>\n",
       "      <td>-0.046641</td>\n",
       "    </tr>\n",
       "  </tbody>\n",
       "</table>\n",
       "</div>"
      ],
      "text/plain": [
       "        age       sex       bmi        bp        s1        s2        s3  \\\n",
       "0  0.038076  0.050680  0.061696  0.021872 -0.044223 -0.034821 -0.043401   \n",
       "1 -0.001882 -0.044642 -0.051474 -0.026328 -0.008449 -0.019163  0.074412   \n",
       "2  0.085299  0.050680  0.044451 -0.005671 -0.045599 -0.034194 -0.032356   \n",
       "3 -0.089063 -0.044642 -0.011595 -0.036656  0.012191  0.024991 -0.036038   \n",
       "4  0.005383 -0.044642 -0.036385  0.021872  0.003935  0.015596  0.008142   \n",
       "\n",
       "         s4        s5        s6  \n",
       "0 -0.002592  0.019908 -0.017646  \n",
       "1 -0.039493 -0.068330 -0.092204  \n",
       "2 -0.002592  0.002864 -0.025930  \n",
       "3  0.034309  0.022692 -0.009362  \n",
       "4 -0.002592 -0.031991 -0.046641  "
      ]
     },
     "execution_count": 48,
     "metadata": {},
     "output_type": "execute_result"
    }
   ],
   "source": [
    "# See head of the dataset\n",
    "features.head()"
   ]
  },
  {
   "cell_type": "code",
   "execution_count": 49,
   "metadata": {
    "id": "MQbxm0qtHIQ3"
   },
   "outputs": [],
   "source": [
    "from sklearn.preprocessing import MinMaxScaler"
   ]
  },
  {
   "cell_type": "code",
   "execution_count": 50,
   "metadata": {
    "id": "hCvby_P6HKQP"
   },
   "outputs": [],
   "source": [
    "scaler = MinMaxScaler(feature_range=(0, 1))\n",
    "# Scale both the training inputs and outputs\n",
    "scaled_train = scaler.fit_transform(features)\n",
    "#scaled_test = scaler.transform(test_df)"
   ]
  },
  {
   "cell_type": "code",
   "execution_count": 51,
   "metadata": {
    "colab": {
     "base_uri": "https://localhost:8080/"
    },
    "id": "zlKG1QFkHaBf",
    "outputId": "036e525b-002d-4eef-f025-78cdac384877"
   },
   "outputs": [
    {
     "data": {
      "text/plain": [
       "array([[0.66666667, 1.        , 0.58264463, ..., 0.28208745, 0.56221737,\n",
       "        0.43939394],\n",
       "       [0.48333333, 0.        , 0.14876033, ..., 0.14104372, 0.22244301,\n",
       "        0.16666667],\n",
       "       [0.88333333, 1.        , 0.51652893, ..., 0.28208745, 0.49658437,\n",
       "        0.40909091],\n",
       "       ...,\n",
       "       [0.68333333, 1.        , 0.28512397, ..., 0.24964739, 0.30504048,\n",
       "        0.56060606],\n",
       "       [0.28333333, 0.        , 0.49586777, ..., 0.39351199, 0.65702021,\n",
       "        0.40909091],\n",
       "       [0.28333333, 0.        , 0.0661157 , ..., 0.14104372, 0.46930778,\n",
       "        0.51515152]])"
      ]
     },
     "execution_count": 51,
     "metadata": {},
     "output_type": "execute_result"
    }
   ],
   "source": [
    "scaled_train"
   ]
  },
  {
   "cell_type": "code",
   "execution_count": 52,
   "metadata": {
    "id": "uF-okjtxHk6W"
   },
   "outputs": [],
   "source": [
    "scaled_train_df = pd.DataFrame(scaled_train, columns=dataset.feature_names)"
   ]
  },
  {
   "cell_type": "code",
   "execution_count": 53,
   "metadata": {
    "colab": {
     "base_uri": "https://localhost:8080/",
     "height": 415
    },
    "id": "xRF_3HHtH1TB",
    "outputId": "4b123fa0-61f3-49f0-ec42-6957c35786b3"
   },
   "outputs": [
    {
     "data": {
      "text/html": [
       "<div>\n",
       "<style scoped>\n",
       "    .dataframe tbody tr th:only-of-type {\n",
       "        vertical-align: middle;\n",
       "    }\n",
       "\n",
       "    .dataframe tbody tr th {\n",
       "        vertical-align: top;\n",
       "    }\n",
       "\n",
       "    .dataframe thead th {\n",
       "        text-align: right;\n",
       "    }\n",
       "</style>\n",
       "<table border=\"1\" class=\"dataframe\">\n",
       "  <thead>\n",
       "    <tr style=\"text-align: right;\">\n",
       "      <th></th>\n",
       "      <th>age</th>\n",
       "      <th>sex</th>\n",
       "      <th>bmi</th>\n",
       "      <th>bp</th>\n",
       "      <th>s1</th>\n",
       "      <th>s2</th>\n",
       "      <th>s3</th>\n",
       "      <th>s4</th>\n",
       "      <th>s5</th>\n",
       "      <th>s6</th>\n",
       "    </tr>\n",
       "  </thead>\n",
       "  <tbody>\n",
       "    <tr>\n",
       "      <th>0</th>\n",
       "      <td>0.666667</td>\n",
       "      <td>1.0</td>\n",
       "      <td>0.582645</td>\n",
       "      <td>0.549296</td>\n",
       "      <td>0.294118</td>\n",
       "      <td>0.256972</td>\n",
       "      <td>0.207792</td>\n",
       "      <td>0.282087</td>\n",
       "      <td>0.562217</td>\n",
       "      <td>0.439394</td>\n",
       "    </tr>\n",
       "    <tr>\n",
       "      <th>1</th>\n",
       "      <td>0.483333</td>\n",
       "      <td>0.0</td>\n",
       "      <td>0.148760</td>\n",
       "      <td>0.352113</td>\n",
       "      <td>0.421569</td>\n",
       "      <td>0.306773</td>\n",
       "      <td>0.623377</td>\n",
       "      <td>0.141044</td>\n",
       "      <td>0.222443</td>\n",
       "      <td>0.166667</td>\n",
       "    </tr>\n",
       "    <tr>\n",
       "      <th>2</th>\n",
       "      <td>0.883333</td>\n",
       "      <td>1.0</td>\n",
       "      <td>0.516529</td>\n",
       "      <td>0.436620</td>\n",
       "      <td>0.289216</td>\n",
       "      <td>0.258964</td>\n",
       "      <td>0.246753</td>\n",
       "      <td>0.282087</td>\n",
       "      <td>0.496584</td>\n",
       "      <td>0.409091</td>\n",
       "    </tr>\n",
       "    <tr>\n",
       "      <th>3</th>\n",
       "      <td>0.083333</td>\n",
       "      <td>0.0</td>\n",
       "      <td>0.301653</td>\n",
       "      <td>0.309859</td>\n",
       "      <td>0.495098</td>\n",
       "      <td>0.447211</td>\n",
       "      <td>0.233766</td>\n",
       "      <td>0.423131</td>\n",
       "      <td>0.572936</td>\n",
       "      <td>0.469697</td>\n",
       "    </tr>\n",
       "    <tr>\n",
       "      <th>4</th>\n",
       "      <td>0.516667</td>\n",
       "      <td>0.0</td>\n",
       "      <td>0.206612</td>\n",
       "      <td>0.549296</td>\n",
       "      <td>0.465686</td>\n",
       "      <td>0.417331</td>\n",
       "      <td>0.389610</td>\n",
       "      <td>0.282087</td>\n",
       "      <td>0.362369</td>\n",
       "      <td>0.333333</td>\n",
       "    </tr>\n",
       "    <tr>\n",
       "      <th>...</th>\n",
       "      <td>...</td>\n",
       "      <td>...</td>\n",
       "      <td>...</td>\n",
       "      <td>...</td>\n",
       "      <td>...</td>\n",
       "      <td>...</td>\n",
       "      <td>...</td>\n",
       "      <td>...</td>\n",
       "      <td>...</td>\n",
       "      <td>...</td>\n",
       "    </tr>\n",
       "    <tr>\n",
       "      <th>437</th>\n",
       "      <td>0.683333</td>\n",
       "      <td>1.0</td>\n",
       "      <td>0.421488</td>\n",
       "      <td>0.704225</td>\n",
       "      <td>0.431373</td>\n",
       "      <td>0.359562</td>\n",
       "      <td>0.259740</td>\n",
       "      <td>0.282087</td>\n",
       "      <td>0.605670</td>\n",
       "      <td>0.530303</td>\n",
       "    </tr>\n",
       "    <tr>\n",
       "      <th>438</th>\n",
       "      <td>0.466667</td>\n",
       "      <td>1.0</td>\n",
       "      <td>0.285124</td>\n",
       "      <td>0.183099</td>\n",
       "      <td>0.627451</td>\n",
       "      <td>0.619522</td>\n",
       "      <td>0.259740</td>\n",
       "      <td>0.423131</td>\n",
       "      <td>0.415790</td>\n",
       "      <td>0.666667</td>\n",
       "    </tr>\n",
       "    <tr>\n",
       "      <th>439</th>\n",
       "      <td>0.683333</td>\n",
       "      <td>1.0</td>\n",
       "      <td>0.285124</td>\n",
       "      <td>0.530516</td>\n",
       "      <td>0.318627</td>\n",
       "      <td>0.323705</td>\n",
       "      <td>0.272727</td>\n",
       "      <td>0.249647</td>\n",
       "      <td>0.305040</td>\n",
       "      <td>0.560606</td>\n",
       "    </tr>\n",
       "    <tr>\n",
       "      <th>440</th>\n",
       "      <td>0.283333</td>\n",
       "      <td>0.0</td>\n",
       "      <td>0.495868</td>\n",
       "      <td>0.464789</td>\n",
       "      <td>0.509804</td>\n",
       "      <td>0.416335</td>\n",
       "      <td>0.259740</td>\n",
       "      <td>0.393512</td>\n",
       "      <td>0.657020</td>\n",
       "      <td>0.409091</td>\n",
       "    </tr>\n",
       "    <tr>\n",
       "      <th>441</th>\n",
       "      <td>0.283333</td>\n",
       "      <td>0.0</td>\n",
       "      <td>0.066116</td>\n",
       "      <td>0.126761</td>\n",
       "      <td>0.750000</td>\n",
       "      <td>0.456175</td>\n",
       "      <td>0.974026</td>\n",
       "      <td>0.141044</td>\n",
       "      <td>0.469308</td>\n",
       "      <td>0.515152</td>\n",
       "    </tr>\n",
       "  </tbody>\n",
       "</table>\n",
       "<p>442 rows × 10 columns</p>\n",
       "</div>"
      ],
      "text/plain": [
       "          age  sex       bmi        bp        s1        s2        s3  \\\n",
       "0    0.666667  1.0  0.582645  0.549296  0.294118  0.256972  0.207792   \n",
       "1    0.483333  0.0  0.148760  0.352113  0.421569  0.306773  0.623377   \n",
       "2    0.883333  1.0  0.516529  0.436620  0.289216  0.258964  0.246753   \n",
       "3    0.083333  0.0  0.301653  0.309859  0.495098  0.447211  0.233766   \n",
       "4    0.516667  0.0  0.206612  0.549296  0.465686  0.417331  0.389610   \n",
       "..        ...  ...       ...       ...       ...       ...       ...   \n",
       "437  0.683333  1.0  0.421488  0.704225  0.431373  0.359562  0.259740   \n",
       "438  0.466667  1.0  0.285124  0.183099  0.627451  0.619522  0.259740   \n",
       "439  0.683333  1.0  0.285124  0.530516  0.318627  0.323705  0.272727   \n",
       "440  0.283333  0.0  0.495868  0.464789  0.509804  0.416335  0.259740   \n",
       "441  0.283333  0.0  0.066116  0.126761  0.750000  0.456175  0.974026   \n",
       "\n",
       "           s4        s5        s6  \n",
       "0    0.282087  0.562217  0.439394  \n",
       "1    0.141044  0.222443  0.166667  \n",
       "2    0.282087  0.496584  0.409091  \n",
       "3    0.423131  0.572936  0.469697  \n",
       "4    0.282087  0.362369  0.333333  \n",
       "..        ...       ...       ...  \n",
       "437  0.282087  0.605670  0.530303  \n",
       "438  0.423131  0.415790  0.666667  \n",
       "439  0.249647  0.305040  0.560606  \n",
       "440  0.393512  0.657020  0.409091  \n",
       "441  0.141044  0.469308  0.515152  \n",
       "\n",
       "[442 rows x 10 columns]"
      ]
     },
     "execution_count": 53,
     "metadata": {},
     "output_type": "execute_result"
    }
   ],
   "source": [
    "scaled_train_df"
   ]
  },
  {
   "cell_type": "code",
   "execution_count": 54,
   "metadata": {
    "id": "5trzxwC_I2-w"
   },
   "outputs": [],
   "source": [
    "X=scaled_train_df.values"
   ]
  },
  {
   "cell_type": "code",
   "execution_count": 55,
   "metadata": {
    "colab": {
     "base_uri": "https://localhost:8080/"
    },
    "id": "p0qGwrCKI5LW",
    "outputId": "40b598cc-c816-46e9-b39c-ac3b08e1122a"
   },
   "outputs": [
    {
     "data": {
      "text/plain": [
       "array([151.,  75., 141., 206., 135.,  97., 138.,  63., 110., 310., 101.,\n",
       "        69., 179., 185., 118., 171., 166., 144.,  97., 168.,  68.,  49.,\n",
       "        68., 245., 184., 202., 137.,  85., 131., 283., 129.,  59., 341.,\n",
       "        87.,  65., 102., 265., 276., 252.,  90., 100.,  55.,  61.,  92.,\n",
       "       259.,  53., 190., 142.,  75., 142., 155., 225.,  59., 104., 182.,\n",
       "       128.,  52.,  37., 170., 170.,  61., 144.,  52., 128.,  71., 163.,\n",
       "       150.,  97., 160., 178.,  48., 270., 202., 111.,  85.,  42., 170.,\n",
       "       200., 252., 113., 143.,  51.,  52., 210.,  65., 141.,  55., 134.,\n",
       "        42., 111.,  98., 164.,  48.,  96.,  90., 162., 150., 279.,  92.,\n",
       "        83., 128., 102., 302., 198.,  95.,  53., 134., 144., 232.,  81.,\n",
       "       104.,  59., 246., 297., 258., 229., 275., 281., 179., 200., 200.,\n",
       "       173., 180.,  84., 121., 161.,  99., 109., 115., 268., 274., 158.,\n",
       "       107.,  83., 103., 272.,  85., 280., 336., 281., 118., 317., 235.,\n",
       "        60., 174., 259., 178., 128.,  96., 126., 288.,  88., 292.,  71.,\n",
       "       197., 186.,  25.,  84.,  96., 195.,  53., 217., 172., 131., 214.,\n",
       "        59.,  70., 220., 268., 152.,  47.,  74., 295., 101., 151., 127.,\n",
       "       237., 225.,  81., 151., 107.,  64., 138., 185., 265., 101., 137.,\n",
       "       143., 141.,  79., 292., 178.,  91., 116.,  86., 122.,  72., 129.,\n",
       "       142.,  90., 158.,  39., 196., 222., 277.,  99., 196., 202., 155.,\n",
       "        77., 191.,  70.,  73.,  49.,  65., 263., 248., 296., 214., 185.,\n",
       "        78.,  93., 252., 150.,  77., 208.,  77., 108., 160.,  53., 220.,\n",
       "       154., 259.,  90., 246., 124.,  67.,  72., 257., 262., 275., 177.,\n",
       "        71.,  47., 187., 125.,  78.,  51., 258., 215., 303., 243.,  91.,\n",
       "       150., 310., 153., 346.,  63.,  89.,  50.,  39., 103., 308., 116.,\n",
       "       145.,  74.,  45., 115., 264.,  87., 202., 127., 182., 241.,  66.,\n",
       "        94., 283.,  64., 102., 200., 265.,  94., 230., 181., 156., 233.,\n",
       "        60., 219.,  80.,  68., 332., 248.,  84., 200.,  55.,  85.,  89.,\n",
       "        31., 129.,  83., 275.,  65., 198., 236., 253., 124.,  44., 172.,\n",
       "       114., 142., 109., 180., 144., 163., 147.,  97., 220., 190., 109.,\n",
       "       191., 122., 230., 242., 248., 249., 192., 131., 237.,  78., 135.,\n",
       "       244., 199., 270., 164.,  72.,  96., 306.,  91., 214.,  95., 216.,\n",
       "       263., 178., 113., 200., 139., 139.,  88., 148.,  88., 243.,  71.,\n",
       "        77., 109., 272.,  60.,  54., 221.,  90., 311., 281., 182., 321.,\n",
       "        58., 262., 206., 233., 242., 123., 167.,  63., 197.,  71., 168.,\n",
       "       140., 217., 121., 235., 245.,  40.,  52., 104., 132.,  88.,  69.,\n",
       "       219.,  72., 201., 110.,  51., 277.,  63., 118.,  69., 273., 258.,\n",
       "        43., 198., 242., 232., 175.,  93., 168., 275., 293., 281.,  72.,\n",
       "       140., 189., 181., 209., 136., 261., 113., 131., 174., 257.,  55.,\n",
       "        84.,  42., 146., 212., 233.,  91., 111., 152., 120.,  67., 310.,\n",
       "        94., 183.,  66., 173.,  72.,  49.,  64.,  48., 178., 104., 132.,\n",
       "       220.,  57.])"
      ]
     },
     "execution_count": 55,
     "metadata": {},
     "output_type": "execute_result"
    }
   ],
   "source": [
    "Y = dataset.target\n",
    "Y"
   ]
  },
  {
   "cell_type": "code",
   "execution_count": 56,
   "metadata": {
    "colab": {
     "base_uri": "https://localhost:8080/"
    },
    "id": "rsxKRnUwPJVN",
    "outputId": "279a04dd-ec40-4354-ebfa-234a46014829"
   },
   "outputs": [],
   "source": [
    "model2 = Sequential()\n",
    "model2.add(Dense(10, input_dim=10, kernel_initializer='uniform', activation='relu'))\n",
    "model2.add(Dense(6, kernel_initializer='uniform', activation='relu'))\n",
    "model2.add(Dense(1))"
   ]
  },
  {
   "cell_type": "code",
   "execution_count": 57,
   "metadata": {},
   "outputs": [],
   "source": [
    "model2.compile(loss='mean_squared_error', optimizer='adam',metrics=['accuracy'])"
   ]
  },
  {
   "cell_type": "code",
   "execution_count": 58,
   "metadata": {},
   "outputs": [
    {
     "name": "stdout",
     "output_type": "stream",
     "text": [
      "Train on 353 samples, validate on 89 samples\n",
      "Epoch 1/100\n",
      "353/353 [==============================] - 0s 785us/step - loss: 29668.1349 - accuracy: 0.0000e+00 - val_loss: 26443.9714 - val_accuracy: 0.0000e+00\n",
      "Epoch 2/100\n",
      "353/353 [==============================] - 0s 299us/step - loss: 29462.9697 - accuracy: 0.0000e+00 - val_loss: 26133.4720 - val_accuracy: 0.0000e+00\n",
      "Epoch 3/100\n",
      "353/353 [==============================] - 0s 308us/step - loss: 28947.6223 - accuracy: 0.0000e+00 - val_loss: 25459.0686 - val_accuracy: 0.0000e+00\n",
      "Epoch 4/100\n",
      "353/353 [==============================] - 0s 342us/step - loss: 27986.3990 - accuracy: 0.0000e+00 - val_loss: 24317.2616 - val_accuracy: 0.0000e+00\n",
      "Epoch 5/100\n",
      "353/353 [==============================] - 0s 325us/step - loss: 26479.1427 - accuracy: 0.0000e+00 - val_loss: 22618.6751 - val_accuracy: 0.0000e+00\n",
      "Epoch 6/100\n",
      "353/353 [==============================] - 0s 331us/step - loss: 24381.0268 - accuracy: 0.0000e+00 - val_loss: 20406.0855 - val_accuracy: 0.0000e+00\n",
      "Epoch 7/100\n",
      "353/353 [==============================] - 0s 319us/step - loss: 21763.0138 - accuracy: 0.0028 - val_loss: 17759.3307 - val_accuracy: 0.0000e+00\n",
      "Epoch 8/100\n",
      "353/353 [==============================] - 0s 328us/step - loss: 18752.9253 - accuracy: 0.0000e+00 - val_loss: 14945.1796 - val_accuracy: 0.0000e+00\n",
      "Epoch 9/100\n",
      "353/353 [==============================] - 0s 370us/step - loss: 15597.7816 - accuracy: 0.0028 - val_loss: 12049.0733 - val_accuracy: 0.0112\n",
      "Epoch 10/100\n",
      "353/353 [==============================] - 0s 429us/step - loss: 12551.1929 - accuracy: 0.0000e+00 - val_loss: 9418.4875 - val_accuracy: 0.0112\n",
      "Epoch 11/100\n",
      "353/353 [==============================] - 0s 323us/step - loss: 9892.3886 - accuracy: 0.0085 - val_loss: 7319.1513 - val_accuracy: 0.0000e+00\n",
      "Epoch 12/100\n",
      "353/353 [==============================] - 0s 318us/step - loss: 7809.2631 - accuracy: 0.0085 - val_loss: 5773.8006 - val_accuracy: 0.0225\n",
      "Epoch 13/100\n",
      "353/353 [==============================] - 0s 272us/step - loss: 6346.1333 - accuracy: 0.0113 - val_loss: 4844.1207 - val_accuracy: 0.0000e+00\n",
      "Epoch 14/100\n",
      "353/353 [==============================] - 0s 288us/step - loss: 5460.7956 - accuracy: 0.0113 - val_loss: 4300.3091 - val_accuracy: 0.0112\n",
      "Epoch 15/100\n",
      "353/353 [==============================] - 0s 299us/step - loss: 4950.8336 - accuracy: 0.0028 - val_loss: 4033.1988 - val_accuracy: 0.0000e+00\n",
      "Epoch 16/100\n",
      "353/353 [==============================] - 0s 264us/step - loss: 4668.6227 - accuracy: 0.0057 - val_loss: 3914.4197 - val_accuracy: 0.0000e+00\n",
      "Epoch 17/100\n",
      "353/353 [==============================] - 0s 296us/step - loss: 4510.1795 - accuracy: 0.0028 - val_loss: 3836.0214 - val_accuracy: 0.0000e+00\n",
      "Epoch 18/100\n",
      "353/353 [==============================] - 0s 260us/step - loss: 4408.7665 - accuracy: 0.0000e+00 - val_loss: 3785.4583 - val_accuracy: 0.0000e+00\n",
      "Epoch 19/100\n",
      "353/353 [==============================] - 0s 299us/step - loss: 4329.2374 - accuracy: 0.0000e+00 - val_loss: 3738.7843 - val_accuracy: 0.0112\n",
      "Epoch 20/100\n",
      "353/353 [==============================] - 0s 350us/step - loss: 4271.1145 - accuracy: 0.0000e+00 - val_loss: 3696.1692 - val_accuracy: 0.0112\n",
      "Epoch 21/100\n",
      "353/353 [==============================] - 0s 325us/step - loss: 4210.3342 - accuracy: 0.0000e+00 - val_loss: 3652.7665 - val_accuracy: 0.0112\n",
      "Epoch 22/100\n",
      "353/353 [==============================] - ETA: 0s - loss: 4311.1318 - accuracy: 0.0056    - 0s 328us/step - loss: 4158.8493 - accuracy: 0.0028 - val_loss: 3608.0809 - val_accuracy: 0.0000e+00\n",
      "Epoch 23/100\n",
      "353/353 [==============================] - 0s 350us/step - loss: 4107.3465 - accuracy: 0.0028 - val_loss: 3572.6867 - val_accuracy: 0.0000e+00\n",
      "Epoch 24/100\n",
      "353/353 [==============================] - 0s 311us/step - loss: 4060.1396 - accuracy: 0.0000e+00 - val_loss: 3536.8497 - val_accuracy: 0.0112\n",
      "Epoch 25/100\n",
      "353/353 [==============================] - 0s 268us/step - loss: 4016.0983 - accuracy: 0.0057 - val_loss: 3503.0812 - val_accuracy: 0.0112\n",
      "Epoch 26/100\n",
      "353/353 [==============================] - 0s 246us/step - loss: 3971.4597 - accuracy: 0.0028 - val_loss: 3466.5294 - val_accuracy: 0.0112\n",
      "Epoch 27/100\n",
      "353/353 [==============================] - 0s 201us/step - loss: 3929.8719 - accuracy: 0.0028 - val_loss: 3429.5409 - val_accuracy: 0.0000e+00\n",
      "Epoch 28/100\n",
      "353/353 [==============================] - 0s 348us/step - loss: 3891.3244 - accuracy: 0.0028 - val_loss: 3405.6447 - val_accuracy: 0.0112\n",
      "Epoch 29/100\n",
      "353/353 [==============================] - 0s 348us/step - loss: 3850.2778 - accuracy: 0.0057 - val_loss: 3374.4839 - val_accuracy: 0.0112\n",
      "Epoch 30/100\n",
      "353/353 [==============================] - 0s 398us/step - loss: 3814.8276 - accuracy: 0.0000e+00 - val_loss: 3344.6570 - val_accuracy: 0.0000e+00\n",
      "Epoch 31/100\n",
      "353/353 [==============================] - 0s 331us/step - loss: 3780.4377 - accuracy: 0.0057 - val_loss: 3319.9048 - val_accuracy: 0.0112\n",
      "Epoch 32/100\n",
      "353/353 [==============================] - 0s 328us/step - loss: 3748.3188 - accuracy: 0.0028 - val_loss: 3294.5709 - val_accuracy: 0.0225\n",
      "Epoch 33/100\n",
      "353/353 [==============================] - 0s 348us/step - loss: 3718.0122 - accuracy: 0.0142 - val_loss: 3272.5386 - val_accuracy: 0.0112\n",
      "Epoch 34/100\n",
      "353/353 [==============================] - 0s 336us/step - loss: 3690.0621 - accuracy: 0.0057 - val_loss: 3250.3817 - val_accuracy: 0.0000e+00\n",
      "Epoch 35/100\n",
      "353/353 [==============================] - 0s 339us/step - loss: 3658.2051 - accuracy: 0.0057 - val_loss: 3231.1574 - val_accuracy: 0.0000e+00\n",
      "Epoch 36/100\n",
      "353/353 [==============================] - 0s 398us/step - loss: 3632.1200 - accuracy: 0.0028 - val_loss: 3212.1293 - val_accuracy: 0.0000e+00\n",
      "Epoch 37/100\n",
      "353/353 [==============================] - 0s 345us/step - loss: 3604.7708 - accuracy: 0.0000e+00 - val_loss: 3192.6661 - val_accuracy: 0.0000e+00\n",
      "Epoch 38/100\n",
      "353/353 [==============================] - 0s 359us/step - loss: 3577.2683 - accuracy: 0.0028 - val_loss: 3176.1279 - val_accuracy: 0.0225\n",
      "Epoch 39/100\n",
      "353/353 [==============================] - 0s 387us/step - loss: 3558.0584 - accuracy: 0.0028 - val_loss: 3158.2514 - val_accuracy: 0.0000e+00\n",
      "Epoch 40/100\n",
      "353/353 [==============================] - 0s 314us/step - loss: 3527.8003 - accuracy: 0.0000e+00 - val_loss: 3144.2458 - val_accuracy: 0.0337\n",
      "Epoch 41/100\n",
      "353/353 [==============================] - 0s 291us/step - loss: 3509.4576 - accuracy: 0.0142 - val_loss: 3131.3069 - val_accuracy: 0.0225\n",
      "Epoch 42/100\n",
      "353/353 [==============================] - 0s 319us/step - loss: 3487.9596 - accuracy: 0.0057 - val_loss: 3114.7998 - val_accuracy: 0.0225\n",
      "Epoch 43/100\n",
      "353/353 [==============================] - 0s 347us/step - loss: 3461.9965 - accuracy: 0.0113 - val_loss: 3104.5675 - val_accuracy: 0.0225\n",
      "Epoch 44/100\n",
      "353/353 [==============================] - 0s 321us/step - loss: 3444.7388 - accuracy: 0.0000e+00 - val_loss: 3091.6852 - val_accuracy: 0.0112\n",
      "Epoch 45/100\n",
      "353/353 [==============================] - 0s 358us/step - loss: 3422.9852 - accuracy: 0.0057 - val_loss: 3078.9701 - val_accuracy: 0.0225\n",
      "Epoch 46/100\n",
      "353/353 [==============================] - 0s 330us/step - loss: 3407.7752 - accuracy: 0.0028 - val_loss: 3066.9989 - val_accuracy: 0.0225\n",
      "Epoch 47/100\n",
      "353/353 [==============================] - 0s 336us/step - loss: 3387.9618 - accuracy: 0.0000e+00 - val_loss: 3056.5363 - val_accuracy: 0.0225\n",
      "Epoch 48/100\n",
      "353/353 [==============================] - 0s 372us/step - loss: 3369.0861 - accuracy: 0.0028 - val_loss: 3046.1257 - val_accuracy: 0.0225\n",
      "Epoch 49/100\n",
      "353/353 [==============================] - 0s 402us/step - loss: 3358.3632 - accuracy: 0.0057 - val_loss: 3037.2546 - val_accuracy: 0.0112\n",
      "Epoch 50/100\n",
      "353/353 [==============================] - 0s 367us/step - loss: 3341.3197 - accuracy: 0.0057 - val_loss: 3028.0126 - val_accuracy: 0.0337\n",
      "Epoch 51/100\n",
      "353/353 [==============================] - 0s 328us/step - loss: 3324.8651 - accuracy: 0.0057 - val_loss: 3019.2366 - val_accuracy: 0.0337\n",
      "Epoch 52/100\n",
      "353/353 [==============================] - 0s 451us/step - loss: 3306.9566 - accuracy: 0.0057 - val_loss: 3011.6199 - val_accuracy: 0.0225\n",
      "Epoch 53/100\n"
     ]
    },
    {
     "name": "stdout",
     "output_type": "stream",
     "text": [
      "353/353 [==============================] - 0s 366us/step - loss: 3299.3717 - accuracy: 0.0028 - val_loss: 3004.3668 - val_accuracy: 0.0225\n",
      "Epoch 54/100\n",
      "353/353 [==============================] - 0s 409us/step - loss: 3285.9862 - accuracy: 0.0057 - val_loss: 2996.5952 - val_accuracy: 0.0225\n",
      "Epoch 55/100\n",
      "353/353 [==============================] - 0s 387us/step - loss: 3264.8360 - accuracy: 0.0028 - val_loss: 2989.8155 - val_accuracy: 0.0225\n",
      "Epoch 56/100\n",
      "353/353 [==============================] - 0s 393us/step - loss: 3254.6491 - accuracy: 0.0028 - val_loss: 2984.1933 - val_accuracy: 0.0225\n",
      "Epoch 57/100\n",
      "353/353 [==============================] - 0s 431us/step - loss: 3243.0775 - accuracy: 0.0085 - val_loss: 2977.3707 - val_accuracy: 0.0225\n",
      "Epoch 58/100\n",
      "353/353 [==============================] - 0s 368us/step - loss: 3236.1111 - accuracy: 0.0000e+00 - val_loss: 2971.3835 - val_accuracy: 0.0112\n",
      "Epoch 59/100\n",
      "353/353 [==============================] - 0s 410us/step - loss: 3218.3576 - accuracy: 0.0057 - val_loss: 2966.0830 - val_accuracy: 0.0112\n",
      "Epoch 60/100\n",
      "353/353 [==============================] - 0s 500us/step - loss: 3208.3602 - accuracy: 0.0085 - val_loss: 2960.5848 - val_accuracy: 0.0112\n",
      "Epoch 61/100\n",
      "353/353 [==============================] - 0s 299us/step - loss: 3200.6110 - accuracy: 0.0057 - val_loss: 2955.0268 - val_accuracy: 0.0000e+00\n",
      "Epoch 62/100\n",
      "353/353 [==============================] - 0s 270us/step - loss: 3185.9598 - accuracy: 0.0057 - val_loss: 2950.0398 - val_accuracy: 0.0000e+00\n",
      "Epoch 63/100\n",
      "353/353 [==============================] - 0s 271us/step - loss: 3177.0171 - accuracy: 0.0085 - val_loss: 2945.6499 - val_accuracy: 0.0000e+00\n",
      "Epoch 64/100\n",
      "353/353 [==============================] - 0s 274us/step - loss: 3170.0698 - accuracy: 0.0057 - val_loss: 2940.3644 - val_accuracy: 0.0000e+00\n",
      "Epoch 65/100\n",
      "353/353 [==============================] - 0s 257us/step - loss: 3157.7486 - accuracy: 0.0057 - val_loss: 2935.8568 - val_accuracy: 0.0112\n",
      "Epoch 66/100\n",
      "353/353 [==============================] - 0s 266us/step - loss: 3153.3904 - accuracy: 0.0113 - val_loss: 2933.1170 - val_accuracy: 0.0000e+00\n",
      "Epoch 67/100\n",
      "353/353 [==============================] - 0s 398us/step - loss: 3145.1172 - accuracy: 0.0000e+00 - val_loss: 2930.5286 - val_accuracy: 0.0000e+00\n",
      "Epoch 68/100\n",
      "353/353 [==============================] - 0s 376us/step - loss: 3131.2120 - accuracy: 0.0057 - val_loss: 2925.0426 - val_accuracy: 0.0000e+00\n",
      "Epoch 69/100\n",
      "353/353 [==============================] - 0s 328us/step - loss: 3122.8452 - accuracy: 0.0057 - val_loss: 2921.6623 - val_accuracy: 0.0000e+00\n",
      "Epoch 70/100\n",
      "353/353 [==============================] - 0s 328us/step - loss: 3114.8066 - accuracy: 0.0085 - val_loss: 2918.9981 - val_accuracy: 0.0112\n",
      "Epoch 71/100\n",
      "353/353 [==============================] - 0s 291us/step - loss: 3108.7723 - accuracy: 0.0085 - val_loss: 2916.9684 - val_accuracy: 0.0112\n",
      "Epoch 72/100\n",
      "353/353 [==============================] - 0s 265us/step - loss: 3102.0466 - accuracy: 0.0028 - val_loss: 2910.8314 - val_accuracy: 0.0112\n",
      "Epoch 73/100\n",
      "353/353 [==============================] - 0s 266us/step - loss: 3091.8641 - accuracy: 0.0028 - val_loss: 2907.9269 - val_accuracy: 0.0225\n",
      "Epoch 74/100\n",
      "353/353 [==============================] - 0s 294us/step - loss: 3089.3503 - accuracy: 0.0113 - val_loss: 2906.0255 - val_accuracy: 0.0225\n",
      "Epoch 75/100\n",
      "353/353 [==============================] - 0s 271us/step - loss: 3079.1093 - accuracy: 0.0113 - val_loss: 2904.7355 - val_accuracy: 0.0225\n",
      "Epoch 76/100\n",
      "353/353 [==============================] - 0s 267us/step - loss: 3076.3689 - accuracy: 0.0028 - val_loss: 2902.6869 - val_accuracy: 0.0337\n",
      "Epoch 77/100\n",
      "353/353 [==============================] - 0s 297us/step - loss: 3071.9379 - accuracy: 0.0085 - val_loss: 2902.2851 - val_accuracy: 0.0225\n",
      "Epoch 78/100\n",
      "353/353 [==============================] - 0s 305us/step - loss: 3061.9144 - accuracy: 0.0113 - val_loss: 2898.9522 - val_accuracy: 0.0112\n",
      "Epoch 79/100\n",
      "353/353 [==============================] - 0s 264us/step - loss: 3060.1519 - accuracy: 0.0000e+00 - val_loss: 2897.8832 - val_accuracy: 0.0000e+00\n",
      "Epoch 80/100\n",
      "353/353 [==============================] - 0s 274us/step - loss: 3050.3451 - accuracy: 0.0057 - val_loss: 2894.2907 - val_accuracy: 0.0112\n",
      "Epoch 81/100\n",
      "353/353 [==============================] - 0s 268us/step - loss: 3043.7664 - accuracy: 0.0085 - val_loss: 2889.9410 - val_accuracy: 0.0112\n",
      "Epoch 82/100\n",
      "353/353 [==============================] - 0s 263us/step - loss: 3040.5240 - accuracy: 0.0085 - val_loss: 2889.5386 - val_accuracy: 0.0000e+00\n",
      "Epoch 83/100\n",
      "353/353 [==============================] - 0s 268us/step - loss: 3035.0637 - accuracy: 0.0113 - val_loss: 2889.0330 - val_accuracy: 0.0112\n",
      "Epoch 84/100\n",
      "353/353 [==============================] - 0s 297us/step - loss: 3029.9282 - accuracy: 0.0057 - val_loss: 2885.5721 - val_accuracy: 0.0000e+00\n",
      "Epoch 85/100\n",
      "353/353 [==============================] - 0s 274us/step - loss: 3025.8811 - accuracy: 0.0057 - val_loss: 2883.6936 - val_accuracy: 0.0000e+00\n",
      "Epoch 86/100\n",
      "353/353 [==============================] - 0s 263us/step - loss: 3023.3691 - accuracy: 0.0113 - val_loss: 2880.8663 - val_accuracy: 0.0000e+00\n",
      "Epoch 87/100\n",
      "353/353 [==============================] - 0s 273us/step - loss: 3022.3198 - accuracy: 0.0085 - val_loss: 2882.1387 - val_accuracy: 0.0112\n",
      "Epoch 88/100\n",
      "353/353 [==============================] - 0s 277us/step - loss: 3014.0539 - accuracy: 0.0028 - val_loss: 2882.3009 - val_accuracy: 0.0000e+00\n",
      "Epoch 89/100\n",
      "353/353 [==============================] - 0s 299us/step - loss: 3007.7205 - accuracy: 0.0113 - val_loss: 2883.8875 - val_accuracy: 0.0000e+00\n",
      "Epoch 90/100\n",
      "353/353 [==============================] - 0s 298us/step - loss: 3006.1482 - accuracy: 0.0085 - val_loss: 2881.7542 - val_accuracy: 0.0000e+00\n",
      "Epoch 91/100\n",
      "353/353 [==============================] - 0s 280us/step - loss: 2999.6664 - accuracy: 0.0028 - val_loss: 2878.7058 - val_accuracy: 0.0000e+00\n",
      "Epoch 92/100\n",
      "353/353 [==============================] - 0s 271us/step - loss: 2997.6725 - accuracy: 0.0113 - val_loss: 2876.4896 - val_accuracy: 0.0000e+00\n",
      "Epoch 93/100\n",
      "353/353 [==============================] - 0s 274us/step - loss: 2994.9728 - accuracy: 0.0028 - val_loss: 2875.1863 - val_accuracy: 0.0000e+00\n",
      "Epoch 94/100\n",
      "353/353 [==============================] - 0s 277us/step - loss: 2989.8941 - accuracy: 0.0057 - val_loss: 2872.3118 - val_accuracy: 0.0112\n",
      "Epoch 95/100\n",
      "353/353 [==============================] - 0s 285us/step - loss: 2988.3254 - accuracy: 0.0000e+00 - val_loss: 2872.7774 - val_accuracy: 0.0112\n",
      "Epoch 96/100\n",
      "353/353 [==============================] - 0s 283us/step - loss: 2985.2239 - accuracy: 0.0057 - val_loss: 2870.5910 - val_accuracy: 0.0112\n",
      "Epoch 97/100\n",
      "353/353 [==============================] - 0s 254us/step - loss: 2983.2096 - accuracy: 0.0028 - val_loss: 2869.6629 - val_accuracy: 0.0112\n",
      "Epoch 98/100\n",
      "353/353 [==============================] - 0s 280us/step - loss: 2979.4825 - accuracy: 0.0028 - val_loss: 2870.6057 - val_accuracy: 0.0225\n",
      "Epoch 99/100\n",
      "353/353 [==============================] - 0s 253us/step - loss: 2979.2996 - accuracy: 0.0028 - val_loss: 2873.9750 - val_accuracy: 0.0225\n",
      "Epoch 100/100\n",
      "353/353 [==============================] - 0s 291us/step - loss: 2975.8338 - accuracy: 0.0085 - val_loss: 2870.6309 - val_accuracy: 0.0225\n"
     ]
    },
    {
     "data": {
      "text/plain": [
       "<keras.callbacks.callbacks.History at 0x16596f7c748>"
      ]
     },
     "execution_count": 58,
     "metadata": {},
     "output_type": "execute_result"
    }
   ],
   "source": [
    "model2.fit(X_train, y_train, validation_data=(X_test, y_test), epochs=100, batch_size=5)"
   ]
  },
  {
   "cell_type": "markdown",
   "metadata": {
    "id": "omiw74OHSQpo"
   },
   "source": [
    "#### Making a Hybrid Model, combining DNN and RF and combining the outputs of the two."
   ]
  },
  {
   "cell_type": "markdown",
   "metadata": {
    "id": "DuF97EAaQ_0G"
   },
   "source": [
    "\n",
    "#### We are using the Averaging Ensembling Technique. In this method, we take an average of predictions from all the models and use it to make the final prediction. Averaging can be used for making predictions in regression problems or while calculating probabilities for classification problems."
   ]
  },
  {
   "cell_type": "code",
   "execution_count": 59,
   "metadata": {
    "id": "5apKggfkJZcr"
   },
   "outputs": [],
   "source": [
    "prediction_DNN = model2.predict(X[:1])"
   ]
  },
  {
   "cell_type": "code",
   "execution_count": 60,
   "metadata": {
    "colab": {
     "base_uri": "https://localhost:8080/"
    },
    "id": "L8YRob1wKf_-",
    "outputId": "6fe4d1fc-3275-4913-ce72-259c70aefd39"
   },
   "outputs": [
    {
     "data": {
      "text/plain": [
       "array([[656.6555]], dtype=float32)"
      ]
     },
     "execution_count": 60,
     "metadata": {},
     "output_type": "execute_result"
    }
   ],
   "source": [
    "prediction_DNN"
   ]
  },
  {
   "cell_type": "code",
   "execution_count": 61,
   "metadata": {
    "id": "COWg7-D-K3-W"
   },
   "outputs": [],
   "source": [
    "prediction_RandomForest = rf.predict(X[:1])"
   ]
  },
  {
   "cell_type": "code",
   "execution_count": 62,
   "metadata": {
    "colab": {
     "base_uri": "https://localhost:8080/"
    },
    "id": "cWNeO9_1K7t7",
    "outputId": "b91f8a7d-0de7-47a9-fffe-e8d33278efa1"
   },
   "outputs": [
    {
     "data": {
      "text/plain": [
       "array([251.27])"
      ]
     },
     "execution_count": 62,
     "metadata": {},
     "output_type": "execute_result"
    }
   ],
   "source": [
    "prediction_RandomForest"
   ]
  },
  {
   "cell_type": "code",
   "execution_count": 63,
   "metadata": {},
   "outputs": [
    {
     "data": {
      "text/plain": [
       "array([[0.66666667, 1.        , 0.58264463, 0.54929577, 0.29411765,\n",
       "        0.25697211, 0.20779221, 0.28208745, 0.56221737, 0.43939394],\n",
       "       [0.48333333, 0.        , 0.14876033, 0.35211268, 0.42156863,\n",
       "        0.30677291, 0.62337662, 0.14104372, 0.22244301, 0.16666667],\n",
       "       [0.88333333, 1.        , 0.51652893, 0.43661972, 0.28921569,\n",
       "        0.25896414, 0.24675325, 0.28208745, 0.49658437, 0.40909091],\n",
       "       [0.08333333, 0.        , 0.30165289, 0.30985915, 0.49509804,\n",
       "        0.44721116, 0.23376623, 0.42313117, 0.57293604, 0.46969697],\n",
       "       [0.51666667, 0.        , 0.20661157, 0.54929577, 0.46568627,\n",
       "        0.41733068, 0.38961039, 0.28208745, 0.36236911, 0.33333333],\n",
       "       [0.06666667, 0.        , 0.19008264, 0.38028169, 0.20588235,\n",
       "        0.11553785, 0.50649351, 0.        , 0.32698571, 0.15151515],\n",
       "       [0.28333333, 1.        , 0.16528926, 0.3943662 , 0.30882353,\n",
       "        0.28884462, 0.36363636, 0.14104372, 0.24330119, 0.36363636],\n",
       "       [0.78333333, 1.        , 0.33884298, 0.73239437, 0.7745098 ,\n",
       "        0.71414343, 0.44155844, 0.3596615 , 0.34763928, 0.51515152],\n",
       "       [0.68333333, 1.        , 0.58264463, 0.29577465, 0.40196078,\n",
       "        0.3874502 , 0.25974026, 0.28208745, 0.42796483, 0.54545455],\n",
       "       [0.16666667, 0.        , 0.49586777, 0.32394366, 0.40686275,\n",
       "        0.25796813, 0.27272727, 0.28208745, 0.74638592, 0.45454545]])"
      ]
     },
     "execution_count": 63,
     "metadata": {},
     "output_type": "execute_result"
    }
   ],
   "source": [
    "X[:10]"
   ]
  },
  {
   "cell_type": "code",
   "execution_count": 64,
   "metadata": {
    "id": "N2yqpy5VLl9f"
   },
   "outputs": [],
   "source": [
    "pred1=model2.predict(X[:10])\n",
    "pred2=rf.predict(X[:10])"
   ]
  },
  {
   "cell_type": "code",
   "execution_count": 65,
   "metadata": {
    "colab": {
     "base_uri": "https://localhost:8080/"
    },
    "id": "o1lnqobPLmAm",
    "outputId": "3a108d79-9e89-4b0b-873d-0d81e78c08de"
   },
   "outputs": [
    {
     "data": {
      "text/plain": [
       "array([[656.6556 ],\n",
       "       [282.45355],\n",
       "       [568.4486 ],\n",
       "       [599.1398 ],\n",
       "       [509.00797],\n",
       "       [355.4962 ],\n",
       "       [219.69685],\n",
       "       [440.28134],\n",
       "       [516.17676],\n",
       "       [744.5472 ]], dtype=float32)"
      ]
     },
     "execution_count": 65,
     "metadata": {},
     "output_type": "execute_result"
    }
   ],
   "source": [
    "pred1"
   ]
  },
  {
   "cell_type": "code",
   "execution_count": 66,
   "metadata": {
    "id": "PtIW-I40Nyb3"
   },
   "outputs": [],
   "source": [
    "pred1 = pred1.flatten() "
   ]
  },
  {
   "cell_type": "code",
   "execution_count": 67,
   "metadata": {
    "colab": {
     "base_uri": "https://localhost:8080/"
    },
    "id": "f1VMz0epLmEE",
    "outputId": "2471f738-9e0f-49ce-92da-fc836ad3550e"
   },
   "outputs": [
    {
     "data": {
      "text/plain": [
       "array([656.6556 , 282.45355, 568.4486 , 599.1398 , 509.00797, 355.4962 ,\n",
       "       219.69685, 440.28134, 516.17676, 744.5472 ], dtype=float32)"
      ]
     },
     "execution_count": 67,
     "metadata": {},
     "output_type": "execute_result"
    }
   ],
   "source": [
    "pred1"
   ]
  },
  {
   "cell_type": "code",
   "execution_count": 68,
   "metadata": {
    "colab": {
     "base_uri": "https://localhost:8080/"
    },
    "id": "ae5lYM_OM4v2",
    "outputId": "1004c3e3-40ef-44a3-afe3-bb9b5fd1d53f"
   },
   "outputs": [
    {
     "data": {
      "text/plain": [
       "array([656.6556 , 282.45355, 568.4486 , 599.1398 , 509.00797, 355.4962 ,\n",
       "       219.69685, 440.28134, 516.17676, 744.5472 ], dtype=float32)"
      ]
     },
     "execution_count": 68,
     "metadata": {},
     "output_type": "execute_result"
    }
   ],
   "source": [
    "pred1=np.array(pred1)\n",
    "pred1"
   ]
  },
  {
   "cell_type": "code",
   "execution_count": 69,
   "metadata": {
    "colab": {
     "base_uri": "https://localhost:8080/"
    },
    "id": "v6VPryJVNFse",
    "outputId": "52b32d04-f4df-4612-845a-7232cb1065fd"
   },
   "outputs": [
    {
     "data": {
      "text/plain": [
       "array([251.27 , 253.034, 251.27 , 250.57 , 250.57 , 256.526, 253.974,\n",
       "       251.27 , 251.27 , 250.57 ])"
      ]
     },
     "execution_count": 69,
     "metadata": {},
     "output_type": "execute_result"
    }
   ],
   "source": [
    "pred2=np.array(pred2)\n",
    "pred2"
   ]
  },
  {
   "cell_type": "code",
   "execution_count": 70,
   "metadata": {
    "id": "DuvKjRfEMCtc"
   },
   "outputs": [],
   "source": [
    "out_arr = np.add(pred2, pred1)/2"
   ]
  },
  {
   "cell_type": "code",
   "execution_count": 71,
   "metadata": {
    "colab": {
     "base_uri": "https://localhost:8080/"
    },
    "id": "NTnZWIAoMFP0",
    "outputId": "71d7b2af-a911-42e6-922b-d0b47e14349f"
   },
   "outputs": [
    {
     "data": {
      "text/plain": [
       "array([453.96278931, 267.74377612, 409.8593042 , 424.85488525,\n",
       "       379.78898254, 306.01109265, 236.83542682, 345.77567078,\n",
       "       383.72337891, 497.55859009])"
      ]
     },
     "execution_count": 71,
     "metadata": {},
     "output_type": "execute_result"
    }
   ],
   "source": [
    "out_arr"
   ]
  },
  {
   "cell_type": "code",
   "execution_count": 72,
   "metadata": {
    "colab": {
     "base_uri": "https://localhost:8080/"
    },
    "id": "Pdf3gRXdSVVI",
    "outputId": "7096550e-56a0-4d7e-a302-40bbddaeec0d"
   },
   "outputs": [
    {
     "data": {
      "text/plain": [
       "array([151.,  75., 141., 206., 135.,  97., 138.,  63., 110., 310.])"
      ]
     },
     "execution_count": 72,
     "metadata": {},
     "output_type": "execute_result"
    }
   ],
   "source": [
    "Y[:10]"
   ]
  },
  {
   "cell_type": "markdown",
   "metadata": {
    "id": "4bH55InjUf_H"
   },
   "source": [
    "#### On looking at the outputs we can say that the Hybrid approach is more accurate than the DNN model or the RF model used separately."
   ]
  }
 ],
 "metadata": {
  "kernelspec": {
   "display_name": "Python 3",
   "language": "python",
   "name": "python3"
  },
  "language_info": {
   "codemirror_mode": {
    "name": "ipython",
    "version": 3
   },
   "file_extension": ".py",
   "mimetype": "text/x-python",
   "name": "python",
   "nbconvert_exporter": "python",
   "pygments_lexer": "ipython3",
   "version": "3.6.12"
  }
 },
 "nbformat": 4,
 "nbformat_minor": 4
}
