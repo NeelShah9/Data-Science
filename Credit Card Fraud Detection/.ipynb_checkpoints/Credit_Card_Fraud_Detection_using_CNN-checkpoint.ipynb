{
 "cells": [
  {
   "cell_type": "markdown",
   "metadata": {
    "id": "l8iq8ibczi3z"
   },
   "source": [
    "**Credit Card Fraud Detection using CNN (Advance Data Science)**\n",
    "\n",
    "*CNN are used for Image Data Analysis. Howerver, we wanted to go an extra mile and explore how CNN works for our Data Set*\n",
    "\n",
    "*The term refers to a class of neural networks with a specific network architecture, where each so-called hidden layer typically has two distinct layers: the first stage is the result of a local convolution of the previous layer\n",
    "he second stage is a max-pooling stage, where the number of units is significantly reduced by keeping only the maximum response of several units of the first stage.*\n",
    "\n",
    "<img src=\"images/CNN.png\" alt=\"Credit Card\" width=\"500\" height=\"600\">\n",
    "\n",
    "**The necessary python libraries are imported here-**\n",
    "\n",
    "*Tensorflow is used to build the neural network.numpy is used to perform basic array operations pandas for loading and manipulating the data.pyplot from  matplotlib is used to visualize the results.train_test_split is used to split the data into training and testing datasets. StandardScaler is used to scale the values in the data.*\n",
    "\n",
    "\n",
    "\n",
    "\n"
   ]
  },
  {
   "cell_type": "markdown",
   "metadata": {
    "id": "7fF4gc1WzqPL"
   },
   "source": [
    "**Import Libraries**"
   ]
  },
  {
   "cell_type": "code",
   "execution_count": 2,
   "metadata": {
    "colab": {
     "base_uri": "https://localhost:8080/"
    },
    "id": "ryKxycKCzZ66",
    "outputId": "c47e2e81-44f2-4e42-c73b-b258964422e5"
   },
   "outputs": [
    {
     "name": "stdout",
     "output_type": "stream",
     "text": [
      "2.3.0\n"
     ]
    }
   ],
   "source": [
    "import tensorflow as tf\n",
    "from tensorflow import keras\n",
    "from tensorflow.keras import Sequential\n",
    "from tensorflow.keras.layers import Flatten, Dense, Dropout, BatchNormalization\n",
    "from tensorflow.keras.layers import Conv1D, MaxPool1D\n",
    "from tensorflow.keras.optimizers import Adam\n",
    "print(tf.__version__)\n",
    "import pandas as pd\n",
    "import numpy as np\n",
    "import matplotlib.pyplot as plt\n",
    "from sklearn.model_selection import train_test_split\n",
    "from sklearn.preprocessing import StandardScaler"
   ]
  },
  {
   "cell_type": "code",
   "execution_count": 3,
   "metadata": {
    "colab": {
     "base_uri": "https://localhost:8080/"
    },
    "id": "AMYH3vdmzuw6",
    "outputId": "7d49b69b-ce49-40df-822a-9b2d97993dca"
   },
   "outputs": [
    {
     "name": "stdout",
     "output_type": "stream",
     "text": [
      "Mounted at /content/gdrive\n"
     ]
    }
   ],
   "source": [
    "from google.colab import drive\n",
    "drive.mount('/content/gdrive')"
   ]
  },
  {
   "cell_type": "code",
   "execution_count": 5,
   "metadata": {
    "colab": {
     "base_uri": "https://localhost:8080/",
     "height": 222
    },
    "id": "6qgPICUbzu0b",
    "outputId": "ee9bc303-087c-4417-e364-d5b949c19d43"
   },
   "outputs": [
    {
     "data": {
      "text/html": [
       "<div>\n",
       "<style scoped>\n",
       "    .dataframe tbody tr th:only-of-type {\n",
       "        vertical-align: middle;\n",
       "    }\n",
       "\n",
       "    .dataframe tbody tr th {\n",
       "        vertical-align: top;\n",
       "    }\n",
       "\n",
       "    .dataframe thead th {\n",
       "        text-align: right;\n",
       "    }\n",
       "</style>\n",
       "<table border=\"1\" class=\"dataframe\">\n",
       "  <thead>\n",
       "    <tr style=\"text-align: right;\">\n",
       "      <th></th>\n",
       "      <th>Time</th>\n",
       "      <th>V1</th>\n",
       "      <th>V2</th>\n",
       "      <th>V3</th>\n",
       "      <th>V4</th>\n",
       "      <th>V5</th>\n",
       "      <th>V6</th>\n",
       "      <th>V7</th>\n",
       "      <th>V8</th>\n",
       "      <th>V9</th>\n",
       "      <th>V10</th>\n",
       "      <th>V11</th>\n",
       "      <th>V12</th>\n",
       "      <th>V13</th>\n",
       "      <th>V14</th>\n",
       "      <th>V15</th>\n",
       "      <th>V16</th>\n",
       "      <th>V17</th>\n",
       "      <th>V18</th>\n",
       "      <th>V19</th>\n",
       "      <th>V20</th>\n",
       "      <th>V21</th>\n",
       "      <th>V22</th>\n",
       "      <th>V23</th>\n",
       "      <th>V24</th>\n",
       "      <th>V25</th>\n",
       "      <th>V26</th>\n",
       "      <th>V27</th>\n",
       "      <th>V28</th>\n",
       "      <th>Amount</th>\n",
       "      <th>Class</th>\n",
       "    </tr>\n",
       "  </thead>\n",
       "  <tbody>\n",
       "    <tr>\n",
       "      <th>0</th>\n",
       "      <td>0.0</td>\n",
       "      <td>-1.359807</td>\n",
       "      <td>-0.072781</td>\n",
       "      <td>2.536347</td>\n",
       "      <td>1.378155</td>\n",
       "      <td>-0.338321</td>\n",
       "      <td>0.462388</td>\n",
       "      <td>0.239599</td>\n",
       "      <td>0.098698</td>\n",
       "      <td>0.363787</td>\n",
       "      <td>0.090794</td>\n",
       "      <td>-0.551600</td>\n",
       "      <td>-0.617801</td>\n",
       "      <td>-0.991390</td>\n",
       "      <td>-0.311169</td>\n",
       "      <td>1.468177</td>\n",
       "      <td>-0.470401</td>\n",
       "      <td>0.207971</td>\n",
       "      <td>0.025791</td>\n",
       "      <td>0.403993</td>\n",
       "      <td>0.251412</td>\n",
       "      <td>-0.018307</td>\n",
       "      <td>0.277838</td>\n",
       "      <td>-0.110474</td>\n",
       "      <td>0.066928</td>\n",
       "      <td>0.128539</td>\n",
       "      <td>-0.189115</td>\n",
       "      <td>0.133558</td>\n",
       "      <td>-0.021053</td>\n",
       "      <td>149.62</td>\n",
       "      <td>0</td>\n",
       "    </tr>\n",
       "    <tr>\n",
       "      <th>1</th>\n",
       "      <td>0.0</td>\n",
       "      <td>1.191857</td>\n",
       "      <td>0.266151</td>\n",
       "      <td>0.166480</td>\n",
       "      <td>0.448154</td>\n",
       "      <td>0.060018</td>\n",
       "      <td>-0.082361</td>\n",
       "      <td>-0.078803</td>\n",
       "      <td>0.085102</td>\n",
       "      <td>-0.255425</td>\n",
       "      <td>-0.166974</td>\n",
       "      <td>1.612727</td>\n",
       "      <td>1.065235</td>\n",
       "      <td>0.489095</td>\n",
       "      <td>-0.143772</td>\n",
       "      <td>0.635558</td>\n",
       "      <td>0.463917</td>\n",
       "      <td>-0.114805</td>\n",
       "      <td>-0.183361</td>\n",
       "      <td>-0.145783</td>\n",
       "      <td>-0.069083</td>\n",
       "      <td>-0.225775</td>\n",
       "      <td>-0.638672</td>\n",
       "      <td>0.101288</td>\n",
       "      <td>-0.339846</td>\n",
       "      <td>0.167170</td>\n",
       "      <td>0.125895</td>\n",
       "      <td>-0.008983</td>\n",
       "      <td>0.014724</td>\n",
       "      <td>2.69</td>\n",
       "      <td>0</td>\n",
       "    </tr>\n",
       "    <tr>\n",
       "      <th>2</th>\n",
       "      <td>1.0</td>\n",
       "      <td>-1.358354</td>\n",
       "      <td>-1.340163</td>\n",
       "      <td>1.773209</td>\n",
       "      <td>0.379780</td>\n",
       "      <td>-0.503198</td>\n",
       "      <td>1.800499</td>\n",
       "      <td>0.791461</td>\n",
       "      <td>0.247676</td>\n",
       "      <td>-1.514654</td>\n",
       "      <td>0.207643</td>\n",
       "      <td>0.624501</td>\n",
       "      <td>0.066084</td>\n",
       "      <td>0.717293</td>\n",
       "      <td>-0.165946</td>\n",
       "      <td>2.345865</td>\n",
       "      <td>-2.890083</td>\n",
       "      <td>1.109969</td>\n",
       "      <td>-0.121359</td>\n",
       "      <td>-2.261857</td>\n",
       "      <td>0.524980</td>\n",
       "      <td>0.247998</td>\n",
       "      <td>0.771679</td>\n",
       "      <td>0.909412</td>\n",
       "      <td>-0.689281</td>\n",
       "      <td>-0.327642</td>\n",
       "      <td>-0.139097</td>\n",
       "      <td>-0.055353</td>\n",
       "      <td>-0.059752</td>\n",
       "      <td>378.66</td>\n",
       "      <td>0</td>\n",
       "    </tr>\n",
       "    <tr>\n",
       "      <th>3</th>\n",
       "      <td>1.0</td>\n",
       "      <td>-0.966272</td>\n",
       "      <td>-0.185226</td>\n",
       "      <td>1.792993</td>\n",
       "      <td>-0.863291</td>\n",
       "      <td>-0.010309</td>\n",
       "      <td>1.247203</td>\n",
       "      <td>0.237609</td>\n",
       "      <td>0.377436</td>\n",
       "      <td>-1.387024</td>\n",
       "      <td>-0.054952</td>\n",
       "      <td>-0.226487</td>\n",
       "      <td>0.178228</td>\n",
       "      <td>0.507757</td>\n",
       "      <td>-0.287924</td>\n",
       "      <td>-0.631418</td>\n",
       "      <td>-1.059647</td>\n",
       "      <td>-0.684093</td>\n",
       "      <td>1.965775</td>\n",
       "      <td>-1.232622</td>\n",
       "      <td>-0.208038</td>\n",
       "      <td>-0.108300</td>\n",
       "      <td>0.005274</td>\n",
       "      <td>-0.190321</td>\n",
       "      <td>-1.175575</td>\n",
       "      <td>0.647376</td>\n",
       "      <td>-0.221929</td>\n",
       "      <td>0.062723</td>\n",
       "      <td>0.061458</td>\n",
       "      <td>123.50</td>\n",
       "      <td>0</td>\n",
       "    </tr>\n",
       "    <tr>\n",
       "      <th>4</th>\n",
       "      <td>2.0</td>\n",
       "      <td>-1.158233</td>\n",
       "      <td>0.877737</td>\n",
       "      <td>1.548718</td>\n",
       "      <td>0.403034</td>\n",
       "      <td>-0.407193</td>\n",
       "      <td>0.095921</td>\n",
       "      <td>0.592941</td>\n",
       "      <td>-0.270533</td>\n",
       "      <td>0.817739</td>\n",
       "      <td>0.753074</td>\n",
       "      <td>-0.822843</td>\n",
       "      <td>0.538196</td>\n",
       "      <td>1.345852</td>\n",
       "      <td>-1.119670</td>\n",
       "      <td>0.175121</td>\n",
       "      <td>-0.451449</td>\n",
       "      <td>-0.237033</td>\n",
       "      <td>-0.038195</td>\n",
       "      <td>0.803487</td>\n",
       "      <td>0.408542</td>\n",
       "      <td>-0.009431</td>\n",
       "      <td>0.798278</td>\n",
       "      <td>-0.137458</td>\n",
       "      <td>0.141267</td>\n",
       "      <td>-0.206010</td>\n",
       "      <td>0.502292</td>\n",
       "      <td>0.219422</td>\n",
       "      <td>0.215153</td>\n",
       "      <td>69.99</td>\n",
       "      <td>0</td>\n",
       "    </tr>\n",
       "  </tbody>\n",
       "</table>\n",
       "</div>"
      ],
      "text/plain": [
       "   Time        V1        V2        V3  ...       V27       V28  Amount  Class\n",
       "0   0.0 -1.359807 -0.072781  2.536347  ...  0.133558 -0.021053  149.62      0\n",
       "1   0.0  1.191857  0.266151  0.166480  ... -0.008983  0.014724    2.69      0\n",
       "2   1.0 -1.358354 -1.340163  1.773209  ... -0.055353 -0.059752  378.66      0\n",
       "3   1.0 -0.966272 -0.185226  1.792993  ...  0.062723  0.061458  123.50      0\n",
       "4   2.0 -1.158233  0.877737  1.548718  ...  0.219422  0.215153   69.99      0\n",
       "\n",
       "[5 rows x 31 columns]"
      ]
     },
     "execution_count": 5,
     "metadata": {
      "tags": []
     },
     "output_type": "execute_result"
    }
   ],
   "source": [
    "# Reading the CSV file\n",
    "data = pd.read_csv('/creditcard.csv',sep=',')\n",
    "data.head()"
   ]
  },
  {
   "cell_type": "markdown",
   "metadata": {
    "id": "C1Bz_REu0ChT"
   },
   "source": [
    "**The dataset has 284807 rows and 31 columns**"
   ]
  },
  {
   "cell_type": "code",
   "execution_count": 6,
   "metadata": {
    "colab": {
     "base_uri": "https://localhost:8080/"
    },
    "id": "p1PfFq9uzu30",
    "outputId": "fa4ccafb-fd0f-4287-d19e-aa49350b5494"
   },
   "outputs": [
    {
     "data": {
      "text/plain": [
       "(284807, 31)"
      ]
     },
     "execution_count": 6,
     "metadata": {
      "tags": []
     },
     "output_type": "execute_result"
    }
   ],
   "source": [
    "data.shape"
   ]
  },
  {
   "cell_type": "code",
   "execution_count": 7,
   "metadata": {
    "colab": {
     "base_uri": "https://localhost:8080/"
    },
    "id": "pzOWd8h4zu6Z",
    "outputId": "cf5d79e1-d0a0-4c70-faea-2a8df9a7f856"
   },
   "outputs": [
    {
     "data": {
      "text/plain": [
       "Time      0\n",
       "V1        0\n",
       "V2        0\n",
       "V3        0\n",
       "V4        0\n",
       "V5        0\n",
       "V6        0\n",
       "V7        0\n",
       "V8        0\n",
       "V9        0\n",
       "V10       0\n",
       "V11       0\n",
       "V12       0\n",
       "V13       0\n",
       "V14       0\n",
       "V15       0\n",
       "V16       0\n",
       "V17       0\n",
       "V18       0\n",
       "V19       0\n",
       "V20       0\n",
       "V21       0\n",
       "V22       0\n",
       "V23       0\n",
       "V24       0\n",
       "V25       0\n",
       "V26       0\n",
       "V27       0\n",
       "V28       0\n",
       "Amount    0\n",
       "Class     0\n",
       "dtype: int64"
      ]
     },
     "execution_count": 7,
     "metadata": {
      "tags": []
     },
     "output_type": "execute_result"
    }
   ],
   "source": [
    "data.isnull().sum()"
   ]
  },
  {
   "cell_type": "markdown",
   "metadata": {
    "id": "61nj1nWP0Yq8"
   },
   "source": [
    "Lets check how the data looks like..............\n"
   ]
  },
  {
   "cell_type": "code",
   "execution_count": 8,
   "metadata": {
    "colab": {
     "base_uri": "https://localhost:8080/"
    },
    "id": "jXzXOhc_zu9j",
    "outputId": "c1260014-21d2-47d3-cf1c-06e264dc40eb"
   },
   "outputs": [
    {
     "data": {
      "text/plain": [
       "((284315, 31), (492, 31))"
      ]
     },
     "execution_count": 8,
     "metadata": {
      "tags": []
     },
     "output_type": "execute_result"
    }
   ],
   "source": [
    "non_fraud = data[data['Class']==0]\n",
    "fraud = data[data['Class']==1]\n",
    "non_fraud.shape, fraud.shape"
   ]
  },
  {
   "cell_type": "markdown",
   "metadata": {
    "id": "Nm7F8ql10tIL"
   },
   "source": [
    "To balance the data we will select 492 transactions randomly from non_fraud.Now you can see that non_fraud has 492 rows.\n",
    "\n",
    "\n",
    "Note: Here we are downSampling our Data so that Imbalance is Removed"
   ]
  },
  {
   "cell_type": "code",
   "execution_count": 9,
   "metadata": {
    "colab": {
     "base_uri": "https://localhost:8080/"
    },
    "id": "dzr3bapQzmuJ",
    "outputId": "4080e397-76de-4ebf-d16e-ccbd7437f77d"
   },
   "outputs": [
    {
     "data": {
      "text/plain": [
       "(492, 31)"
      ]
     },
     "execution_count": 9,
     "metadata": {
      "tags": []
     },
     "output_type": "execute_result"
    }
   ],
   "source": [
    "non_fraud = non_fraud.sample(fraud.shape[0])\n",
    "non_fraud.shape"
   ]
  },
  {
   "cell_type": "code",
   "execution_count": 10,
   "metadata": {
    "colab": {
     "base_uri": "https://localhost:8080/",
     "height": 222
    },
    "id": "UgNx-vHh0xZ9",
    "outputId": "4765b06f-488d-4372-b9ee-ae2637762406"
   },
   "outputs": [
    {
     "data": {
      "text/html": [
       "<div>\n",
       "<style scoped>\n",
       "    .dataframe tbody tr th:only-of-type {\n",
       "        vertical-align: middle;\n",
       "    }\n",
       "\n",
       "    .dataframe tbody tr th {\n",
       "        vertical-align: top;\n",
       "    }\n",
       "\n",
       "    .dataframe thead th {\n",
       "        text-align: right;\n",
       "    }\n",
       "</style>\n",
       "<table border=\"1\" class=\"dataframe\">\n",
       "  <thead>\n",
       "    <tr style=\"text-align: right;\">\n",
       "      <th></th>\n",
       "      <th>Time</th>\n",
       "      <th>V1</th>\n",
       "      <th>V2</th>\n",
       "      <th>V3</th>\n",
       "      <th>V4</th>\n",
       "      <th>V5</th>\n",
       "      <th>V6</th>\n",
       "      <th>V7</th>\n",
       "      <th>V8</th>\n",
       "      <th>V9</th>\n",
       "      <th>V10</th>\n",
       "      <th>V11</th>\n",
       "      <th>V12</th>\n",
       "      <th>V13</th>\n",
       "      <th>V14</th>\n",
       "      <th>V15</th>\n",
       "      <th>V16</th>\n",
       "      <th>V17</th>\n",
       "      <th>V18</th>\n",
       "      <th>V19</th>\n",
       "      <th>V20</th>\n",
       "      <th>V21</th>\n",
       "      <th>V22</th>\n",
       "      <th>V23</th>\n",
       "      <th>V24</th>\n",
       "      <th>V25</th>\n",
       "      <th>V26</th>\n",
       "      <th>V27</th>\n",
       "      <th>V28</th>\n",
       "      <th>Amount</th>\n",
       "      <th>Class</th>\n",
       "    </tr>\n",
       "  </thead>\n",
       "  <tbody>\n",
       "    <tr>\n",
       "      <th>0</th>\n",
       "      <td>406.0</td>\n",
       "      <td>-2.312227</td>\n",
       "      <td>1.951992</td>\n",
       "      <td>-1.609851</td>\n",
       "      <td>3.997906</td>\n",
       "      <td>-0.522188</td>\n",
       "      <td>-1.426545</td>\n",
       "      <td>-2.537387</td>\n",
       "      <td>1.391657</td>\n",
       "      <td>-2.770089</td>\n",
       "      <td>-2.772272</td>\n",
       "      <td>3.202033</td>\n",
       "      <td>-2.899907</td>\n",
       "      <td>-0.595222</td>\n",
       "      <td>-4.289254</td>\n",
       "      <td>0.389724</td>\n",
       "      <td>-1.140747</td>\n",
       "      <td>-2.830056</td>\n",
       "      <td>-0.016822</td>\n",
       "      <td>0.416956</td>\n",
       "      <td>0.126911</td>\n",
       "      <td>0.517232</td>\n",
       "      <td>-0.035049</td>\n",
       "      <td>-0.465211</td>\n",
       "      <td>0.320198</td>\n",
       "      <td>0.044519</td>\n",
       "      <td>0.177840</td>\n",
       "      <td>0.261145</td>\n",
       "      <td>-0.143276</td>\n",
       "      <td>0.00</td>\n",
       "      <td>1</td>\n",
       "    </tr>\n",
       "    <tr>\n",
       "      <th>1</th>\n",
       "      <td>472.0</td>\n",
       "      <td>-3.043541</td>\n",
       "      <td>-3.157307</td>\n",
       "      <td>1.088463</td>\n",
       "      <td>2.288644</td>\n",
       "      <td>1.359805</td>\n",
       "      <td>-1.064823</td>\n",
       "      <td>0.325574</td>\n",
       "      <td>-0.067794</td>\n",
       "      <td>-0.270953</td>\n",
       "      <td>-0.838587</td>\n",
       "      <td>-0.414575</td>\n",
       "      <td>-0.503141</td>\n",
       "      <td>0.676502</td>\n",
       "      <td>-1.692029</td>\n",
       "      <td>2.000635</td>\n",
       "      <td>0.666780</td>\n",
       "      <td>0.599717</td>\n",
       "      <td>1.725321</td>\n",
       "      <td>0.283345</td>\n",
       "      <td>2.102339</td>\n",
       "      <td>0.661696</td>\n",
       "      <td>0.435477</td>\n",
       "      <td>1.375966</td>\n",
       "      <td>-0.293803</td>\n",
       "      <td>0.279798</td>\n",
       "      <td>-0.145362</td>\n",
       "      <td>-0.252773</td>\n",
       "      <td>0.035764</td>\n",
       "      <td>529.00</td>\n",
       "      <td>1</td>\n",
       "    </tr>\n",
       "    <tr>\n",
       "      <th>2</th>\n",
       "      <td>4462.0</td>\n",
       "      <td>-2.303350</td>\n",
       "      <td>1.759247</td>\n",
       "      <td>-0.359745</td>\n",
       "      <td>2.330243</td>\n",
       "      <td>-0.821628</td>\n",
       "      <td>-0.075788</td>\n",
       "      <td>0.562320</td>\n",
       "      <td>-0.399147</td>\n",
       "      <td>-0.238253</td>\n",
       "      <td>-1.525412</td>\n",
       "      <td>2.032912</td>\n",
       "      <td>-6.560124</td>\n",
       "      <td>0.022937</td>\n",
       "      <td>-1.470102</td>\n",
       "      <td>-0.698826</td>\n",
       "      <td>-2.282194</td>\n",
       "      <td>-4.781831</td>\n",
       "      <td>-2.615665</td>\n",
       "      <td>-1.334441</td>\n",
       "      <td>-0.430022</td>\n",
       "      <td>-0.294166</td>\n",
       "      <td>-0.932391</td>\n",
       "      <td>0.172726</td>\n",
       "      <td>-0.087330</td>\n",
       "      <td>-0.156114</td>\n",
       "      <td>-0.542628</td>\n",
       "      <td>0.039566</td>\n",
       "      <td>-0.153029</td>\n",
       "      <td>239.93</td>\n",
       "      <td>1</td>\n",
       "    </tr>\n",
       "    <tr>\n",
       "      <th>3</th>\n",
       "      <td>6986.0</td>\n",
       "      <td>-4.397974</td>\n",
       "      <td>1.358367</td>\n",
       "      <td>-2.592844</td>\n",
       "      <td>2.679787</td>\n",
       "      <td>-1.128131</td>\n",
       "      <td>-1.706536</td>\n",
       "      <td>-3.496197</td>\n",
       "      <td>-0.248778</td>\n",
       "      <td>-0.247768</td>\n",
       "      <td>-4.801637</td>\n",
       "      <td>4.895844</td>\n",
       "      <td>-10.912819</td>\n",
       "      <td>0.184372</td>\n",
       "      <td>-6.771097</td>\n",
       "      <td>-0.007326</td>\n",
       "      <td>-7.358083</td>\n",
       "      <td>-12.598419</td>\n",
       "      <td>-5.131549</td>\n",
       "      <td>0.308334</td>\n",
       "      <td>-0.171608</td>\n",
       "      <td>0.573574</td>\n",
       "      <td>0.176968</td>\n",
       "      <td>-0.436207</td>\n",
       "      <td>-0.053502</td>\n",
       "      <td>0.252405</td>\n",
       "      <td>-0.657488</td>\n",
       "      <td>-0.827136</td>\n",
       "      <td>0.849573</td>\n",
       "      <td>59.00</td>\n",
       "      <td>1</td>\n",
       "    </tr>\n",
       "    <tr>\n",
       "      <th>4</th>\n",
       "      <td>7519.0</td>\n",
       "      <td>1.234235</td>\n",
       "      <td>3.019740</td>\n",
       "      <td>-4.304597</td>\n",
       "      <td>4.732795</td>\n",
       "      <td>3.624201</td>\n",
       "      <td>-1.357746</td>\n",
       "      <td>1.713445</td>\n",
       "      <td>-0.496358</td>\n",
       "      <td>-1.282858</td>\n",
       "      <td>-2.447469</td>\n",
       "      <td>2.101344</td>\n",
       "      <td>-4.609628</td>\n",
       "      <td>1.464378</td>\n",
       "      <td>-6.079337</td>\n",
       "      <td>-0.339237</td>\n",
       "      <td>2.581851</td>\n",
       "      <td>6.739384</td>\n",
       "      <td>3.042493</td>\n",
       "      <td>-2.721853</td>\n",
       "      <td>0.009061</td>\n",
       "      <td>-0.379068</td>\n",
       "      <td>-0.704181</td>\n",
       "      <td>-0.656805</td>\n",
       "      <td>-1.632653</td>\n",
       "      <td>1.488901</td>\n",
       "      <td>0.566797</td>\n",
       "      <td>-0.010016</td>\n",
       "      <td>0.146793</td>\n",
       "      <td>1.00</td>\n",
       "      <td>1</td>\n",
       "    </tr>\n",
       "  </tbody>\n",
       "</table>\n",
       "</div>"
      ],
      "text/plain": [
       "     Time        V1        V2        V3  ...       V27       V28  Amount  Class\n",
       "0   406.0 -2.312227  1.951992 -1.609851  ...  0.261145 -0.143276    0.00      1\n",
       "1   472.0 -3.043541 -3.157307  1.088463  ... -0.252773  0.035764  529.00      1\n",
       "2  4462.0 -2.303350  1.759247 -0.359745  ...  0.039566 -0.153029  239.93      1\n",
       "3  6986.0 -4.397974  1.358367 -2.592844  ... -0.827136  0.849573   59.00      1\n",
       "4  7519.0  1.234235  3.019740 -4.304597  ... -0.010016  0.146793    1.00      1\n",
       "\n",
       "[5 rows x 31 columns]"
      ]
     },
     "execution_count": 10,
     "metadata": {
      "tags": []
     },
     "output_type": "execute_result"
    }
   ],
   "source": [
    "data = fraud.append(non_fraud, ignore_index=True)\n",
    "data.head()"
   ]
  },
  {
   "cell_type": "code",
   "execution_count": 11,
   "metadata": {
    "colab": {
     "base_uri": "https://localhost:8080/"
    },
    "id": "yu18kzum0xy0",
    "outputId": "99cec595-4cc9-47b5-93ff-5e88d875ec7d"
   },
   "outputs": [
    {
     "data": {
      "text/plain": [
       "1    492\n",
       "0    492\n",
       "Name: Class, dtype: int64"
      ]
     },
     "execution_count": 11,
     "metadata": {
      "tags": []
     },
     "output_type": "execute_result"
    }
   ],
   "source": [
    "data['Class'].value_counts()"
   ]
  },
  {
   "cell_type": "markdown",
   "metadata": {
    "id": "U1VtE5nF1AMl"
   },
   "source": [
    "**X will contain the feature space and y will contain the class label.**"
   ]
  },
  {
   "cell_type": "code",
   "execution_count": 12,
   "metadata": {
    "id": "UgQ_Ethl09Aj"
   },
   "outputs": [],
   "source": [
    "X = data.drop('Class', axis = 1)\n",
    "y = data['Class']"
   ]
  },
  {
   "cell_type": "markdown",
   "metadata": {
    "id": "QSpTKxKh1F3z"
   },
   "source": [
    "**Split the data into training and testing set**"
   ]
  },
  {
   "cell_type": "code",
   "execution_count": 13,
   "metadata": {
    "id": "H-jIdMIR1JRj"
   },
   "outputs": [],
   "source": [
    "X_train, X_test, y_train, y_test = train_test_split(X, y, test_size = 0.2, random_state = 0, stratify = y)"
   ]
  },
  {
   "cell_type": "code",
   "execution_count": 14,
   "metadata": {
    "colab": {
     "base_uri": "https://localhost:8080/"
    },
    "id": "I7isC9OZ1Jbz",
    "outputId": "b7b34670-1448-47e2-80fa-5f7ddbd0fd69"
   },
   "outputs": [
    {
     "data": {
      "text/plain": [
       "((787, 30), (197, 30))"
      ]
     },
     "execution_count": 14,
     "metadata": {
      "tags": []
     },
     "output_type": "execute_result"
    }
   ],
   "source": [
    "X_train.shape, X_test.shape"
   ]
  },
  {
   "cell_type": "markdown",
   "metadata": {
    "id": "pRXNbUu81PuE"
   },
   "source": [
    "Standardizing the Dataset"
   ]
  },
  {
   "cell_type": "code",
   "execution_count": 15,
   "metadata": {
    "colab": {
     "base_uri": "https://localhost:8080/"
    },
    "id": "vApFpd1p1O-k",
    "outputId": "f0388ae1-d17d-4a78-ddd4-21113586b2c7"
   },
   "outputs": [
    {
     "data": {
      "text/plain": [
       "(787, 30)"
      ]
     },
     "execution_count": 15,
     "metadata": {
      "tags": []
     },
     "output_type": "execute_result"
    }
   ],
   "source": [
    "scaler = StandardScaler()\n",
    "X_train = scaler.fit_transform(X_train)\n",
    "X_test = scaler.transform(X_test)\n",
    "\n",
    "y_train = y_train.to_numpy()\n",
    "y_test = y_test.to_numpy()\n",
    "\n",
    "X_train.shape"
   ]
  },
  {
   "cell_type": "code",
   "execution_count": 16,
   "metadata": {
    "colab": {
     "base_uri": "https://localhost:8080/"
    },
    "id": "7AtROJ8s1cRE",
    "outputId": "58fce719-3379-4111-8b09-24600182f87b"
   },
   "outputs": [
    {
     "data": {
      "text/plain": [
       "((787, 30, 1), (197, 30, 1))"
      ]
     },
     "execution_count": 16,
     "metadata": {
      "tags": []
     },
     "output_type": "execute_result"
    }
   ],
   "source": [
    "X_train = X_train.reshape(X_train.shape[0], X_train.shape[1], 1)\n",
    "X_test = X_test.reshape(X_test.shape[0], X_test.shape[1], 1)\n",
    "\n",
    "X_train.shape, X_test.shape"
   ]
  },
  {
   "cell_type": "code",
   "execution_count": 17,
   "metadata": {
    "colab": {
     "base_uri": "https://localhost:8080/"
    },
    "id": "lqrcxClI1nbb",
    "outputId": "a3bbab58-7168-4af4-8d44-d457b80238b2"
   },
   "outputs": [
    {
     "data": {
      "text/plain": [
       "array([0, 0, 1, 0, 0, 1, 1, 1, 0, 0, 0, 0, 1, 1, 1, 1, 0, 0, 0, 1, 0, 1,\n",
       "       0, 0, 1, 0, 0, 0, 1, 1, 1, 1, 1, 1, 1, 1, 0, 1, 0, 0, 0, 1, 0, 0,\n",
       "       0, 1, 0, 1, 1, 1, 1, 0, 0, 1, 1, 1, 0, 0, 1, 0, 0, 1, 1, 1, 0, 0,\n",
       "       0, 0, 0, 0, 0, 0, 1, 1, 0, 0, 1, 0, 1, 0, 0, 0, 1, 0, 0, 1, 0, 0,\n",
       "       0, 1, 0, 0, 1, 1, 1, 0, 1, 1, 0, 0, 0, 1, 1, 1, 0, 1, 0, 1, 1, 1,\n",
       "       1, 1, 1, 0, 1, 1, 1, 1, 0, 1, 1, 1, 0, 0, 1, 0, 1, 1, 1, 0, 1, 1,\n",
       "       1, 0, 0, 1, 0, 1, 0, 1, 0, 0, 1, 1, 1, 0, 1, 0, 1, 0, 0, 1, 1, 0,\n",
       "       0, 0, 1, 0, 1, 0, 0, 0, 0, 0, 1, 0, 0, 1, 0, 1, 0, 0, 1, 1, 1, 0,\n",
       "       1, 1, 1, 0, 0, 0, 0, 1, 1, 0, 1, 0, 0, 1, 0, 1, 0, 0, 0, 1, 0, 1,\n",
       "       0, 0, 0, 0, 1, 0, 1, 1, 0, 1, 1, 0, 1, 0, 0, 0, 0, 1, 1, 1, 1, 0,\n",
       "       0, 0, 0, 0, 1, 1, 0, 0, 0, 0, 1, 0, 1, 1, 0, 1, 0, 1, 1, 1, 0, 0,\n",
       "       0, 0, 0, 0, 1, 0, 1, 0, 0, 0, 1, 0, 1, 0, 1, 0, 0, 0, 1, 0, 1, 0,\n",
       "       1, 1, 1, 1, 0, 0, 0, 1, 1, 1, 1, 1, 0, 0, 1, 1, 0, 1, 0, 0, 0, 1,\n",
       "       1, 0, 0, 0, 1, 1, 0, 1, 0, 0, 1, 0, 0, 0, 1, 1, 1, 0, 1, 0, 0, 0,\n",
       "       0, 1, 1, 0, 0, 1, 1, 1, 0, 0, 0, 0, 1, 1, 0, 1, 0, 1, 1, 1, 0, 0,\n",
       "       1, 1, 1, 0, 0, 1, 0, 0, 0, 0, 1, 1, 0, 0, 0, 1, 1, 0, 0, 0, 1, 0,\n",
       "       1, 0, 0, 0, 0, 0, 0, 0, 0, 1, 1, 0, 0, 0, 0, 1, 1, 1, 1, 1, 1, 1,\n",
       "       0, 0, 0, 1, 0, 0, 1, 1, 1, 0, 1, 1, 1, 1, 1, 1, 1, 1, 0, 0, 0, 1,\n",
       "       1, 1, 1, 1, 0, 1, 1, 0, 0, 1, 1, 1, 1, 1, 0, 0, 1, 0, 0, 1, 1, 0,\n",
       "       1, 1, 0, 0, 1, 0, 1, 0, 1, 1, 0, 1, 1, 0, 1, 1, 1, 0, 0, 0, 1, 0,\n",
       "       0, 1, 0, 1, 0, 1, 1, 1, 0, 0, 0, 1, 1, 1, 0, 0, 0, 0, 0, 0, 0, 1,\n",
       "       1, 0, 1, 0, 0, 0, 0, 0, 1, 0, 1, 1, 1, 1, 0, 1, 1, 1, 0, 0, 1, 1,\n",
       "       0, 1, 1, 1, 1, 1, 1, 0, 1, 0, 0, 1, 0, 0, 1, 1, 1, 0, 1, 0, 0, 0,\n",
       "       1, 0, 1, 0, 0, 1, 1, 1, 0, 0, 0, 1, 0, 1, 0, 1, 1, 1, 1, 1, 1, 0,\n",
       "       1, 0, 1, 1, 1, 1, 0, 0, 1, 0, 0, 0, 0, 0, 0, 0, 1, 1, 1, 1, 0, 0,\n",
       "       1, 0, 0, 1, 1, 0, 0, 0, 1, 0, 1, 1, 0, 0, 0, 1, 1, 0, 1, 1, 1, 1,\n",
       "       1, 1, 0, 1, 1, 1, 1, 1, 1, 0, 0, 0, 0, 0, 0, 0, 0, 0, 1, 0, 1, 0,\n",
       "       1, 0, 0, 1, 1, 1, 0, 0, 0, 0, 0, 0, 1, 0, 1, 1, 0, 1, 1, 0, 0, 1,\n",
       "       1, 0, 1, 1, 1, 0, 0, 1, 1, 0, 0, 1, 0, 1, 1, 1, 1, 1, 1, 0, 1, 1,\n",
       "       0, 1, 0, 1, 0, 0, 1, 1, 1, 0, 0, 0, 1, 0, 1, 0, 0, 1, 1, 0, 1, 1,\n",
       "       1, 1, 1, 0, 0, 0, 0, 0, 1, 1, 0, 1, 0, 0, 0, 0, 1, 1, 0, 1, 0, 1,\n",
       "       0, 0, 0, 0, 1, 1, 0, 1, 1, 1, 0, 0, 0, 0, 1, 1, 0, 1, 1, 1, 0, 0,\n",
       "       1, 0, 0, 1, 1, 0, 1, 1, 1, 0, 0, 1, 1, 0, 1, 0, 0, 0, 1, 0, 1, 1,\n",
       "       1, 1, 0, 1, 0, 1, 1, 0, 1, 0, 1, 0, 0, 0, 0, 0, 1, 1, 1, 0, 0, 1,\n",
       "       0, 0, 1, 0, 1, 1, 0, 1, 1, 1, 1, 1, 0, 1, 0, 0, 0, 1, 0, 1, 1, 1,\n",
       "       1, 1, 1, 0, 0, 1, 1, 1, 1, 0, 0, 1, 1, 0, 1, 0, 0])"
      ]
     },
     "execution_count": 17,
     "metadata": {
      "tags": []
     },
     "output_type": "execute_result"
    }
   ],
   "source": [
    "y_train"
   ]
  },
  {
   "cell_type": "markdown",
   "metadata": {
    "id": "Z7tVLASi1y4s"
   },
   "source": [
    "**Build CNN**\n",
    "\n",
    "\n",
    "*ReLu activation function. The rectified linear activation function or ReLU for short is a piecewise linear function that will output the input directly if it is positive, otherwise, it will output zero.*\n",
    "\n",
    "Flatten() is used to convert the data into a 1-dimensional array for inputting it to the next layer."
   ]
  },
  {
   "cell_type": "code",
   "execution_count": 20,
   "metadata": {
    "id": "cXbSe4S91qBu"
   },
   "outputs": [],
   "source": [
    "epochs = 20\n",
    "model = Sequential()\n",
    "model.add(Conv1D(32, 2, activation='relu', input_shape = X_train[0].shape))\n",
    "model.add(BatchNormalization())\n",
    "model.add(Dropout(0.2))\n",
    "\n",
    "model.add(Conv1D(64, 2, activation='relu'))\n",
    "model.add(BatchNormalization())\n",
    "model.add(Dropout(0.5))\n",
    "\n",
    "model.add(Flatten())\n",
    "model.add(Dense(64, activation='relu'))\n",
    "model.add(Dropout(0.5))\n",
    "\n",
    "model.add(Dense(1, activation='sigmoid'))"
   ]
  },
  {
   "cell_type": "code",
   "execution_count": 21,
   "metadata": {
    "colab": {
     "base_uri": "https://localhost:8080/"
    },
    "id": "64mSVfC51qF2",
    "outputId": "ad63acbc-40b3-40d0-fe40-04e471c4c7cb"
   },
   "outputs": [
    {
     "name": "stdout",
     "output_type": "stream",
     "text": [
      "Model: \"sequential_1\"\n",
      "_________________________________________________________________\n",
      "Layer (type)                 Output Shape              Param #   \n",
      "=================================================================\n",
      "conv1d_2 (Conv1D)            (None, 29, 32)            96        \n",
      "_________________________________________________________________\n",
      "batch_normalization_2 (Batch (None, 29, 32)            128       \n",
      "_________________________________________________________________\n",
      "dropout_3 (Dropout)          (None, 29, 32)            0         \n",
      "_________________________________________________________________\n",
      "conv1d_3 (Conv1D)            (None, 28, 64)            4160      \n",
      "_________________________________________________________________\n",
      "batch_normalization_3 (Batch (None, 28, 64)            256       \n",
      "_________________________________________________________________\n",
      "dropout_4 (Dropout)          (None, 28, 64)            0         \n",
      "_________________________________________________________________\n",
      "flatten_1 (Flatten)          (None, 1792)              0         \n",
      "_________________________________________________________________\n",
      "dense_2 (Dense)              (None, 64)                114752    \n",
      "_________________________________________________________________\n",
      "dropout_5 (Dropout)          (None, 64)                0         \n",
      "_________________________________________________________________\n",
      "dense_3 (Dense)              (None, 1)                 65        \n",
      "=================================================================\n",
      "Total params: 119,457\n",
      "Trainable params: 119,265\n",
      "Non-trainable params: 192\n",
      "_________________________________________________________________\n"
     ]
    }
   ],
   "source": [
    "model.summary()"
   ]
  },
  {
   "cell_type": "code",
   "execution_count": 22,
   "metadata": {
    "id": "F-9voqzB1qJm"
   },
   "outputs": [],
   "source": [
    "model.compile(optimizer=Adam(lr=0.0001), loss = 'binary_crossentropy', metrics=['accuracy'])"
   ]
  },
  {
   "cell_type": "code",
   "execution_count": 23,
   "metadata": {
    "colab": {
     "base_uri": "https://localhost:8080/"
    },
    "id": "zzyRycAp4Ai3",
    "outputId": "84d362a6-5102-4616-ca15-06ca28e6abdf"
   },
   "outputs": [
    {
     "name": "stdout",
     "output_type": "stream",
     "text": [
      "Epoch 1/20\n",
      "25/25 [==============================] - 0s 15ms/step - loss: 0.9087 - accuracy: 0.5972 - val_loss: 0.6319 - val_accuracy: 0.8477\n",
      "Epoch 2/20\n",
      "25/25 [==============================] - 0s 8ms/step - loss: 0.5230 - accuracy: 0.8056 - val_loss: 0.5804 - val_accuracy: 0.8934\n",
      "Epoch 3/20\n",
      "25/25 [==============================] - 0s 8ms/step - loss: 0.4431 - accuracy: 0.8310 - val_loss: 0.5392 - val_accuracy: 0.9137\n",
      "Epoch 4/20\n",
      "25/25 [==============================] - 0s 8ms/step - loss: 0.3549 - accuracy: 0.8653 - val_loss: 0.5000 - val_accuracy: 0.9188\n",
      "Epoch 5/20\n",
      "25/25 [==============================] - 0s 8ms/step - loss: 0.3254 - accuracy: 0.8869 - val_loss: 0.4629 - val_accuracy: 0.9239\n",
      "Epoch 6/20\n",
      "25/25 [==============================] - 0s 8ms/step - loss: 0.3223 - accuracy: 0.8882 - val_loss: 0.4254 - val_accuracy: 0.9239\n",
      "Epoch 7/20\n",
      "25/25 [==============================] - 0s 8ms/step - loss: 0.3087 - accuracy: 0.8983 - val_loss: 0.3922 - val_accuracy: 0.9188\n",
      "Epoch 8/20\n",
      "25/25 [==============================] - 0s 8ms/step - loss: 0.2816 - accuracy: 0.8983 - val_loss: 0.3563 - val_accuracy: 0.9188\n",
      "Epoch 9/20\n",
      "25/25 [==============================] - 0s 9ms/step - loss: 0.2710 - accuracy: 0.9047 - val_loss: 0.3301 - val_accuracy: 0.9188\n",
      "Epoch 10/20\n",
      "25/25 [==============================] - 0s 8ms/step - loss: 0.2700 - accuracy: 0.9047 - val_loss: 0.3102 - val_accuracy: 0.9289\n",
      "Epoch 11/20\n",
      "25/25 [==============================] - 0s 8ms/step - loss: 0.2515 - accuracy: 0.9123 - val_loss: 0.2811 - val_accuracy: 0.9239\n",
      "Epoch 12/20\n",
      "25/25 [==============================] - 0s 8ms/step - loss: 0.2518 - accuracy: 0.9136 - val_loss: 0.2701 - val_accuracy: 0.9239\n",
      "Epoch 13/20\n",
      "25/25 [==============================] - 0s 8ms/step - loss: 0.2142 - accuracy: 0.9212 - val_loss: 0.2500 - val_accuracy: 0.9239\n",
      "Epoch 14/20\n",
      "25/25 [==============================] - 0s 8ms/step - loss: 0.1903 - accuracy: 0.9352 - val_loss: 0.2368 - val_accuracy: 0.9239\n",
      "Epoch 15/20\n",
      "25/25 [==============================] - 0s 8ms/step - loss: 0.2115 - accuracy: 0.9238 - val_loss: 0.2223 - val_accuracy: 0.9239\n",
      "Epoch 16/20\n",
      "25/25 [==============================] - 0s 8ms/step - loss: 0.2333 - accuracy: 0.9199 - val_loss: 0.2117 - val_accuracy: 0.9239\n",
      "Epoch 17/20\n",
      "25/25 [==============================] - 0s 8ms/step - loss: 0.1899 - accuracy: 0.9390 - val_loss: 0.2097 - val_accuracy: 0.9289\n",
      "Epoch 18/20\n",
      "25/25 [==============================] - 0s 8ms/step - loss: 0.2010 - accuracy: 0.9276 - val_loss: 0.2042 - val_accuracy: 0.9340\n",
      "Epoch 19/20\n",
      "25/25 [==============================] - 0s 8ms/step - loss: 0.2117 - accuracy: 0.9314 - val_loss: 0.1978 - val_accuracy: 0.9289\n",
      "Epoch 20/20\n",
      "25/25 [==============================] - 0s 8ms/step - loss: 0.1936 - accuracy: 0.9479 - val_loss: 0.1943 - val_accuracy: 0.9289\n"
     ]
    }
   ],
   "source": [
    "history = model.fit(X_train, y_train, epochs=epochs, validation_data=(X_test, y_test), verbose=1)"
   ]
  },
  {
   "cell_type": "markdown",
   "metadata": {
    "id": "kTgGVxGk4RSl"
   },
   "source": [
    "**Now we will visualize the results.**"
   ]
  },
  {
   "cell_type": "code",
   "execution_count": 26,
   "metadata": {
    "id": "4-_H5NXr4Am4"
   },
   "outputs": [],
   "source": [
    "def plot_learningCurve(history, epoch):\n",
    "  # Plot training & validation accuracy values\n",
    "  epoch_range = range(1, epoch+1)\n",
    "  plt.plot(epoch_range, history.history['accuracy'])\n",
    "  plt.plot(epoch_range, history.history['val_accuracy'])\n",
    "  plt.title('Model accuracy')\n",
    "  plt.ylabel('Accuracy')\n",
    "  plt.xlabel('Epoch')\n",
    "  plt.legend(['Train', 'Val'], loc='upper left')\n",
    "  plt.show()\n",
    "\n",
    "  # Plot training & validation loss values\n",
    "  plt.plot(epoch_range, history.history['loss'])\n",
    "  plt.plot(epoch_range, history.history['val_loss'])\n",
    "  plt.title('Model loss')\n",
    "  plt.ylabel('Loss')\n",
    "  plt.xlabel('Epoch')\n",
    "  plt.legend(['Train', 'Val'], loc='upper left')\n",
    "  plt.show()"
   ]
  },
  {
   "cell_type": "code",
   "execution_count": 27,
   "metadata": {
    "colab": {
     "base_uri": "https://localhost:8080/",
     "height": 573
    },
    "id": "qZ8yURYS4dAs",
    "outputId": "5d691865-c0a8-48ae-9b3f-7314d6d84689"
   },
   "outputs": [
    {
     "data": {
      "image/png": "[encoded data removed]",
      "text/plain": [
       "<Figure size 432x288 with 1 Axes>"
      ]
     },
     "metadata": {
      "needs_background": "light",
      "tags": []
     },
     "output_type": "display_data"
    },
    {
     "data": {
      "image/png": "[encoded data removed]",
      "text/plain": [
       "<Figure size 432x288 with 1 Axes>"
      ]
     },
     "metadata": {
      "needs_background": "light",
      "tags": []
     },
     "output_type": "display_data"
    }
   ],
   "source": [
    "plot_learningCurve(history, epochs)"
   ]
  },
  {
   "cell_type": "markdown",
   "metadata": {
    "id": "sNKm47GK44TA"
   },
   "source": [
    "we can see the Model is Overfiiting \n",
    "\n",
    "Tranining Accuracy is high\n",
    "\n",
    "Test Accuracy is low\n",
    "\n",
    "Now, lets increase the epoch Size\n"
   ]
  },
  {
   "cell_type": "code",
   "execution_count": 28,
   "metadata": {
    "colab": {
     "base_uri": "https://localhost:8080/"
    },
    "id": "tQmw7eKu4f-V",
    "outputId": "02991add-31ef-401e-b263-1b0edbbdbb93"
   },
   "outputs": [
    {
     "name": "stdout",
     "output_type": "stream",
     "text": [
      "Epoch 1/200\n",
      "25/25 [==============================] - 0s 14ms/step - loss: 0.7061 - accuracy: 0.6760 - val_loss: 0.5888 - val_accuracy: 0.8629\n",
      "Epoch 2/200\n",
      "25/25 [==============================] - 0s 9ms/step - loss: 0.4764 - accuracy: 0.8221 - val_loss: 0.5371 - val_accuracy: 0.8528\n",
      "Epoch 3/200\n",
      "25/25 [==============================] - 0s 8ms/step - loss: 0.3440 - accuracy: 0.8729 - val_loss: 0.5025 - val_accuracy: 0.8934\n",
      "Epoch 4/200\n",
      "25/25 [==============================] - 0s 8ms/step - loss: 0.3641 - accuracy: 0.8704 - val_loss: 0.4750 - val_accuracy: 0.8985\n",
      "Epoch 5/200\n",
      "25/25 [==============================] - 0s 9ms/step - loss: 0.3128 - accuracy: 0.8869 - val_loss: 0.4412 - val_accuracy: 0.9036\n",
      "Epoch 6/200\n",
      "25/25 [==============================] - 0s 9ms/step - loss: 0.3118 - accuracy: 0.8996 - val_loss: 0.4124 - val_accuracy: 0.9036\n",
      "Epoch 7/200\n",
      "25/25 [==============================] - 0s 8ms/step - loss: 0.2827 - accuracy: 0.8983 - val_loss: 0.3730 - val_accuracy: 0.9036\n",
      "Epoch 8/200\n",
      "25/25 [==============================] - 0s 8ms/step - loss: 0.2761 - accuracy: 0.9060 - val_loss: 0.3600 - val_accuracy: 0.9086\n",
      "Epoch 9/200\n",
      "25/25 [==============================] - 0s 8ms/step - loss: 0.2608 - accuracy: 0.9136 - val_loss: 0.3472 - val_accuracy: 0.9188\n",
      "Epoch 10/200\n",
      "25/25 [==============================] - 0s 9ms/step - loss: 0.2596 - accuracy: 0.9060 - val_loss: 0.3150 - val_accuracy: 0.9137\n",
      "Epoch 11/200\n",
      "25/25 [==============================] - 0s 9ms/step - loss: 0.2362 - accuracy: 0.9072 - val_loss: 0.2946 - val_accuracy: 0.9137\n",
      "Epoch 12/200\n",
      "25/25 [==============================] - 0s 8ms/step - loss: 0.2318 - accuracy: 0.9123 - val_loss: 0.2730 - val_accuracy: 0.9137\n",
      "Epoch 13/200\n",
      "25/25 [==============================] - 0s 8ms/step - loss: 0.2243 - accuracy: 0.9212 - val_loss: 0.2603 - val_accuracy: 0.9137\n",
      "Epoch 14/200\n",
      "25/25 [==============================] - 0s 8ms/step - loss: 0.2200 - accuracy: 0.9238 - val_loss: 0.2521 - val_accuracy: 0.9137\n",
      "Epoch 15/200\n",
      "25/25 [==============================] - 0s 9ms/step - loss: 0.2028 - accuracy: 0.9212 - val_loss: 0.2409 - val_accuracy: 0.9188\n",
      "Epoch 16/200\n",
      "25/25 [==============================] - 0s 8ms/step - loss: 0.2128 - accuracy: 0.9301 - val_loss: 0.2305 - val_accuracy: 0.9137\n",
      "Epoch 17/200\n",
      "25/25 [==============================] - 0s 8ms/step - loss: 0.1992 - accuracy: 0.9301 - val_loss: 0.2243 - val_accuracy: 0.9137\n",
      "Epoch 18/200\n",
      "25/25 [==============================] - 0s 8ms/step - loss: 0.2004 - accuracy: 0.9288 - val_loss: 0.2209 - val_accuracy: 0.9137\n",
      "Epoch 19/200\n",
      "25/25 [==============================] - 0s 8ms/step - loss: 0.1876 - accuracy: 0.9403 - val_loss: 0.2181 - val_accuracy: 0.9137\n",
      "Epoch 20/200\n",
      "25/25 [==============================] - 0s 9ms/step - loss: 0.1819 - accuracy: 0.9276 - val_loss: 0.2199 - val_accuracy: 0.9188\n",
      "Epoch 21/200\n",
      "25/25 [==============================] - 0s 8ms/step - loss: 0.2105 - accuracy: 0.9288 - val_loss: 0.2218 - val_accuracy: 0.9086\n",
      "Epoch 22/200\n",
      "25/25 [==============================] - 0s 8ms/step - loss: 0.1829 - accuracy: 0.9428 - val_loss: 0.2223 - val_accuracy: 0.9086\n",
      "Epoch 23/200\n",
      "25/25 [==============================] - 0s 8ms/step - loss: 0.1841 - accuracy: 0.9390 - val_loss: 0.2253 - val_accuracy: 0.9086\n",
      "Epoch 24/200\n",
      "25/25 [==============================] - 0s 10ms/step - loss: 0.1957 - accuracy: 0.9365 - val_loss: 0.2282 - val_accuracy: 0.9086\n",
      "Epoch 25/200\n",
      "25/25 [==============================] - 0s 8ms/step - loss: 0.1941 - accuracy: 0.9377 - val_loss: 0.2291 - val_accuracy: 0.9086\n",
      "Epoch 26/200\n",
      "25/25 [==============================] - 0s 8ms/step - loss: 0.1775 - accuracy: 0.9327 - val_loss: 0.2302 - val_accuracy: 0.9086\n",
      "Epoch 27/200\n",
      "25/25 [==============================] - 0s 9ms/step - loss: 0.1691 - accuracy: 0.9403 - val_loss: 0.2305 - val_accuracy: 0.9086\n",
      "Epoch 28/200\n",
      "25/25 [==============================] - 0s 9ms/step - loss: 0.1883 - accuracy: 0.9390 - val_loss: 0.2317 - val_accuracy: 0.9086\n",
      "Epoch 29/200\n",
      "25/25 [==============================] - 0s 9ms/step - loss: 0.1537 - accuracy: 0.9416 - val_loss: 0.2329 - val_accuracy: 0.9086\n",
      "Epoch 30/200\n",
      "25/25 [==============================] - 0s 8ms/step - loss: 0.1702 - accuracy: 0.9466 - val_loss: 0.2328 - val_accuracy: 0.9086\n",
      "Epoch 31/200\n",
      "25/25 [==============================] - 0s 8ms/step - loss: 0.1693 - accuracy: 0.9416 - val_loss: 0.2326 - val_accuracy: 0.9086\n",
      "Epoch 32/200\n",
      "25/25 [==============================] - 0s 9ms/step - loss: 0.1585 - accuracy: 0.9466 - val_loss: 0.2366 - val_accuracy: 0.9086\n",
      "Epoch 33/200\n",
      "25/25 [==============================] - 0s 8ms/step - loss: 0.1808 - accuracy: 0.9238 - val_loss: 0.2361 - val_accuracy: 0.9086\n",
      "Epoch 34/200\n",
      "25/25 [==============================] - 0s 8ms/step - loss: 0.1498 - accuracy: 0.9504 - val_loss: 0.2313 - val_accuracy: 0.9086\n",
      "Epoch 35/200\n",
      "25/25 [==============================] - 0s 8ms/step - loss: 0.1523 - accuracy: 0.9517 - val_loss: 0.2320 - val_accuracy: 0.9137\n",
      "Epoch 36/200\n",
      "25/25 [==============================] - 0s 9ms/step - loss: 0.1570 - accuracy: 0.9428 - val_loss: 0.2321 - val_accuracy: 0.9086\n",
      "Epoch 37/200\n",
      "25/25 [==============================] - 0s 8ms/step - loss: 0.1577 - accuracy: 0.9390 - val_loss: 0.2355 - val_accuracy: 0.9086\n",
      "Epoch 38/200\n",
      "25/25 [==============================] - 0s 9ms/step - loss: 0.1455 - accuracy: 0.9479 - val_loss: 0.2377 - val_accuracy: 0.9086\n",
      "Epoch 39/200\n",
      "25/25 [==============================] - 0s 8ms/step - loss: 0.1421 - accuracy: 0.9479 - val_loss: 0.2359 - val_accuracy: 0.9137\n",
      "Epoch 40/200\n",
      "25/25 [==============================] - 0s 9ms/step - loss: 0.1562 - accuracy: 0.9403 - val_loss: 0.2362 - val_accuracy: 0.9137\n",
      "Epoch 41/200\n",
      "25/25 [==============================] - 0s 8ms/step - loss: 0.1652 - accuracy: 0.9441 - val_loss: 0.2383 - val_accuracy: 0.9137\n",
      "Epoch 42/200\n",
      "25/25 [==============================] - 0s 8ms/step - loss: 0.1536 - accuracy: 0.9428 - val_loss: 0.2419 - val_accuracy: 0.9137\n",
      "Epoch 43/200\n",
      "25/25 [==============================] - 0s 9ms/step - loss: 0.1554 - accuracy: 0.9428 - val_loss: 0.2424 - val_accuracy: 0.9137\n",
      "Epoch 44/200\n",
      "25/25 [==============================] - 0s 8ms/step - loss: 0.1505 - accuracy: 0.9479 - val_loss: 0.2447 - val_accuracy: 0.9137\n",
      "Epoch 45/200\n",
      "25/25 [==============================] - 0s 9ms/step - loss: 0.1430 - accuracy: 0.9492 - val_loss: 0.2457 - val_accuracy: 0.9137\n",
      "Epoch 46/200\n",
      "25/25 [==============================] - 0s 8ms/step - loss: 0.1523 - accuracy: 0.9466 - val_loss: 0.2470 - val_accuracy: 0.9137\n",
      "Epoch 47/200\n",
      "25/25 [==============================] - 0s 8ms/step - loss: 0.1475 - accuracy: 0.9543 - val_loss: 0.2436 - val_accuracy: 0.9137\n",
      "Epoch 48/200\n",
      "25/25 [==============================] - 0s 8ms/step - loss: 0.1392 - accuracy: 0.9479 - val_loss: 0.2434 - val_accuracy: 0.9137\n",
      "Epoch 49/200\n",
      "25/25 [==============================] - 0s 9ms/step - loss: 0.1400 - accuracy: 0.9492 - val_loss: 0.2436 - val_accuracy: 0.9137\n",
      "Epoch 50/200\n",
      "25/25 [==============================] - 0s 8ms/step - loss: 0.1447 - accuracy: 0.9517 - val_loss: 0.2472 - val_accuracy: 0.9086\n",
      "Epoch 51/200\n",
      "25/25 [==============================] - 0s 9ms/step - loss: 0.1442 - accuracy: 0.9543 - val_loss: 0.2449 - val_accuracy: 0.9137\n",
      "Epoch 52/200\n",
      "25/25 [==============================] - 0s 8ms/step - loss: 0.1286 - accuracy: 0.9504 - val_loss: 0.2451 - val_accuracy: 0.9137\n",
      "Epoch 53/200\n",
      "25/25 [==============================] - 0s 8ms/step - loss: 0.1346 - accuracy: 0.9530 - val_loss: 0.2443 - val_accuracy: 0.9137\n",
      "Epoch 54/200\n",
      "25/25 [==============================] - 0s 8ms/step - loss: 0.1355 - accuracy: 0.9466 - val_loss: 0.2454 - val_accuracy: 0.9137\n",
      "Epoch 55/200\n",
      "25/25 [==============================] - 0s 8ms/step - loss: 0.1373 - accuracy: 0.9530 - val_loss: 0.2475 - val_accuracy: 0.9137\n",
      "Epoch 56/200\n",
      "25/25 [==============================] - 0s 8ms/step - loss: 0.1277 - accuracy: 0.9568 - val_loss: 0.2497 - val_accuracy: 0.9137\n",
      "Epoch 57/200\n",
      "25/25 [==============================] - 0s 8ms/step - loss: 0.1504 - accuracy: 0.9530 - val_loss: 0.2500 - val_accuracy: 0.9137\n",
      "Epoch 58/200\n",
      "25/25 [==============================] - 0s 9ms/step - loss: 0.1295 - accuracy: 0.9581 - val_loss: 0.2513 - val_accuracy: 0.9137\n",
      "Epoch 59/200\n",
      "25/25 [==============================] - 0s 8ms/step - loss: 0.1203 - accuracy: 0.9581 - val_loss: 0.2546 - val_accuracy: 0.9137\n",
      "Epoch 60/200\n",
      "25/25 [==============================] - 0s 8ms/step - loss: 0.1380 - accuracy: 0.9492 - val_loss: 0.2568 - val_accuracy: 0.9137\n",
      "Epoch 61/200\n",
      "25/25 [==============================] - 0s 9ms/step - loss: 0.1258 - accuracy: 0.9568 - val_loss: 0.2621 - val_accuracy: 0.9086\n",
      "Epoch 62/200\n",
      "25/25 [==============================] - 0s 9ms/step - loss: 0.1345 - accuracy: 0.9492 - val_loss: 0.2642 - val_accuracy: 0.9137\n",
      "Epoch 63/200\n",
      "25/25 [==============================] - 0s 9ms/step - loss: 0.1222 - accuracy: 0.9581 - val_loss: 0.2658 - val_accuracy: 0.9086\n",
      "Epoch 64/200\n",
      "25/25 [==============================] - 0s 8ms/step - loss: 0.1275 - accuracy: 0.9593 - val_loss: 0.2641 - val_accuracy: 0.9188\n",
      "Epoch 65/200\n",
      "25/25 [==============================] - 0s 8ms/step - loss: 0.1236 - accuracy: 0.9581 - val_loss: 0.2650 - val_accuracy: 0.9137\n",
      "Epoch 66/200\n",
      "25/25 [==============================] - 0s 8ms/step - loss: 0.1251 - accuracy: 0.9504 - val_loss: 0.2636 - val_accuracy: 0.9137\n",
      "Epoch 67/200\n",
      "25/25 [==============================] - 0s 9ms/step - loss: 0.1228 - accuracy: 0.9555 - val_loss: 0.2633 - val_accuracy: 0.9137\n",
      "Epoch 68/200\n",
      "25/25 [==============================] - 0s 9ms/step - loss: 0.1307 - accuracy: 0.9555 - val_loss: 0.2635 - val_accuracy: 0.9239\n",
      "Epoch 69/200\n",
      "25/25 [==============================] - 0s 9ms/step - loss: 0.1309 - accuracy: 0.9555 - val_loss: 0.2643 - val_accuracy: 0.9289\n",
      "Epoch 70/200\n",
      "25/25 [==============================] - 0s 10ms/step - loss: 0.1314 - accuracy: 0.9466 - val_loss: 0.2628 - val_accuracy: 0.9239\n",
      "Epoch 71/200\n",
      "25/25 [==============================] - 0s 8ms/step - loss: 0.1272 - accuracy: 0.9593 - val_loss: 0.2651 - val_accuracy: 0.9239\n",
      "Epoch 72/200\n",
      "25/25 [==============================] - 0s 8ms/step - loss: 0.1165 - accuracy: 0.9606 - val_loss: 0.2674 - val_accuracy: 0.9289\n",
      "Epoch 73/200\n",
      "25/25 [==============================] - 0s 8ms/step - loss: 0.1273 - accuracy: 0.9504 - val_loss: 0.2673 - val_accuracy: 0.9239\n",
      "Epoch 74/200\n",
      "25/25 [==============================] - 0s 9ms/step - loss: 0.1400 - accuracy: 0.9593 - val_loss: 0.2656 - val_accuracy: 0.9239\n",
      "Epoch 75/200\n",
      "25/25 [==============================] - 0s 8ms/step - loss: 0.1210 - accuracy: 0.9606 - val_loss: 0.2629 - val_accuracy: 0.9239\n",
      "Epoch 76/200\n",
      "25/25 [==============================] - 0s 8ms/step - loss: 0.1202 - accuracy: 0.9543 - val_loss: 0.2651 - val_accuracy: 0.9239\n",
      "Epoch 77/200\n",
      "25/25 [==============================] - 0s 8ms/step - loss: 0.1227 - accuracy: 0.9555 - val_loss: 0.2675 - val_accuracy: 0.9239\n",
      "Epoch 78/200\n",
      "25/25 [==============================] - 0s 9ms/step - loss: 0.0987 - accuracy: 0.9593 - val_loss: 0.2680 - val_accuracy: 0.9239\n",
      "Epoch 79/200\n",
      "25/25 [==============================] - 0s 8ms/step - loss: 0.1199 - accuracy: 0.9543 - val_loss: 0.2714 - val_accuracy: 0.9239\n",
      "Epoch 80/200\n",
      "25/25 [==============================] - 0s 8ms/step - loss: 0.1240 - accuracy: 0.9581 - val_loss: 0.2736 - val_accuracy: 0.9239\n",
      "Epoch 81/200\n",
      "25/25 [==============================] - 0s 9ms/step - loss: 0.1192 - accuracy: 0.9568 - val_loss: 0.2778 - val_accuracy: 0.9239\n",
      "Epoch 82/200\n",
      "25/25 [==============================] - 0s 8ms/step - loss: 0.1247 - accuracy: 0.9530 - val_loss: 0.2803 - val_accuracy: 0.9239\n",
      "Epoch 83/200\n",
      "25/25 [==============================] - 0s 9ms/step - loss: 0.1265 - accuracy: 0.9581 - val_loss: 0.2791 - val_accuracy: 0.9239\n",
      "Epoch 84/200\n",
      "25/25 [==============================] - 0s 9ms/step - loss: 0.1098 - accuracy: 0.9644 - val_loss: 0.2760 - val_accuracy: 0.9239\n",
      "Epoch 85/200\n",
      "25/25 [==============================] - 0s 8ms/step - loss: 0.1087 - accuracy: 0.9657 - val_loss: 0.2801 - val_accuracy: 0.9239\n",
      "Epoch 86/200\n",
      "25/25 [==============================] - 0s 8ms/step - loss: 0.1246 - accuracy: 0.9543 - val_loss: 0.2839 - val_accuracy: 0.9239\n",
      "Epoch 87/200\n",
      "25/25 [==============================] - 0s 8ms/step - loss: 0.1266 - accuracy: 0.9568 - val_loss: 0.2872 - val_accuracy: 0.9239\n",
      "Epoch 88/200\n",
      "25/25 [==============================] - 0s 9ms/step - loss: 0.1145 - accuracy: 0.9619 - val_loss: 0.2875 - val_accuracy: 0.9239\n",
      "Epoch 89/200\n",
      "25/25 [==============================] - 0s 9ms/step - loss: 0.0996 - accuracy: 0.9657 - val_loss: 0.2912 - val_accuracy: 0.9239\n",
      "Epoch 90/200\n",
      "25/25 [==============================] - 0s 8ms/step - loss: 0.1159 - accuracy: 0.9632 - val_loss: 0.2925 - val_accuracy: 0.9239\n",
      "Epoch 91/200\n",
      "25/25 [==============================] - 0s 8ms/step - loss: 0.1102 - accuracy: 0.9530 - val_loss: 0.2907 - val_accuracy: 0.9239\n",
      "Epoch 92/200\n",
      "25/25 [==============================] - 0s 10ms/step - loss: 0.1166 - accuracy: 0.9581 - val_loss: 0.2901 - val_accuracy: 0.9239\n",
      "Epoch 93/200\n",
      "25/25 [==============================] - 0s 8ms/step - loss: 0.1058 - accuracy: 0.9619 - val_loss: 0.2894 - val_accuracy: 0.9239\n",
      "Epoch 94/200\n",
      "25/25 [==============================] - 0s 8ms/step - loss: 0.1195 - accuracy: 0.9606 - val_loss: 0.2880 - val_accuracy: 0.9239\n",
      "Epoch 95/200\n",
      "25/25 [==============================] - 0s 9ms/step - loss: 0.1147 - accuracy: 0.9619 - val_loss: 0.2859 - val_accuracy: 0.9239\n",
      "Epoch 96/200\n",
      "25/25 [==============================] - 0s 9ms/step - loss: 0.1089 - accuracy: 0.9657 - val_loss: 0.2851 - val_accuracy: 0.9239\n",
      "Epoch 97/200\n",
      "25/25 [==============================] - 0s 8ms/step - loss: 0.1275 - accuracy: 0.9555 - val_loss: 0.2876 - val_accuracy: 0.9239\n",
      "Epoch 98/200\n",
      "25/25 [==============================] - 0s 9ms/step - loss: 0.1068 - accuracy: 0.9619 - val_loss: 0.2851 - val_accuracy: 0.9239\n",
      "Epoch 99/200\n",
      "25/25 [==============================] - 0s 9ms/step - loss: 0.1250 - accuracy: 0.9581 - val_loss: 0.2861 - val_accuracy: 0.9239\n",
      "Epoch 100/200\n",
      "25/25 [==============================] - 0s 8ms/step - loss: 0.1174 - accuracy: 0.9606 - val_loss: 0.2862 - val_accuracy: 0.9289\n",
      "Epoch 101/200\n",
      "25/25 [==============================] - 0s 9ms/step - loss: 0.1114 - accuracy: 0.9606 - val_loss: 0.2871 - val_accuracy: 0.9239\n",
      "Epoch 102/200\n",
      "25/25 [==============================] - 0s 8ms/step - loss: 0.1153 - accuracy: 0.9606 - val_loss: 0.2822 - val_accuracy: 0.9289\n",
      "Epoch 103/200\n",
      "25/25 [==============================] - 0s 8ms/step - loss: 0.1153 - accuracy: 0.9555 - val_loss: 0.2860 - val_accuracy: 0.9239\n",
      "Epoch 104/200\n",
      "25/25 [==============================] - 0s 9ms/step - loss: 0.1019 - accuracy: 0.9593 - val_loss: 0.2863 - val_accuracy: 0.9239\n",
      "Epoch 105/200\n",
      "25/25 [==============================] - 0s 9ms/step - loss: 0.1188 - accuracy: 0.9581 - val_loss: 0.2862 - val_accuracy: 0.9239\n",
      "Epoch 106/200\n",
      "25/25 [==============================] - 0s 9ms/step - loss: 0.1031 - accuracy: 0.9606 - val_loss: 0.2866 - val_accuracy: 0.9239\n",
      "Epoch 107/200\n",
      "25/25 [==============================] - 0s 9ms/step - loss: 0.1070 - accuracy: 0.9593 - val_loss: 0.2902 - val_accuracy: 0.9188\n",
      "Epoch 108/200\n",
      "25/25 [==============================] - 0s 9ms/step - loss: 0.1158 - accuracy: 0.9530 - val_loss: 0.2900 - val_accuracy: 0.9188\n",
      "Epoch 109/200\n",
      "25/25 [==============================] - 0s 9ms/step - loss: 0.1058 - accuracy: 0.9632 - val_loss: 0.2889 - val_accuracy: 0.9239\n",
      "Epoch 110/200\n",
      "25/25 [==============================] - 0s 9ms/step - loss: 0.1158 - accuracy: 0.9581 - val_loss: 0.2896 - val_accuracy: 0.9289\n",
      "Epoch 111/200\n",
      "25/25 [==============================] - 0s 9ms/step - loss: 0.0975 - accuracy: 0.9644 - val_loss: 0.2926 - val_accuracy: 0.9239\n",
      "Epoch 112/200\n",
      "25/25 [==============================] - 0s 9ms/step - loss: 0.1089 - accuracy: 0.9581 - val_loss: 0.2935 - val_accuracy: 0.9289\n",
      "Epoch 113/200\n",
      "25/25 [==============================] - 0s 8ms/step - loss: 0.0900 - accuracy: 0.9695 - val_loss: 0.2954 - val_accuracy: 0.9289\n",
      "Epoch 114/200\n",
      "25/25 [==============================] - 0s 9ms/step - loss: 0.1045 - accuracy: 0.9619 - val_loss: 0.2955 - val_accuracy: 0.9239\n",
      "Epoch 115/200\n",
      "25/25 [==============================] - 0s 8ms/step - loss: 0.0923 - accuracy: 0.9670 - val_loss: 0.2967 - val_accuracy: 0.9188\n",
      "Epoch 116/200\n",
      "25/25 [==============================] - 0s 8ms/step - loss: 0.1050 - accuracy: 0.9670 - val_loss: 0.2954 - val_accuracy: 0.9239\n",
      "Epoch 117/200\n",
      "25/25 [==============================] - 0s 9ms/step - loss: 0.1074 - accuracy: 0.9593 - val_loss: 0.2954 - val_accuracy: 0.9289\n",
      "Epoch 118/200\n",
      "25/25 [==============================] - 0s 9ms/step - loss: 0.1054 - accuracy: 0.9657 - val_loss: 0.2919 - val_accuracy: 0.9289\n",
      "Epoch 119/200\n",
      "25/25 [==============================] - 0s 9ms/step - loss: 0.1047 - accuracy: 0.9606 - val_loss: 0.2909 - val_accuracy: 0.9289\n",
      "Epoch 120/200\n",
      "25/25 [==============================] - 0s 9ms/step - loss: 0.1030 - accuracy: 0.9670 - val_loss: 0.2927 - val_accuracy: 0.9289\n",
      "Epoch 121/200\n",
      "25/25 [==============================] - 0s 9ms/step - loss: 0.0890 - accuracy: 0.9682 - val_loss: 0.2931 - val_accuracy: 0.9289\n",
      "Epoch 122/200\n",
      "25/25 [==============================] - 0s 9ms/step - loss: 0.1141 - accuracy: 0.9619 - val_loss: 0.2972 - val_accuracy: 0.9188\n",
      "Epoch 123/200\n",
      "25/25 [==============================] - 0s 9ms/step - loss: 0.0982 - accuracy: 0.9644 - val_loss: 0.2986 - val_accuracy: 0.9289\n",
      "Epoch 124/200\n",
      "25/25 [==============================] - 0s 9ms/step - loss: 0.0988 - accuracy: 0.9670 - val_loss: 0.3046 - val_accuracy: 0.9289\n",
      "Epoch 125/200\n",
      "25/25 [==============================] - 0s 9ms/step - loss: 0.0939 - accuracy: 0.9632 - val_loss: 0.3057 - val_accuracy: 0.9239\n",
      "Epoch 126/200\n",
      "25/25 [==============================] - 0s 9ms/step - loss: 0.0911 - accuracy: 0.9657 - val_loss: 0.3074 - val_accuracy: 0.9239\n",
      "Epoch 127/200\n",
      "25/25 [==============================] - 0s 9ms/step - loss: 0.1024 - accuracy: 0.9632 - val_loss: 0.3048 - val_accuracy: 0.9239\n",
      "Epoch 128/200\n",
      "25/25 [==============================] - 0s 9ms/step - loss: 0.1042 - accuracy: 0.9606 - val_loss: 0.3016 - val_accuracy: 0.9239\n",
      "Epoch 129/200\n",
      "25/25 [==============================] - 0s 9ms/step - loss: 0.0938 - accuracy: 0.9632 - val_loss: 0.3058 - val_accuracy: 0.9239\n",
      "Epoch 130/200\n",
      "25/25 [==============================] - 0s 9ms/step - loss: 0.0965 - accuracy: 0.9657 - val_loss: 0.3054 - val_accuracy: 0.9239\n",
      "Epoch 131/200\n",
      "25/25 [==============================] - 0s 9ms/step - loss: 0.0910 - accuracy: 0.9619 - val_loss: 0.3073 - val_accuracy: 0.9239\n",
      "Epoch 132/200\n",
      "25/25 [==============================] - 0s 9ms/step - loss: 0.0890 - accuracy: 0.9670 - val_loss: 0.3089 - val_accuracy: 0.9239\n",
      "Epoch 133/200\n",
      "25/25 [==============================] - 0s 9ms/step - loss: 0.0913 - accuracy: 0.9682 - val_loss: 0.3110 - val_accuracy: 0.9239\n",
      "Epoch 134/200\n",
      "25/25 [==============================] - 0s 9ms/step - loss: 0.0923 - accuracy: 0.9644 - val_loss: 0.3111 - val_accuracy: 0.9289\n",
      "Epoch 135/200\n",
      "25/25 [==============================] - 0s 9ms/step - loss: 0.1015 - accuracy: 0.9593 - val_loss: 0.3089 - val_accuracy: 0.9239\n",
      "Epoch 136/200\n",
      "25/25 [==============================] - 0s 9ms/step - loss: 0.1128 - accuracy: 0.9644 - val_loss: 0.3091 - val_accuracy: 0.9239\n",
      "Epoch 137/200\n",
      "25/25 [==============================] - 0s 9ms/step - loss: 0.1021 - accuracy: 0.9619 - val_loss: 0.3136 - val_accuracy: 0.9137\n",
      "Epoch 138/200\n",
      "25/25 [==============================] - 0s 8ms/step - loss: 0.0972 - accuracy: 0.9632 - val_loss: 0.3155 - val_accuracy: 0.9239\n",
      "Epoch 139/200\n",
      "25/25 [==============================] - 0s 9ms/step - loss: 0.0932 - accuracy: 0.9670 - val_loss: 0.3179 - val_accuracy: 0.9188\n",
      "Epoch 140/200\n",
      "25/25 [==============================] - 0s 9ms/step - loss: 0.0941 - accuracy: 0.9632 - val_loss: 0.3213 - val_accuracy: 0.9188\n",
      "Epoch 141/200\n",
      "25/25 [==============================] - 0s 9ms/step - loss: 0.0853 - accuracy: 0.9644 - val_loss: 0.3196 - val_accuracy: 0.9188\n",
      "Epoch 142/200\n",
      "25/25 [==============================] - 0s 9ms/step - loss: 0.0995 - accuracy: 0.9619 - val_loss: 0.3187 - val_accuracy: 0.9188\n",
      "Epoch 143/200\n",
      "25/25 [==============================] - 0s 8ms/step - loss: 0.0917 - accuracy: 0.9606 - val_loss: 0.3172 - val_accuracy: 0.9239\n",
      "Epoch 144/200\n",
      "25/25 [==============================] - 0s 9ms/step - loss: 0.0856 - accuracy: 0.9682 - val_loss: 0.3206 - val_accuracy: 0.9239\n",
      "Epoch 145/200\n",
      "25/25 [==============================] - 0s 9ms/step - loss: 0.0921 - accuracy: 0.9644 - val_loss: 0.3207 - val_accuracy: 0.9239\n",
      "Epoch 146/200\n",
      "25/25 [==============================] - 0s 9ms/step - loss: 0.0828 - accuracy: 0.9657 - val_loss: 0.3224 - val_accuracy: 0.9188\n",
      "Epoch 147/200\n",
      "25/25 [==============================] - 0s 9ms/step - loss: 0.0993 - accuracy: 0.9695 - val_loss: 0.3208 - val_accuracy: 0.9188\n",
      "Epoch 148/200\n",
      "25/25 [==============================] - 0s 9ms/step - loss: 0.0881 - accuracy: 0.9720 - val_loss: 0.3194 - val_accuracy: 0.9188\n",
      "Epoch 149/200\n",
      "25/25 [==============================] - 0s 9ms/step - loss: 0.1148 - accuracy: 0.9657 - val_loss: 0.3177 - val_accuracy: 0.9188\n",
      "Epoch 150/200\n",
      "25/25 [==============================] - 0s 9ms/step - loss: 0.0764 - accuracy: 0.9720 - val_loss: 0.3202 - val_accuracy: 0.9239\n",
      "Epoch 151/200\n",
      "25/25 [==============================] - 0s 8ms/step - loss: 0.0799 - accuracy: 0.9733 - val_loss: 0.3226 - val_accuracy: 0.9188\n",
      "Epoch 152/200\n",
      "25/25 [==============================] - 0s 9ms/step - loss: 0.0876 - accuracy: 0.9695 - val_loss: 0.3221 - val_accuracy: 0.9188\n",
      "Epoch 153/200\n",
      "25/25 [==============================] - 0s 9ms/step - loss: 0.0953 - accuracy: 0.9695 - val_loss: 0.3213 - val_accuracy: 0.9239\n",
      "Epoch 154/200\n",
      "25/25 [==============================] - 0s 8ms/step - loss: 0.0850 - accuracy: 0.9657 - val_loss: 0.3250 - val_accuracy: 0.9188\n",
      "Epoch 155/200\n",
      "25/25 [==============================] - 0s 9ms/step - loss: 0.0940 - accuracy: 0.9644 - val_loss: 0.3279 - val_accuracy: 0.9188\n",
      "Epoch 156/200\n",
      "25/25 [==============================] - 0s 9ms/step - loss: 0.0926 - accuracy: 0.9632 - val_loss: 0.3231 - val_accuracy: 0.9188\n",
      "Epoch 157/200\n",
      "25/25 [==============================] - 0s 9ms/step - loss: 0.0792 - accuracy: 0.9759 - val_loss: 0.3202 - val_accuracy: 0.9188\n",
      "Epoch 158/200\n",
      "25/25 [==============================] - 0s 9ms/step - loss: 0.0990 - accuracy: 0.9657 - val_loss: 0.3253 - val_accuracy: 0.9188\n",
      "Epoch 159/200\n",
      "25/25 [==============================] - 0s 9ms/step - loss: 0.1008 - accuracy: 0.9632 - val_loss: 0.3222 - val_accuracy: 0.9239\n",
      "Epoch 160/200\n",
      "25/25 [==============================] - 0s 8ms/step - loss: 0.0948 - accuracy: 0.9670 - val_loss: 0.3215 - val_accuracy: 0.9239\n",
      "Epoch 161/200\n",
      "25/25 [==============================] - 0s 9ms/step - loss: 0.0867 - accuracy: 0.9708 - val_loss: 0.3233 - val_accuracy: 0.9188\n",
      "Epoch 162/200\n",
      "25/25 [==============================] - 0s 9ms/step - loss: 0.0905 - accuracy: 0.9708 - val_loss: 0.3250 - val_accuracy: 0.9188\n",
      "Epoch 163/200\n",
      "25/25 [==============================] - 0s 9ms/step - loss: 0.0873 - accuracy: 0.9644 - val_loss: 0.3245 - val_accuracy: 0.9239\n",
      "Epoch 164/200\n",
      "25/25 [==============================] - 0s 8ms/step - loss: 0.0768 - accuracy: 0.9720 - val_loss: 0.3255 - val_accuracy: 0.9239\n",
      "Epoch 165/200\n",
      "25/25 [==============================] - 0s 9ms/step - loss: 0.0880 - accuracy: 0.9733 - val_loss: 0.3297 - val_accuracy: 0.9188\n",
      "Epoch 166/200\n",
      "25/25 [==============================] - 0s 9ms/step - loss: 0.0904 - accuracy: 0.9708 - val_loss: 0.3311 - val_accuracy: 0.9188\n",
      "Epoch 167/200\n",
      "25/25 [==============================] - 0s 10ms/step - loss: 0.0786 - accuracy: 0.9733 - val_loss: 0.3325 - val_accuracy: 0.9188\n",
      "Epoch 168/200\n",
      "25/25 [==============================] - 0s 9ms/step - loss: 0.0828 - accuracy: 0.9682 - val_loss: 0.3329 - val_accuracy: 0.9137\n",
      "Epoch 169/200\n",
      "25/25 [==============================] - 0s 9ms/step - loss: 0.0888 - accuracy: 0.9670 - val_loss: 0.3328 - val_accuracy: 0.9137\n",
      "Epoch 170/200\n",
      "25/25 [==============================] - 0s 9ms/step - loss: 0.0986 - accuracy: 0.9581 - val_loss: 0.3314 - val_accuracy: 0.9188\n",
      "Epoch 171/200\n",
      "25/25 [==============================] - 0s 9ms/step - loss: 0.0997 - accuracy: 0.9720 - val_loss: 0.3313 - val_accuracy: 0.9086\n",
      "Epoch 172/200\n",
      "25/25 [==============================] - 0s 9ms/step - loss: 0.0783 - accuracy: 0.9670 - val_loss: 0.3340 - val_accuracy: 0.9086\n",
      "Epoch 173/200\n",
      "25/25 [==============================] - 0s 9ms/step - loss: 0.0790 - accuracy: 0.9720 - val_loss: 0.3370 - val_accuracy: 0.9137\n",
      "Epoch 174/200\n",
      "25/25 [==============================] - 0s 9ms/step - loss: 0.0741 - accuracy: 0.9759 - val_loss: 0.3399 - val_accuracy: 0.9188\n",
      "Epoch 175/200\n",
      "25/25 [==============================] - 0s 9ms/step - loss: 0.0806 - accuracy: 0.9695 - val_loss: 0.3377 - val_accuracy: 0.9188\n",
      "Epoch 176/200\n",
      "25/25 [==============================] - 0s 9ms/step - loss: 0.0855 - accuracy: 0.9657 - val_loss: 0.3368 - val_accuracy: 0.9188\n",
      "Epoch 177/200\n",
      "25/25 [==============================] - 0s 9ms/step - loss: 0.0980 - accuracy: 0.9593 - val_loss: 0.3378 - val_accuracy: 0.9188\n",
      "Epoch 178/200\n",
      "25/25 [==============================] - 0s 9ms/step - loss: 0.0782 - accuracy: 0.9695 - val_loss: 0.3377 - val_accuracy: 0.9188\n",
      "Epoch 179/200\n",
      "25/25 [==============================] - 0s 9ms/step - loss: 0.0957 - accuracy: 0.9644 - val_loss: 0.3357 - val_accuracy: 0.9188\n",
      "Epoch 180/200\n",
      "25/25 [==============================] - 0s 9ms/step - loss: 0.0855 - accuracy: 0.9670 - val_loss: 0.3340 - val_accuracy: 0.9239\n",
      "Epoch 181/200\n",
      "25/25 [==============================] - 0s 9ms/step - loss: 0.0683 - accuracy: 0.9759 - val_loss: 0.3315 - val_accuracy: 0.9188\n",
      "Epoch 182/200\n",
      "25/25 [==============================] - 0s 9ms/step - loss: 0.0845 - accuracy: 0.9670 - val_loss: 0.3335 - val_accuracy: 0.9239\n",
      "Epoch 183/200\n",
      "25/25 [==============================] - 0s 9ms/step - loss: 0.0806 - accuracy: 0.9746 - val_loss: 0.3347 - val_accuracy: 0.9188\n",
      "Epoch 184/200\n",
      "25/25 [==============================] - 0s 9ms/step - loss: 0.0840 - accuracy: 0.9670 - val_loss: 0.3351 - val_accuracy: 0.9188\n",
      "Epoch 185/200\n",
      "25/25 [==============================] - 0s 8ms/step - loss: 0.0788 - accuracy: 0.9759 - val_loss: 0.3406 - val_accuracy: 0.9188\n",
      "Epoch 186/200\n",
      "25/25 [==============================] - 0s 9ms/step - loss: 0.0783 - accuracy: 0.9797 - val_loss: 0.3462 - val_accuracy: 0.9188\n",
      "Epoch 187/200\n",
      "25/25 [==============================] - 0s 10ms/step - loss: 0.0849 - accuracy: 0.9708 - val_loss: 0.3463 - val_accuracy: 0.9137\n",
      "Epoch 188/200\n",
      "25/25 [==============================] - 0s 8ms/step - loss: 0.0834 - accuracy: 0.9708 - val_loss: 0.3482 - val_accuracy: 0.9137\n",
      "Epoch 189/200\n",
      "25/25 [==============================] - 0s 9ms/step - loss: 0.1009 - accuracy: 0.9632 - val_loss: 0.3444 - val_accuracy: 0.9188\n",
      "Epoch 190/200\n",
      "25/25 [==============================] - 0s 9ms/step - loss: 0.0774 - accuracy: 0.9695 - val_loss: 0.3466 - val_accuracy: 0.9137\n",
      "Epoch 191/200\n",
      "25/25 [==============================] - 0s 9ms/step - loss: 0.0921 - accuracy: 0.9682 - val_loss: 0.3463 - val_accuracy: 0.9086\n",
      "Epoch 192/200\n",
      "25/25 [==============================] - 0s 9ms/step - loss: 0.0820 - accuracy: 0.9695 - val_loss: 0.3500 - val_accuracy: 0.9137\n",
      "Epoch 193/200\n",
      "25/25 [==============================] - 0s 9ms/step - loss: 0.0800 - accuracy: 0.9657 - val_loss: 0.3485 - val_accuracy: 0.9137\n",
      "Epoch 194/200\n",
      "25/25 [==============================] - 0s 9ms/step - loss: 0.0844 - accuracy: 0.9682 - val_loss: 0.3453 - val_accuracy: 0.9137\n",
      "Epoch 195/200\n",
      "25/25 [==============================] - 0s 9ms/step - loss: 0.0668 - accuracy: 0.9784 - val_loss: 0.3436 - val_accuracy: 0.9137\n",
      "Epoch 196/200\n",
      "25/25 [==============================] - 0s 9ms/step - loss: 0.0704 - accuracy: 0.9771 - val_loss: 0.3453 - val_accuracy: 0.9137\n",
      "Epoch 197/200\n",
      "25/25 [==============================] - 0s 10ms/step - loss: 0.0730 - accuracy: 0.9746 - val_loss: 0.3461 - val_accuracy: 0.9137\n",
      "Epoch 198/200\n",
      "25/25 [==============================] - 0s 9ms/step - loss: 0.0892 - accuracy: 0.9708 - val_loss: 0.3430 - val_accuracy: 0.9137\n",
      "Epoch 199/200\n",
      "25/25 [==============================] - 0s 9ms/step - loss: 0.0682 - accuracy: 0.9797 - val_loss: 0.3480 - val_accuracy: 0.9137\n",
      "Epoch 200/200\n",
      "25/25 [==============================] - 0s 9ms/step - loss: 0.0823 - accuracy: 0.9682 - val_loss: 0.3470 - val_accuracy: 0.9137\n"
     ]
    }
   ],
   "source": [
    "epochs = 200\n",
    "model = Sequential()\n",
    "model.add(Conv1D(32, 2, activation='relu', input_shape = X_train[0].shape))\n",
    "model.add(BatchNormalization())\n",
    "model.add(Dropout(0.2))\n",
    "\n",
    "model.add(Conv1D(64, 2, activation='relu'))\n",
    "model.add(BatchNormalization())\n",
    "model.add(Dropout(0.5))\n",
    "\n",
    "model.add(Flatten())\n",
    "model.add(Dense(64, activation='relu'))\n",
    "model.add(Dropout(0.5))\n",
    "\n",
    "model.add(Dense(1, activation='sigmoid'))\n",
    "\n",
    "model.compile(optimizer=Adam(lr=0.0001), loss = 'binary_crossentropy', metrics=['accuracy'])\n",
    "history = model.fit(X_train, y_train, epochs=epochs, validation_data=(X_test, y_test), verbose=1)"
   ]
  },
  {
   "cell_type": "code",
   "execution_count": 29,
   "metadata": {
    "colab": {
     "base_uri": "https://localhost:8080/",
     "height": 573
    },
    "id": "SrIjYm6-4gBr",
    "outputId": "6680b7cf-59d8-4135-df1a-a6732f39ef93"
   },
   "outputs": [
    {
     "data": {
      "image/png": "[encoded data removed]",
      "text/plain": [
       "<Figure size 432x288 with 1 Axes>"
      ]
     },
     "metadata": {
      "needs_background": "light",
      "tags": []
     },
     "output_type": "display_data"
    },
    {
     "data": {
      "image/png": "[encoded data removed]",
      "text/plain": [
       "<Figure size 432x288 with 1 Axes>"
      ]
     },
     "metadata": {
      "needs_background": "light",
      "tags": []
     },
     "output_type": "display_data"
    }
   ],
   "source": [
    "plot_learningCurve(history, epochs)"
   ]
  },
  {
   "cell_type": "markdown",
   "metadata": {
    "id": "bX911VTZ6aCw"
   },
   "source": [
    "We are still facing Overfiiting problem. Now, lets add  MaxPool and increase the epoch. Further, we are also increasing the number of layers."
   ]
  },
  {
   "cell_type": "code",
   "execution_count": 32,
   "metadata": {
    "colab": {
     "base_uri": "https://localhost:8080/"
    },
    "id": "QkaDov5W4gEk",
    "outputId": "46020324-3aae-4986-f8ee-555f4b0ac0ce"
   },
   "outputs": [
    {
     "name": "stdout",
     "output_type": "stream",
     "text": [
      "Epoch 1/75\n",
      "25/25 [==============================] - 0s 15ms/step - loss: 0.9073 - accuracy: 0.5947 - val_loss: 0.6573 - val_accuracy: 0.7919\n",
      "Epoch 2/75\n",
      "25/25 [==============================] - 0s 8ms/step - loss: 0.8626 - accuracy: 0.6404 - val_loss: 0.6411 - val_accuracy: 0.7107\n",
      "Epoch 3/75\n",
      "25/25 [==============================] - 0s 9ms/step - loss: 0.6624 - accuracy: 0.6925 - val_loss: 0.6229 - val_accuracy: 0.6751\n",
      "Epoch 4/75\n",
      "25/25 [==============================] - 0s 8ms/step - loss: 0.6332 - accuracy: 0.7090 - val_loss: 0.6022 - val_accuracy: 0.6751\n",
      "Epoch 5/75\n",
      "25/25 [==============================] - 0s 8ms/step - loss: 0.6264 - accuracy: 0.7370 - val_loss: 0.5787 - val_accuracy: 0.6904\n",
      "Epoch 6/75\n",
      "25/25 [==============================] - 0s 8ms/step - loss: 0.5347 - accuracy: 0.7586 - val_loss: 0.5571 - val_accuracy: 0.6904\n",
      "Epoch 7/75\n",
      "25/25 [==============================] - 0s 8ms/step - loss: 0.4834 - accuracy: 0.7840 - val_loss: 0.5323 - val_accuracy: 0.6954\n",
      "Epoch 8/75\n",
      "25/25 [==============================] - 0s 9ms/step - loss: 0.5092 - accuracy: 0.7840 - val_loss: 0.5078 - val_accuracy: 0.7157\n",
      "Epoch 9/75\n",
      "25/25 [==============================] - 0s 8ms/step - loss: 0.4564 - accuracy: 0.8170 - val_loss: 0.4828 - val_accuracy: 0.7513\n",
      "Epoch 10/75\n",
      "25/25 [==============================] - 0s 8ms/step - loss: 0.4857 - accuracy: 0.7878 - val_loss: 0.4576 - val_accuracy: 0.7817\n",
      "Epoch 11/75\n",
      "25/25 [==============================] - 0s 8ms/step - loss: 0.4561 - accuracy: 0.8069 - val_loss: 0.4285 - val_accuracy: 0.8071\n",
      "Epoch 12/75\n",
      "25/25 [==============================] - 0s 8ms/step - loss: 0.4354 - accuracy: 0.8208 - val_loss: 0.4084 - val_accuracy: 0.8274\n",
      "Epoch 13/75\n",
      "25/25 [==============================] - 0s 8ms/step - loss: 0.4321 - accuracy: 0.8234 - val_loss: 0.3867 - val_accuracy: 0.8325\n",
      "Epoch 14/75\n",
      "25/25 [==============================] - 0s 8ms/step - loss: 0.3909 - accuracy: 0.8488 - val_loss: 0.3720 - val_accuracy: 0.8528\n",
      "Epoch 15/75\n",
      "25/25 [==============================] - 0s 8ms/step - loss: 0.3474 - accuracy: 0.8539 - val_loss: 0.3612 - val_accuracy: 0.8579\n",
      "Epoch 16/75\n",
      "25/25 [==============================] - 0s 8ms/step - loss: 0.3769 - accuracy: 0.8437 - val_loss: 0.3520 - val_accuracy: 0.8579\n",
      "Epoch 17/75\n",
      "25/25 [==============================] - 0s 8ms/step - loss: 0.3983 - accuracy: 0.8450 - val_loss: 0.3451 - val_accuracy: 0.8579\n",
      "Epoch 18/75\n",
      "25/25 [==============================] - 0s 8ms/step - loss: 0.3338 - accuracy: 0.8653 - val_loss: 0.3401 - val_accuracy: 0.8579\n",
      "Epoch 19/75\n",
      "25/25 [==============================] - 0s 8ms/step - loss: 0.3420 - accuracy: 0.8818 - val_loss: 0.3350 - val_accuracy: 0.8629\n",
      "Epoch 20/75\n",
      "25/25 [==============================] - 0s 8ms/step - loss: 0.3544 - accuracy: 0.8640 - val_loss: 0.3300 - val_accuracy: 0.8629\n",
      "Epoch 21/75\n",
      "25/25 [==============================] - 0s 8ms/step - loss: 0.3698 - accuracy: 0.8679 - val_loss: 0.3243 - val_accuracy: 0.8629\n",
      "Epoch 22/75\n",
      "25/25 [==============================] - 0s 8ms/step - loss: 0.3557 - accuracy: 0.8602 - val_loss: 0.3223 - val_accuracy: 0.8680\n",
      "Epoch 23/75\n",
      "25/25 [==============================] - 0s 8ms/step - loss: 0.3879 - accuracy: 0.8475 - val_loss: 0.3195 - val_accuracy: 0.8731\n",
      "Epoch 24/75\n",
      "25/25 [==============================] - 0s 8ms/step - loss: 0.3399 - accuracy: 0.8755 - val_loss: 0.3187 - val_accuracy: 0.8731\n",
      "Epoch 25/75\n",
      "25/25 [==============================] - 0s 8ms/step - loss: 0.3185 - accuracy: 0.8780 - val_loss: 0.3158 - val_accuracy: 0.8731\n",
      "Epoch 26/75\n",
      "25/25 [==============================] - 0s 8ms/step - loss: 0.3381 - accuracy: 0.8742 - val_loss: 0.3143 - val_accuracy: 0.8731\n",
      "Epoch 27/75\n",
      "25/25 [==============================] - 0s 8ms/step - loss: 0.3632 - accuracy: 0.8640 - val_loss: 0.3121 - val_accuracy: 0.8731\n",
      "Epoch 28/75\n",
      "25/25 [==============================] - 0s 8ms/step - loss: 0.3484 - accuracy: 0.8704 - val_loss: 0.3116 - val_accuracy: 0.8731\n",
      "Epoch 29/75\n",
      "25/25 [==============================] - 0s 8ms/step - loss: 0.3094 - accuracy: 0.8882 - val_loss: 0.3123 - val_accuracy: 0.8731\n",
      "Epoch 30/75\n",
      "25/25 [==============================] - 0s 8ms/step - loss: 0.3129 - accuracy: 0.8793 - val_loss: 0.3110 - val_accuracy: 0.8731\n",
      "Epoch 31/75\n",
      "25/25 [==============================] - 0s 8ms/step - loss: 0.3446 - accuracy: 0.8831 - val_loss: 0.3096 - val_accuracy: 0.8782\n",
      "Epoch 32/75\n",
      "25/25 [==============================] - 0s 8ms/step - loss: 0.3031 - accuracy: 0.8856 - val_loss: 0.3104 - val_accuracy: 0.8782\n",
      "Epoch 33/75\n",
      "25/25 [==============================] - 0s 8ms/step - loss: 0.3193 - accuracy: 0.8920 - val_loss: 0.3088 - val_accuracy: 0.8782\n",
      "Epoch 34/75\n",
      "25/25 [==============================] - 0s 9ms/step - loss: 0.2938 - accuracy: 0.8958 - val_loss: 0.3091 - val_accuracy: 0.8782\n",
      "Epoch 35/75\n",
      "25/25 [==============================] - 0s 9ms/step - loss: 0.3292 - accuracy: 0.8717 - val_loss: 0.3086 - val_accuracy: 0.8782\n",
      "Epoch 36/75\n",
      "25/25 [==============================] - 0s 8ms/step - loss: 0.3083 - accuracy: 0.8895 - val_loss: 0.3066 - val_accuracy: 0.8782\n",
      "Epoch 37/75\n",
      "25/25 [==============================] - 0s 8ms/step - loss: 0.2968 - accuracy: 0.8996 - val_loss: 0.3065 - val_accuracy: 0.8782\n",
      "Epoch 38/75\n",
      "25/25 [==============================] - 0s 8ms/step - loss: 0.2807 - accuracy: 0.8882 - val_loss: 0.3063 - val_accuracy: 0.8782\n",
      "Epoch 39/75\n",
      "25/25 [==============================] - 0s 8ms/step - loss: 0.3030 - accuracy: 0.8907 - val_loss: 0.3065 - val_accuracy: 0.8782\n",
      "Epoch 40/75\n",
      "25/25 [==============================] - 0s 8ms/step - loss: 0.2634 - accuracy: 0.9009 - val_loss: 0.3057 - val_accuracy: 0.8782\n",
      "Epoch 41/75\n",
      "25/25 [==============================] - 0s 8ms/step - loss: 0.3040 - accuracy: 0.8882 - val_loss: 0.3038 - val_accuracy: 0.8782\n",
      "Epoch 42/75\n",
      "25/25 [==============================] - 0s 8ms/step - loss: 0.2865 - accuracy: 0.8882 - val_loss: 0.3004 - val_accuracy: 0.8782\n",
      "Epoch 43/75\n",
      "25/25 [==============================] - 0s 9ms/step - loss: 0.2843 - accuracy: 0.8971 - val_loss: 0.2991 - val_accuracy: 0.8782\n",
      "Epoch 44/75\n",
      "25/25 [==============================] - 0s 8ms/step - loss: 0.2842 - accuracy: 0.8895 - val_loss: 0.2982 - val_accuracy: 0.8782\n",
      "Epoch 45/75\n",
      "25/25 [==============================] - 0s 8ms/step - loss: 0.2810 - accuracy: 0.8971 - val_loss: 0.2981 - val_accuracy: 0.8782\n",
      "Epoch 46/75\n",
      "25/25 [==============================] - 0s 8ms/step - loss: 0.2932 - accuracy: 0.8920 - val_loss: 0.2985 - val_accuracy: 0.8782\n",
      "Epoch 47/75\n",
      "25/25 [==============================] - 0s 8ms/step - loss: 0.2976 - accuracy: 0.9034 - val_loss: 0.2952 - val_accuracy: 0.8832\n",
      "Epoch 48/75\n",
      "25/25 [==============================] - 0s 8ms/step - loss: 0.2601 - accuracy: 0.9022 - val_loss: 0.2931 - val_accuracy: 0.8832\n",
      "Epoch 49/75\n",
      "25/25 [==============================] - 0s 8ms/step - loss: 0.2879 - accuracy: 0.9098 - val_loss: 0.2906 - val_accuracy: 0.8782\n",
      "Epoch 50/75\n",
      "25/25 [==============================] - 0s 8ms/step - loss: 0.2330 - accuracy: 0.9212 - val_loss: 0.2902 - val_accuracy: 0.8782\n",
      "Epoch 51/75\n",
      "25/25 [==============================] - 0s 8ms/step - loss: 0.2681 - accuracy: 0.9072 - val_loss: 0.2897 - val_accuracy: 0.8782\n",
      "Epoch 52/75\n",
      "25/25 [==============================] - 0s 8ms/step - loss: 0.2597 - accuracy: 0.9123 - val_loss: 0.2900 - val_accuracy: 0.8782\n",
      "Epoch 53/75\n",
      "25/25 [==============================] - 0s 8ms/step - loss: 0.2852 - accuracy: 0.8945 - val_loss: 0.2880 - val_accuracy: 0.8782\n",
      "Epoch 54/75\n",
      "25/25 [==============================] - 0s 8ms/step - loss: 0.2832 - accuracy: 0.9022 - val_loss: 0.2857 - val_accuracy: 0.8782\n",
      "Epoch 55/75\n",
      "25/25 [==============================] - 0s 8ms/step - loss: 0.2694 - accuracy: 0.8971 - val_loss: 0.2850 - val_accuracy: 0.8782\n",
      "Epoch 56/75\n",
      "25/25 [==============================] - 0s 8ms/step - loss: 0.2694 - accuracy: 0.9098 - val_loss: 0.2837 - val_accuracy: 0.8782\n",
      "Epoch 57/75\n",
      "25/25 [==============================] - 0s 8ms/step - loss: 0.2437 - accuracy: 0.9072 - val_loss: 0.2842 - val_accuracy: 0.8782\n",
      "Epoch 58/75\n",
      "25/25 [==============================] - 0s 8ms/step - loss: 0.2544 - accuracy: 0.9072 - val_loss: 0.2824 - val_accuracy: 0.8782\n",
      "Epoch 59/75\n",
      "25/25 [==============================] - 0s 9ms/step - loss: 0.2578 - accuracy: 0.9047 - val_loss: 0.2819 - val_accuracy: 0.8782\n",
      "Epoch 60/75\n",
      "25/25 [==============================] - 0s 8ms/step - loss: 0.2653 - accuracy: 0.8971 - val_loss: 0.2812 - val_accuracy: 0.8782\n",
      "Epoch 61/75\n",
      "25/25 [==============================] - 0s 8ms/step - loss: 0.2655 - accuracy: 0.8983 - val_loss: 0.2799 - val_accuracy: 0.8883\n",
      "Epoch 62/75\n",
      "25/25 [==============================] - 0s 8ms/step - loss: 0.2428 - accuracy: 0.9199 - val_loss: 0.2792 - val_accuracy: 0.8883\n",
      "Epoch 63/75\n",
      "25/25 [==============================] - 0s 8ms/step - loss: 0.2849 - accuracy: 0.8907 - val_loss: 0.2794 - val_accuracy: 0.8883\n",
      "Epoch 64/75\n",
      "25/25 [==============================] - 0s 8ms/step - loss: 0.2381 - accuracy: 0.9174 - val_loss: 0.2782 - val_accuracy: 0.8883\n",
      "Epoch 65/75\n",
      "25/25 [==============================] - 0s 9ms/step - loss: 0.2524 - accuracy: 0.9149 - val_loss: 0.2771 - val_accuracy: 0.8883\n",
      "Epoch 66/75\n",
      "25/25 [==============================] - 0s 8ms/step - loss: 0.2549 - accuracy: 0.9098 - val_loss: 0.2759 - val_accuracy: 0.8883\n",
      "Epoch 67/75\n",
      "25/25 [==============================] - 0s 8ms/step - loss: 0.2394 - accuracy: 0.9085 - val_loss: 0.2750 - val_accuracy: 0.8883\n",
      "Epoch 68/75\n",
      "25/25 [==============================] - 0s 8ms/step - loss: 0.2462 - accuracy: 0.9123 - val_loss: 0.2758 - val_accuracy: 0.8883\n",
      "Epoch 69/75\n",
      "25/25 [==============================] - 0s 8ms/step - loss: 0.2462 - accuracy: 0.9136 - val_loss: 0.2740 - val_accuracy: 0.8883\n",
      "Epoch 70/75\n",
      "25/25 [==============================] - 0s 8ms/step - loss: 0.2561 - accuracy: 0.9085 - val_loss: 0.2744 - val_accuracy: 0.8883\n",
      "Epoch 71/75\n",
      "25/25 [==============================] - 0s 8ms/step - loss: 0.2473 - accuracy: 0.9187 - val_loss: 0.2733 - val_accuracy: 0.8934\n",
      "Epoch 72/75\n",
      "25/25 [==============================] - 0s 8ms/step - loss: 0.2405 - accuracy: 0.9111 - val_loss: 0.2723 - val_accuracy: 0.8934\n",
      "Epoch 73/75\n",
      "25/25 [==============================] - 0s 9ms/step - loss: 0.2471 - accuracy: 0.9136 - val_loss: 0.2718 - val_accuracy: 0.8934\n",
      "Epoch 74/75\n",
      "25/25 [==============================] - 0s 8ms/step - loss: 0.2512 - accuracy: 0.9085 - val_loss: 0.2699 - val_accuracy: 0.8934\n",
      "Epoch 75/75\n",
      "25/25 [==============================] - 0s 8ms/step - loss: 0.2381 - accuracy: 0.9111 - val_loss: 0.2688 - val_accuracy: 0.8934\n"
     ]
    }
   ],
   "source": [
    "epochs = 75\n",
    "model = Sequential()\n",
    "model.add(Conv1D(32, 2, activation='relu', input_shape = X_train[0].shape))\n",
    "model.add(BatchNormalization())\n",
    "model.add(MaxPool1D(2))\n",
    "model.add(Dropout(0.2))\n",
    "\n",
    "model.add(Conv1D(64, 2, activation='relu'))\n",
    "model.add(BatchNormalization())\n",
    "model.add(MaxPool1D(2))\n",
    "model.add(Dropout(0.5))\n",
    "\n",
    "model.add(Conv1D(128, 2, activation='relu'))\n",
    "model.add(BatchNormalization())\n",
    "model.add(MaxPool1D(2))\n",
    "model.add(Dropout(0.5))\n",
    "\n",
    "\n",
    "\n",
    "\n",
    "model.add(Flatten())\n",
    "model.add(Dense(64, activation='relu'))\n",
    "model.add(Dropout(0.5))\n",
    "\n",
    "model.add(Dense(1, activation='sigmoid'))\n",
    "\n",
    "model.compile(optimizer=Adam(lr=0.0001), loss = 'binary_crossentropy', metrics=['accuracy'])\n",
    "history = model.fit(X_train, y_train, epochs=epochs, validation_data=(X_test, y_test), verbose=1)"
   ]
  },
  {
   "cell_type": "code",
   "execution_count": 33,
   "metadata": {
    "colab": {
     "base_uri": "https://localhost:8080/",
     "height": 573
    },
    "id": "QSdii-pj7Hhh",
    "outputId": "010236ed-4513-492b-ef2a-6e75d57c3100"
   },
   "outputs": [
    {
     "data": {
      "image/png": "[encoded data removed]",
      "text/plain": [
       "<Figure size 432x288 with 1 Axes>"
      ]
     },
     "metadata": {
      "needs_background": "light",
      "tags": []
     },
     "output_type": "display_data"
    },
    {
     "data": {
      "image/png": "[encoded data removed]",
      "text/plain": [
       "<Figure size 432x288 with 1 Axes>"
      ]
     },
     "metadata": {
      "needs_background": "light",
      "tags": []
     },
     "output_type": "display_data"
    }
   ],
   "source": [
    "plot_learningCurve(history, epochs)"
   ]
  },
  {
   "cell_type": "markdown",
   "metadata": {
    "id": "UqWS-ALf7SEg"
   },
   "source": [
    "**Conclusion:**\n",
    "\n",
    " Hence, we have achieved better results as the entire overfiiting is removed by Hyperparameter tuning."
   ]
  }
 ],
 "metadata": {
  "colab": {
   "name": "Credit Card Fraud Detection using CNN.ipynb",
   "provenance": []
  },
  "kernelspec": {
   "display_name": "Python 3",
   "language": "python",
   "name": "python3"
  },
  "language_info": {
   "codemirror_mode": {
    "name": "ipython",
    "version": 3
   },
   "file_extension": ".py",
   "mimetype": "text/x-python",
   "name": "python",
   "nbconvert_exporter": "python",
   "pygments_lexer": "ipython3",
   "version": "3.8.3"
  }
 },
 "nbformat": 4,
 "nbformat_minor": 1
}
